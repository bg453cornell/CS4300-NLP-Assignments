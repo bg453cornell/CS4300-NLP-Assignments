{
 "cells": [
  {
   "cell_type": "markdown",
   "metadata": {
    "deletable": false,
    "editable": false,
    "nbgrader": {
     "checksum": "b64a224a0caeefcba30228ad75526189",
     "grade": false,
     "grade_id": "cell-05fb407e20c068e6",
     "locked": true,
     "schema_version": 1,
     "solution": false
    }
   },
   "source": [
    "# Assignment 5: \"No one can be told what the Ranktrix is. You have to see it for yourself.\"\n",
    "\n",
    "## © Cristian Danescu-Niculescu-Mizil 2018\n",
    "\n",
    "## CS/INFO 4300 Language and Information\n",
    "\n",
    "### Due by midnight on Wednesday March 7th\n",
    "\n",
    "**Guidelines**\n",
    "\n",
    "For code completion tasks, just type your code after the comment marking the place.  For questions, use as many notebook cells as needed to compute intermediate stuff. All floating point values should be printed with 2 decimal places precision.\n",
    "\n",
    "You are strongly encouraged to write sensible **test cases** for your code.\n",
    "\n",
    "This is an **individual** assignment.\n",
    "\n",
    "If you use any outside sources (e.g. research papers, StackOverflow) please list your sources.\n",
    "\n",
    "In this assignment we will explore evaluation of an information retrevial system where both queries and results are movies. Ever wanted to know what the most similar movie to \"The Matrix\" is, in terms of language? Now is your chance! You take the blue pill - the story ends, you wake up in your dorm on west campus and believe whatever you want to believe. You take the red pill - you stay in CS/INFO 4300 and we show you how deep the rabbit-hole goes.\n",
    "\n",
    "**Guidelines**\n",
    "\n",
    "All cells that contain the blocks that read `# YOUR CODE HERE` are editable and are to be completed to ensure you pass the test-cases. Make sure to write your code where indicated.\n",
    "\n",
    "All cells that read `YOUR ANSWER HERE` are free-response cells that are editable and are to be completed.\n",
    "\n",
    "You may use any number of notebook cells to explore the data and test out your functions, although you will only be graded on the solution itself.\n",
    "\n",
    "\n",
    "You are unable to modify the read-only cells.\n",
    "\n",
    "You should also use Markdown cells to explain your code and discuss your results when necessary.\n",
    "Instructions can be found [here](http://jupyter-notebook.readthedocs.io/en/latest/examples/Notebook/Working%20With%20Markdown%20Cells.html).\n",
    "\n",
    "All floating point values should be printed with **2 decimal places** precision. You can do so using the built-in round function.\n",
    "\n",
    "**Grading**\n",
    "\n",
    "For code-completion questions you will be graded on passing the public test cases we have included, as well as any hidden test cases that we have supplemented to ensure that your logic is correct.\n",
    "\n",
    "For free-response questions you will be manually graded on the quality of your answer."
   ]
  },
  {
   "cell_type": "markdown",
   "metadata": {
    "deletable": false,
    "editable": false,
    "nbgrader": {
     "checksum": "6bb3673d8fc5d27e703425254049bf28",
     "grade": false,
     "grade_id": "cell-85960141460df3c1",
     "locked": true,
     "schema_version": 1,
     "solution": false
    }
   },
   "source": [
    "## Introduction\n",
    "In this assignment, we will be building a system that allows for you to query for movies similar to a given movie. Unlike before, queries and information retrieved have the same type -- i.e. movies are *both* queries and results. To accomplish this task, we will utilize a dataset of movies and their transcripts. We will begin by using the language contained in the transcripts to do basic queries. We will continue to use the vector space model, encoding \"documents\" (here, a document is a movie script) as tf-idf vectors."
   ]
  },
  {
   "cell_type": "code",
   "execution_count": 1,
   "metadata": {
    "deletable": false,
    "editable": false,
    "nbgrader": {
     "checksum": "6033e53fd6787f47eeedb7bc4fe4d771",
     "grade": false,
     "grade_id": "cell-409acf73e9b10d87",
     "locked": true,
     "schema_version": 1,
     "solution": false
    }
   },
   "outputs": [],
   "source": [
    "from __future__ import print_function\n",
    "from sklearn.feature_extraction.text import TfidfVectorizer\n",
    "import numpy as np\n",
    "from numpy import linalg as LA\n",
    "import json\n",
    "%matplotlib inline\n",
    "import matplotlib.pyplot as plt"
   ]
  },
  {
   "cell_type": "markdown",
   "metadata": {
    "deletable": false,
    "editable": false,
    "nbgrader": {
     "checksum": "aef77cab6183b5e38f5f8442ad482365",
     "grade": false,
     "grade_id": "cell-12fdde1aa8750596",
     "locked": true,
     "schema_version": 1,
     "solution": false
    }
   },
   "source": [
    "## Using sklearn to get tf-idf vectors\n",
    "On the last assignment, we used an inverted index to quickly compute queries by taking advantage of the sparsity of tf-idf vectors in our vector space. However, the dataset we are considering for this assignment is small enough such that we can use explicit vectors, rather than an inverted index, to compute cosine similarities. We also will not be implementing tf-idf by hand -- we will be using an existing implementation from the library [sklearn,](http://scikit-learn.org/stable/) which provides a lot of good implementations of machine learning algorithms in python. We will be making heavy use of this powerful library in later assignments, so using it to extract tfidf features is a good starting point!"
   ]
  },
  {
   "cell_type": "code",
   "execution_count": 2,
   "metadata": {
    "deletable": false,
    "editable": false,
    "nbgrader": {
     "checksum": "64118aaa1b47f8122b7f49c02f2188c1",
     "grade": false,
     "grade_id": "cell-6563bc55c31b7968",
     "locked": true,
     "schema_version": 1,
     "solution": false
    }
   },
   "outputs": [
    {
     "name": "stdout",
     "output_type": "stream",
     "text": [
      "Loaded 617 movie transcripts\n",
      "Each movie transcript is a dictionary with the following keys...\n",
      "dict_keys(['movie_name', 'script', 'movie_id', 'categories'])\n",
      "The index of \"spare me\" is 7\n"
     ]
    }
   ],
   "source": [
    "with open(\"movie_scripts_data.json\") as f:\n",
    "    data = json.loads(f.readlines()[0])\n",
    "num_movies = len(data)\n",
    "print(\"Loaded {} movie transcripts\".format(num_movies))\n",
    "print(\"Each movie transcript is a dictionary with the following keys...\")\n",
    "print(data[0].keys())\n",
    "\n",
    "# Here, we will assign an index for each movie_id. This index will help us access data in numpy matrices.\n",
    "movie_id_to_index = {movie_id:index for index, movie_id in enumerate([d['movie_id'] for d in data])}\n",
    "\n",
    "# We will also need a dictionary maping movie names to movie ids\n",
    "movie_name_to_id = {name:mid for name, mid in zip([d['movie_name'] for d in data],\n",
    "                                                     [d['movie_id'] for d in data])}\n",
    "movie_id_to_name = {v:k for k,v in movie_name_to_id.items()}\n",
    "\n",
    "# and because it might be useful...\n",
    "movie_name_to_index = {name:movie_id_to_index[movie_name_to_id[name]] for name in [d['movie_name'] for d in data]}\n",
    "movie_index_to_name = {v:k for k,v in movie_name_to_index.items()}\n",
    "\n",
    "print(\"The index of \\\"{}\\\" is {}\".format(data[7]['movie_name'], movie_id_to_index[data[7]['movie_id']]))"
   ]
  },
  {
   "cell_type": "markdown",
   "metadata": {
    "deletable": false,
    "editable": false,
    "nbgrader": {
     "checksum": "8122747da17e52a4f657d5607e14a321",
     "grade": false,
     "grade_id": "cell-081a2217d72930ff",
     "locked": true,
     "schema_version": 1,
     "solution": false
    }
   },
   "source": [
    "We can see that each movie is assigned an \"index\" (from 0 to 616). These will correspond to the rows of a document-by-tfidf score matrix."
   ]
  },
  {
   "cell_type": "markdown",
   "metadata": {
    "deletable": false,
    "editable": false,
    "nbgrader": {
     "checksum": "7764f1025771344d7f602b7641811707",
     "grade": false,
     "grade_id": "cell-414c5e6624055e75",
     "locked": true,
     "schema_version": 1,
     "solution": false
    }
   },
   "source": [
    "## Question 1 (Code Completion): TFIDF Vectorizer\n",
    "Read up on sklearn's [tfidf-vectorizer](http://scikit-learn.org/stable/modules/generated/sklearn.feature_extraction.text.TfidfVectorizer.html). This function takes in a list of documents and some parameters related to parsing and outputs a document-by-vocabulary matrix, where entry i,j corresponds to the tfidf score of word j in document i. Your first job is to make a TfidfVectorizer object that includes the following preprocessing properties: it only considers words that appear at least ten times, but in no more than 80% of all documents. Also, it computes a maximum of 5000 features, and doesn't include english stopwords. Finally, it should normalize all tfidf vectors to have an l2 norm of one.\n",
    "\n",
    "Once you've made this object, call it's fit_transform() function on the list of *scripts* (not titles) in data. This should produce a numpy matrix whose shape is the number of documents by the number of words you're considering (which has a maximum of 5000)."
   ]
  },
  {
   "cell_type": "code",
   "execution_count": 3,
   "metadata": {
    "deletable": false,
    "nbgrader": {
     "checksum": "203d3ffa473a3f1f093b3ce0da388a4f",
     "grade": false,
     "grade_id": "build_doc_by_vocab",
     "locked": false,
     "schema_version": 1,
     "solution": true
    }
   },
   "outputs": [
    {
     "name": "stderr",
     "output_type": "stream",
     "text": [
      "/home/bowen/Desktop/assignment5/venv/lib/python3.5/site-packages/sklearn/feature_extraction/text.py:1039: FutureWarning: Conversion of the second argument of issubdtype from `float` to `np.floating` is deprecated. In future, it will be treated as `np.float64 == np.dtype(float).type`.\n",
      "  if hasattr(X, 'dtype') and np.issubdtype(X.dtype, np.float):\n"
     ]
    }
   ],
   "source": [
    "n_feats = 5000\n",
    "doc_by_vocab = np.empty([len(data), n_feats])\n",
    "\n",
    "def build_vectorizer(max_features, stop_words, max_df=0.8, min_df=10, norm='l2'):\n",
    "    \"\"\"Returns a TfidfVectorizer object\n",
    "    \n",
    "    Params: {max_features: Integer,\n",
    "             max_df: Float,\n",
    "             min_df: Float,\n",
    "             norm: String,\n",
    "             stop_words: String}\n",
    "    Returns: TfidfVectorizer\n",
    "    \"\"\"\n",
    "    # YOUR CODE HERE\n",
    "    return TfidfVectorizer(max_features = max_features, stop_words = stop_words, max_df = max_df, \\\n",
    "                          min_df = min_df, norm = norm)\n",
    "    raise NotImplementedError()\n",
    "    \n",
    "tfidf_vec = build_vectorizer(n_feats, \"english\")\n",
    "doc_by_vocab = tfidf_vec.fit_transform([d['script'] for d in data]).toarray()\n",
    "index_to_vocab = {i:v for i, v in enumerate(tfidf_vec.get_feature_names())}"
   ]
  },
  {
   "cell_type": "code",
   "execution_count": 4,
   "metadata": {
    "deletable": false,
    "editable": false,
    "nbgrader": {
     "checksum": "8063bf0b026ef16ac0b031af81dd29dd",
     "grade": true,
     "grade_id": "build_doc_by_vocab_test",
     "locked": true,
     "points": 5,
     "schema_version": 1,
     "solution": false
    }
   },
   "outputs": [],
   "source": [
    "# This is an autograder test. Here we can test the function you just wrote above.\n",
    "\"\"\"Check that build_vectorizer returns the correct output\"\"\"\n",
    "assert type(doc_by_vocab) == np.ndarray\n",
    "assert type(tfidf_vec) == TfidfVectorizer\n",
    "assert sum(doc_by_vocab[2,:]) < 20\n",
    "assert doc_by_vocab.shape == (617, 5000)\n",
    "assert 'zoo' in index_to_vocab.values()"
   ]
  },
  {
   "cell_type": "markdown",
   "metadata": {
    "deletable": false,
    "editable": false,
    "nbgrader": {
     "checksum": "c3261f67052c6ca327443440d0e85ed9",
     "grade": false,
     "grade_id": "cell-44503d2b6b03160a",
     "locked": true,
     "schema_version": 1,
     "solution": false
    }
   },
   "source": [
    "## Question 2 (Code Completion): Cosine Similarity\n",
    "You will implement the function below which takes in the names of two movies and returns the cosine similarity of those two movie transcripts."
   ]
  },
  {
   "cell_type": "code",
   "execution_count": 5,
   "metadata": {
    "deletable": false,
    "nbgrader": {
     "checksum": "06cf523cdc7d6123eef616cc876f3673",
     "grade": false,
     "grade_id": "get_sim",
     "locked": false,
     "schema_version": 1,
     "solution": true
    }
   },
   "outputs": [],
   "source": [
    "def get_sim(mov1, mov2, input_doc_mat, movie_name_to_index):\n",
    "    \"\"\"Returns a float giving the cosine similarity of \n",
    "       the two movie transcripts.\n",
    "    \n",
    "    Params: {mov1: String,\n",
    "             mov2: String,\n",
    "             input_doc_mat: Numpy Array,\n",
    "             movie_name_to_index: Dict}\n",
    "    Returns: Float (Cosine similarity of the two movie transcripts.)\n",
    "    \"\"\"\n",
    "    # YOUR CODE HERE\n",
    "    idx1 = movie_name_to_index[mov1]\n",
    "    idx2 = movie_name_to_index[mov2]\n",
    "    numerator = np.dot(input_doc_mat[idx1], input_doc_mat[idx2])\n",
    "    denominator = np.sqrt(np.sum(np.square(input_doc_mat[idx1])))*\\\n",
    "                    np.sqrt(np.sum(np.square(input_doc_mat[idx2])))\n",
    "    return numerator/denominator\n",
    "    raise NotImplementedError()"
   ]
  },
  {
   "cell_type": "code",
   "execution_count": 6,
   "metadata": {
    "deletable": false,
    "editable": false,
    "nbgrader": {
     "checksum": "e3e36aec957b643163603e984734fff7",
     "grade": true,
     "grade_id": "get_sim_test",
     "locked": true,
     "points": 10,
     "schema_version": 1,
     "solution": false
    }
   },
   "outputs": [
    {
     "name": "stdout",
     "output_type": "stream",
     "text": [
      "Similarity: Star Wars vs. Jurassic Park\n",
      "======\n",
      "0.06579339531549762\n",
      "\n",
      "Similarity: Star Wars vs. Star Trek: Generations\n",
      "======\n",
      "0.21443120458852555\n"
     ]
    }
   ],
   "source": [
    "# This is an autograder test. Here we can test the function you just wrote above.\n",
    "\"\"\"Check that get_sim returns the correct output\"\"\"\n",
    "print(\"Similarity: Star Wars vs. Jurassic Park\")\n",
    "print(\"======\")\n",
    "test1 = get_sim('star wars', 'jurassic park', doc_by_vocab, movie_name_to_index)\n",
    "print(test1)\n",
    "assert test1 < 0.07 and test1 > 0.04\n",
    "print(\"\")\n",
    "\n",
    "print(\"Similarity: Star Wars vs. Star Trek: Generations\")\n",
    "print(\"======\")\n",
    "test2 = get_sim('star wars', 'star trek: generations', doc_by_vocab, movie_name_to_index)\n",
    "print(test2)\n",
    "assert test2 < 0.25 and test2 > 0.20\n"
   ]
  },
  {
   "cell_type": "markdown",
   "metadata": {
    "deletable": false,
    "editable": false,
    "nbgrader": {
     "checksum": "11a6dc2d3741dc8b4609eeeef36c81ee",
     "grade": false,
     "grade_id": "cell-f4005b2d38712fdb",
     "locked": true,
     "schema_version": 1,
     "solution": false
    }
   },
   "source": [
    "## Question 3 (Code Completion): Term Similarity\n",
    "Complete the function top_terms, which takes in the names of two movies, and returns the top matching tfidf terms from those two movie transcripts. Consider doing an element-wise product of the two movies' tfidf vectors. If both vectors have a high value for a particular term, then it is contributing to the cosine similarity for each (e.g. if both \"star wars\" and \"jurassic park\" both had high tfidf weights for \"fight,\" then this word would likely be a top_term for the two). After performing the element-wise product, find the indices that produce the highest values."
   ]
  },
  {
   "cell_type": "code",
   "execution_count": 7,
   "metadata": {
    "deletable": false,
    "nbgrader": {
     "checksum": "fa728b1fbda8dd5181395456d40f9977",
     "grade": false,
     "grade_id": "top_terms",
     "locked": false,
     "schema_version": 1,
     "solution": true
    }
   },
   "outputs": [],
   "source": [
    "def top_terms(mov1,mov2, input_doc_mat, index_to_vocab, movie_name_to_index, top_k=10):\n",
    "    \"\"\"Returns a list of the top k similar terms between the\n",
    "        two movie transcripts.\n",
    "    \n",
    "    Params: {mov1: String,\n",
    "             mov2: String,\n",
    "             input_doc_mat: Numpy Array,\n",
    "             movie_name_to_index: Dict,\n",
    "             top_k:Int}\n",
    "    Returns: List \n",
    "    \"\"\"\n",
    "    # YOUR CODE HERE\n",
    "    idx1 = movie_name_to_index[mov1]\n",
    "    idx2 = movie_name_to_index[mov2]\n",
    "    product = np.multiply(input_doc_mat[idx1], input_doc_mat[idx2])\n",
    "    idx_to_product = list(zip(range(len(product)), product))\n",
    "    sorted_ = sorted(idx_to_product, key = lambda x: x[1], reverse = True)[:top_k]\n",
    "    term_idx, _ = zip(*sorted_)\n",
    "    return [index_to_vocab[idx] for idx in term_idx]\n",
    "    raise NotImplementedError()"
   ]
  },
  {
   "cell_type": "code",
   "execution_count": 8,
   "metadata": {
    "deletable": false,
    "editable": false,
    "nbgrader": {
     "checksum": "96a75236bb12e713765169b98cccfa9d",
     "grade": true,
     "grade_id": "top_terms_ans",
     "locked": true,
     "points": 10,
     "schema_version": 1,
     "solution": false
    }
   },
   "outputs": [
    {
     "name": "stdout",
     "output_type": "stream",
     "text": [
      "Top ten terms between: Star Wars and Jurassic Park\n",
      "======\n",
      "power\n",
      "force\n",
      "use\n",
      "control\n",
      "procedures\n",
      "afraid\n",
      "major\n",
      "gear\n",
      "guarantee\n",
      "thousand\n",
      "\n",
      "Top ten terms between: Star Wars and Star Trek: Generations\n",
      "======\n",
      "data\n",
      "sir\n",
      "ship\n",
      "star\n",
      "captain\n",
      "energy\n",
      "information\n",
      "starfleet\n",
      "weapon\n",
      "power\n"
     ]
    }
   ],
   "source": [
    "# This is an autograder test. Here we can test the function you just wrote above.\n",
    "\"\"\"Check that get_sim returns the correct output\"\"\"\n",
    "print(\"Top ten terms between: Star Wars and Jurassic Park\")\n",
    "print(\"======\")\n",
    "term_test_1 = top_terms('star wars', 'jurassic park', doc_by_vocab, index_to_vocab, movie_name_to_index)\n",
    "for term in term_test_1:\n",
    "    print(term)\n",
    "assert 'force' in term_test_1\n",
    "\n",
    "print(\"\")\n",
    "print(\"Top ten terms between: Star Wars and Star Trek: Generations\")\n",
    "term_test_2 = top_terms('star wars', 'star trek: generations', doc_by_vocab,index_to_vocab, movie_name_to_index)\n",
    "assert 'star' in term_test_2\n",
    "print(\"======\")\n",
    "for term in term_test_2:\n",
    "    print(term)\n"
   ]
  },
  {
   "cell_type": "markdown",
   "metadata": {
    "deletable": false,
    "editable": false,
    "nbgrader": {
     "checksum": "8a30400798790b99ff8b8ded08cafa9b",
     "grade": false,
     "grade_id": "cell-f6d043750f734cf6",
     "locked": true,
     "schema_version": 1,
     "solution": false
    }
   },
   "source": [
    "## Question 4 (Code Completion): Similar Transcripts, Similar Movies w/ Cosine Sim\n",
    "\n",
    "Given your get_sim function, you can now compute how similar movies are to one another! Here, we will first precompute the distance between every possible pair of movies, and store it in a movies-by-movies matrix. Given this matrix, for a given movie, it is possible to produce a ranking of how similar all other movies are to the given movie. For instance, we will see what movies are the most similar and dissimilar to star wars."
   ]
  },
  {
   "cell_type": "code",
   "execution_count": 9,
   "metadata": {
    "deletable": false,
    "nbgrader": {
     "checksum": "bbfb205b04e27ebd0127f45a67724b52",
     "grade": false,
     "grade_id": "build_movie_sims_cos",
     "locked": false,
     "schema_version": 1,
     "solution": true
    }
   },
   "outputs": [],
   "source": [
    "def build_movie_sims_cos(n_mov,movie_index_to_name,input_doc_mat,movie_name_to_index,input_get_sim_method):\n",
    "    \"\"\"Returns a movie_sims matrix of size (num_movies,num_movies) where for (i,j):\n",
    "        [i,j] should be the cosine similarity between the movie with index i and the movie with index j\n",
    "        \n",
    "    Note: What you set the diagonal to doesn't really matter, \n",
    "    but you should set it to 1 to indicate that all movies are trivially perfectly similar to themselves.\n",
    "    \n",
    "    Params: {n_mov: Integer,\n",
    "             movie_index_to_name: String,\n",
    "             input_doc_mat: Numpy Array,\n",
    "             movie_name_to_index: Dict,\n",
    "             input_get_sim_method: Function}\n",
    "    Returns: Numpy Array \n",
    "    \"\"\"\n",
    "    # YOUR CODE HERE\n",
    "    mov_mov_mat = np.ones((n_mov, n_mov))\n",
    "    for i in range(0, n_mov):\n",
    "        for j in range(i+1, n_mov):\n",
    "            mov_mov_mat[i][j] = mov_mov_mat[j][i] \\\n",
    "            = input_get_sim_method(movie_index_to_name[i], movie_index_to_name[j], \\\n",
    "                                    input_doc_mat, movie_name_to_index)\n",
    "    return mov_mov_mat\n",
    "    raise NotImplementedError()"
   ]
  },
  {
   "cell_type": "code",
   "execution_count": 10,
   "metadata": {
    "deletable": false,
    "editable": false,
    "nbgrader": {
     "checksum": "8d6cbf0b3d16933f76d44c5d698f4355",
     "grade": false,
     "grade_id": "cell-ede81a4209974a0c",
     "locked": true,
     "schema_version": 1,
     "solution": false
    }
   },
   "outputs": [],
   "source": [
    "movie_sims_cos = build_movie_sims_cos(num_movies, movie_index_to_name, doc_by_vocab, movie_name_to_index, get_sim)"
   ]
  },
  {
   "cell_type": "code",
   "execution_count": 11,
   "metadata": {
    "deletable": false,
    "editable": false,
    "nbgrader": {
     "checksum": "9a5befa4aea2eea54b078e85e25addce",
     "grade": true,
     "grade_id": "movie_sims_cos_ans",
     "locked": true,
     "points": 10,
     "schema_version": 1,
     "solution": false
    }
   },
   "outputs": [],
   "source": [
    "# This is an autograder test. Here we can test the function you just wrote above.\n",
    "\"\"\"Check that build_movie_sims_cos returns the correct output\"\"\"\n",
    "assert type(movie_sims_cos) == np.ndarray\n",
    "assert movie_sims_cos.shape == (617,617)\n",
    "assert sum(movie_sims_cos[:,5]) > 40"
   ]
  },
  {
   "cell_type": "markdown",
   "metadata": {
    "deletable": false,
    "editable": false,
    "nbgrader": {
     "checksum": "389f24a316799600f9244274f8ad96fa",
     "grade": false,
     "grade_id": "cell-ee2e54a7329b3a3d",
     "locked": true,
     "schema_version": 1,
     "solution": false
    }
   },
   "source": [
    "## Question 4b (Code Completion): Similar Transcripts, Similar Movies w/ Jaccard Sim\n",
    "\n",
    "For a baseline comparison, we will also consider the similarity between movies in terms of categories. Specifically, you'll notice that each movie is associated with a list of categories. One could ignore the transcripts *entirely* and say that the similarity between any two movies is the jaccard similarity of their category sets. While this is a very rough way to measure similarity, we will use it as a baseline for comparison with the linguistic methods. "
   ]
  },
  {
   "cell_type": "code",
   "execution_count": 12,
   "metadata": {
    "deletable": false,
    "nbgrader": {
     "checksum": "3fe8c20b5a91148cfc1d726c3471526b",
     "grade": false,
     "grade_id": "build_movie_sims_jac",
     "locked": false,
     "schema_version": 1,
     "solution": true
    }
   },
   "outputs": [],
   "source": [
    "def build_movie_sims_jac(n_mov,input_data):\n",
    "    \"\"\"Returns a movie_sims_jac matrix of size (num_movies,num_movies) where for (i,j) :\n",
    "        [i,j] should be the jaccard similarity between the category sets for movies i and j\n",
    "        such that movie_sims_jac[i,j] = movie_sims_jac[j,i]. \n",
    "        \n",
    "    Note: Movies sometimes contain *duplicate* categories! You should only count a category once\n",
    "    \n",
    "    Params: {n_mov: Integer,\n",
    "             input_data: List<Dictionary>}\n",
    "    Returns: Numpy Array \n",
    "    \"\"\"\n",
    "    # YOUR CODE HERE\n",
    "    jac_sim_mat = np.ones((n_mov, n_mov))\n",
    "    for i in range(0, n_mov):\n",
    "        for j in range(i+1, n_mov):\n",
    "            set_i = set(input_data[i]['categories'])\n",
    "            set_j = set(input_data[j]['categories'])\n",
    "            jac_sim_ij = (len(set_i.intersection(set_j))+0.)/len(set_i.union(set_j))\n",
    "            jac_sim_mat[i][j] = jac_sim_mat[j][i] = jac_sim_ij\n",
    "    return jac_sim_mat\n",
    "    raise NotImplementedError()"
   ]
  },
  {
   "cell_type": "code",
   "execution_count": 13,
   "metadata": {
    "deletable": false,
    "editable": false,
    "nbgrader": {
     "checksum": "17b2c61fdec60225b044856be79c1fd6",
     "grade": false,
     "grade_id": "cell-9ffeab8de1a863dc",
     "locked": true,
     "schema_version": 1,
     "solution": false
    }
   },
   "outputs": [],
   "source": [
    "movie_sims_jac = build_movie_sims_jac(num_movies,data)"
   ]
  },
  {
   "cell_type": "code",
   "execution_count": 14,
   "metadata": {
    "deletable": false,
    "editable": false,
    "nbgrader": {
     "checksum": "7a3859f190dcfc8e34e178cc527da6c9",
     "grade": true,
     "grade_id": "movie_sims_jac_test",
     "locked": true,
     "points": 15,
     "schema_version": 1,
     "solution": false
    }
   },
   "outputs": [],
   "source": [
    "# This is an autograder test. Here we can test the function you just wrote above.\n",
    "\"\"\"Check that build_movie_sims_cos returns the correct output\"\"\"\n",
    "assert type(movie_sims_jac) == np.ndarray\n",
    "assert movie_sims_jac.shape == (617,617)\n",
    "assert sum(movie_sims_jac[:,5]) > 60 and sum(movie_sims_jac[:,5]) < 70"
   ]
  },
  {
   "cell_type": "markdown",
   "metadata": {
    "deletable": false,
    "editable": false,
    "nbgrader": {
     "checksum": "071eb5f7b535698e2924215acde87872",
     "grade": false,
     "grade_id": "cell-4a540d60107ce945",
     "locked": true,
     "schema_version": 1,
     "solution": false
    }
   },
   "source": [
    "## Question 4c (Free Response): Similar Transcripts, Similar Movies\n",
    "\n",
    "Using the movie_sims_cos and movie_sims_jac matrix you computed, we are now going to compare cosine vs. jaccard similarity by printing the 10 most similar (ignoring itself) and 10 most dissimilar movies to 'star wars'."
   ]
  },
  {
   "cell_type": "code",
   "execution_count": 15,
   "metadata": {
    "deletable": false,
    "editable": false,
    "nbgrader": {
     "checksum": "60b5c59119a7eec8e0fffa2321b9d2a9",
     "grade": false,
     "grade_id": "cell-19eda7bcc6d614bb",
     "locked": true,
     "schema_version": 1,
     "solution": false
    }
   },
   "outputs": [],
   "source": [
    "def get_ranked_movies(mov, matrix):\n",
    "    \"\"\"\n",
    "    Return sorted rankings (most to least similar) of movies as \n",
    "    a list of two-element tuples, where the first element is the \n",
    "    movie name and the second element is the similarity score\n",
    "    \n",
    "    Params: {mov: String,\n",
    "             matrix: np.ndarray}\n",
    "    Returns: List<Tuple>\n",
    "    \"\"\"\n",
    "    \n",
    "    # Get movie index from movie name\n",
    "    mov_idx = movie_name_to_index[mov]\n",
    "    \n",
    "    # Get list of similarity scores for movie\n",
    "    score_lst = matrix[mov_idx]\n",
    "    mov_score_lst = [(movie_index_to_name[i], s) for i,s in enumerate(score_lst)]\n",
    "    \n",
    "    # Do not account for movie itself in ranking\n",
    "    mov_score_lst = mov_score_lst[:mov_idx] + mov_score_lst[mov_idx+1:]\n",
    "    \n",
    "    # Sort rankings by score\n",
    "    mov_score_lst = sorted(mov_score_lst, key=lambda x: -x[1])\n",
    "    \n",
    "    return mov_score_lst\n",
    "\n",
    "\n",
    "def print_top(mov, matrix, sim_type, k=10):\n",
    "    \"\"\"\n",
    "    Print the k most and least similar movies to 'star wars'\n",
    "    \n",
    "    Params: {mov: String,\n",
    "             matrix: np.ndarray,\n",
    "             sim_type: String,\n",
    "             k: Integer}\n",
    "    Returns: None\n",
    "    \"\"\"\n",
    "    \n",
    "    mov_score_lst = get_ranked_movies(mov, matrix)\n",
    "    \n",
    "    print(\"Top {} most similar movies to {} [{}]\".format(k, 'star wars', sim_type))\n",
    "    print(\"======\")\n",
    "    for (mov, score) in mov_score_lst[:k]:\n",
    "        print(\"%.3f %s\" % (score, mov))\n",
    "\n",
    "    print()\n",
    "    \n",
    "    print(\"Top {} least similar movies to {} [{}]\".format(k, 'star wars', sim_type))\n",
    "    print(\"======\")\n",
    "    for (mov, score) in mov_score_lst[-k:][::-1]:\n",
    "        print(\"%.3f %s\" % (score, mov))"
   ]
  },
  {
   "cell_type": "code",
   "execution_count": 16,
   "metadata": {
    "deletable": false,
    "editable": false,
    "nbgrader": {
     "checksum": "96b7201032484f8c045b80734ba3b587",
     "grade": false,
     "grade_id": "cell-74bce35a04df44cd",
     "locked": true,
     "schema_version": 1,
     "solution": false
    }
   },
   "outputs": [
    {
     "name": "stdout",
     "output_type": "stream",
     "text": [
      "Top 10 most similar movies to star wars [cosine sim]\n",
      "======\n",
      "0.468 star wars: the empire strikes back\n",
      "0.406 star wars: episode vi - return of the jedi\n",
      "0.252 cool hand luke\n",
      "0.246 star trek: nemesis\n",
      "0.214 star trek: generations\n",
      "0.214 star trek: first contact\n",
      "0.211 the majestic\n",
      "0.205 star trek: insurrection\n",
      "0.203 hannibal\n",
      "0.197 dr. strangelove or: how i learned to stop worrying and love the bomb\n",
      "\n",
      "Top 10 least similar movies to star wars [cosine sim]\n",
      "======\n",
      "0.004 what women want\n",
      "0.010 the jazz singer\n",
      "0.013 the deer hunter\n",
      "0.014 five feet high and rising\n",
      "0.014 the rocky horror picture show\n",
      "0.015 the negotiator\n",
      "0.019 beavis and butt-head do america\n",
      "0.026 shock treatment\n",
      "0.027 spare me\n",
      "0.027 serial mom\n"
     ]
    }
   ],
   "source": [
    "print_top('star wars', movie_sims_cos, 'cosine sim')"
   ]
  },
  {
   "cell_type": "code",
   "execution_count": 17,
   "metadata": {
    "deletable": false,
    "editable": false,
    "nbgrader": {
     "checksum": "8f7c748ee36d21a9a7447f022cd7e5ba",
     "grade": false,
     "grade_id": "cell-c81f7651cd4500b3",
     "locked": true,
     "schema_version": 1,
     "solution": false
    }
   },
   "outputs": [
    {
     "name": "stdout",
     "output_type": "stream",
     "text": [
      "Top 10 most similar movies to star wars [jaccard]\n",
      "======\n",
      "1.000 krull\n",
      "1.000 the fantastic four\n",
      "1.000 fantastic four\n",
      "1.000 star wars: episode vi - return of the jedi\n",
      "0.800 superman ii\n",
      "0.800 superman iv: the quest for peace\n",
      "0.800 spider-man\n",
      "0.800 superman iii\n",
      "0.800 jurassic park\n",
      "0.800 ghostbusters ii\n",
      "\n",
      "Top 10 least similar movies to star wars [jaccard]\n",
      "======\n",
      "0.000 all the president's men\n",
      "0.000 all about eve\n",
      "0.000 grand hotel\n",
      "0.000 the grifters\n",
      "0.000 the graduate\n",
      "0.000 get shorty\n",
      "0.000 ghost ship\n",
      "0.000 ghost world\n",
      "0.000 storytelling\n",
      "0.000 dr. strangelove or: how i learned to stop worrying and love the bomb\n"
     ]
    }
   ],
   "source": [
    "print_top('star wars', movie_sims_jac, 'jaccard')"
   ]
  },
  {
   "cell_type": "markdown",
   "metadata": {
    "deletable": false,
    "editable": false,
    "nbgrader": {
     "checksum": "a6b8ee872444cd77eb1ab88a120819fa",
     "grade": false,
     "grade_id": "cell-25fa76331ae8813d",
     "locked": true,
     "schema_version": 1,
     "solution": false
    }
   },
   "source": [
    "**In the cell below, analyze the most similar and least similar results above for both cosine similarity and jaccard similarity. Please comment on how well (or poorly) you think both of the similarity measures performed. Do these results make sense to you, and why?**"
   ]
  },
  {
   "cell_type": "markdown",
   "metadata": {
    "deletable": false,
    "nbgrader": {
     "checksum": "492dc43965f52cf732cc12e3e6994dd8",
     "grade": true,
     "grade_id": "most_least_sim_movies_ans",
     "locked": false,
     "points": 10,
     "schema_version": 1,
     "solution": true
    }
   },
   "source": [
    "Since we used categories rather than transcripts when computing jaccard similarity, the results above for jaccard similarity is obviously poorer than those for cosine similarity. Cosine sim managed to find all \"star wars\" movies and listed them on the top. In addition, it also accurately found other similar sci-fi movies such as \"star trek\". Jaccard sim did poorly also in finding the least similar movies all the top 10 movies has score 0, which are not very informative for us."
   ]
  },
  {
   "cell_type": "markdown",
   "metadata": {
    "deletable": false,
    "editable": false,
    "nbgrader": {
     "checksum": "48fca77465aba4d1acd8e02c4548da5c",
     "grade": false,
     "grade_id": "cell-8f564d9e0d9278b3",
     "locked": true,
     "schema_version": 1,
     "solution": false
    }
   },
   "source": [
    "## Question 5 (Code Completion): Evaluating our rankings with precision-recall curves\n",
    "\n",
    "Given that we are able to produce a most-to-least similar ranking of all other movies given all other movies, we can now ask the question: \"how good are our rankings?\" For this part, we will be using the following (query, [related movie list]) pairs for you to evaluate against. We will treat these as ground truth. More generally, you could imagine that these \"ground truths\" result from aggregated user feedback from a movie recomendation system like Netflix."
   ]
  },
  {
   "cell_type": "code",
   "execution_count": 18,
   "metadata": {
    "deletable": false,
    "editable": false,
    "nbgrader": {
     "checksum": "b1991802065e9d32a6f2f5ca7b6c5a7f",
     "grade": false,
     "grade_id": "cell-d0af2bf1d4f220ea",
     "locked": true,
     "schema_version": 1,
     "solution": false
    }
   },
   "outputs": [],
   "source": [
    "queries = [('the matrix', ['the bourne supremacy',\n",
    "                           'being john malkovich',\n",
    "                           'smoke',\n",
    "                           'erin brockovich',\n",
    "                           'an officer and a gentleman',\n",
    "                           'smokin\\' aces',\n",
    "                           'pitch black',\n",
    "                           'out of sight',\n",
    "                           'clerks.',\n",
    "                           'xxx',\n",
    "                           'the x files',\n",
    "                          ]),\n",
    "           ('star wars',  ['star wars: the empire strikes back',\n",
    "                            'star wars: episode vi - return of the jedi',\n",
    "                            'indiana jones and the last crusade',\n",
    "                            'indiana jones and the temple of doom',\n",
    "                            'jurassic park',\n",
    "                            'the lost world: jurassic park',\n",
    "                            'jurassic park iii',\n",
    "                            'star trek v: the final frontier',\n",
    "                            'star trek: the motion picture',\n",
    "                            'star trek: first contact',\n",
    "                            'star trek vi: the undiscovered country',\n",
    "                            'star trek iv: the voyage home',\n",
    "                            'the majestic',\n",
    "                            'hannibal',\n",
    "                            'star trek: insurrection',\n",
    "                            'dr. strangelove or: how i learned to stop worrying and love the bomb'\n",
    "                          ]),\n",
    "          ('a nightmare on elm street', ['a nightmare on elm street part 2: freddy\\'s revenge',\n",
    "                                         'a nightmare on elm street: the dream child',\n",
    "                                         'cruel intentions',\n",
    "                                         'erin brockovich',\n",
    "                                         'hellraiser: hellseeker',\n",
    "                                         'little nicky',\n",
    "                                        ]),]"
   ]
  },
  {
   "cell_type": "markdown",
   "metadata": {
    "deletable": false,
    "editable": false,
    "nbgrader": {
     "checksum": "bbb66633958d55a200ee08629085b812",
     "grade": false,
     "grade_id": "cell-31a990e9921e58ca",
     "locked": true,
     "schema_version": 1,
     "solution": false
    }
   },
   "source": [
    "We will use two evaluation metrics: precision vs. recall plots and a statistic called mean average precision. To start off, **complete the function precision_recall function below.**"
   ]
  },
  {
   "cell_type": "code",
   "execution_count": 19,
   "metadata": {
    "deletable": false,
    "nbgrader": {
     "checksum": "e644abcb5aae25466d810c97b5f7f0ef",
     "grade": false,
     "grade_id": "precision_recall",
     "locked": false,
     "schema_version": 1,
     "solution": true
    }
   },
   "outputs": [],
   "source": [
    "def precision_recall(ranking_in, relevant):\n",
    "    '''\n",
    "    Returns lists of precision and recall at different k values\n",
    "    \n",
    "    Param info:\n",
    "        ranking_in: sorted ranking of movies, starting with the most most similar, and ending\n",
    "        with the least similar.\n",
    "        \n",
    "        relevant: iterable of movies relevant to the original query\n",
    "        \n",
    "    Return info:\n",
    "        precision: list of length equal to the length+1 of ranking_in, where precision[k] = the\n",
    "        precision@k. Leave precision[0] to be 0.\n",
    "        \n",
    "        recall: list of length equal to the length+1 of ranking_in, where recall[k] = the\n",
    "        recall@k. Leave recall[0] to be 0.\n",
    "        \n",
    "    Params: {ranking_in: String,\n",
    "             relevant: String List}\n",
    "    Returns: {precision: np.ndarray,\n",
    "              recall: np.ndarray}\n",
    "    '''\n",
    "    # YOUR CODE HERE\n",
    "    precision = np.zeros(len(ranking_in)+1)\n",
    "    recall = np.zeros(len(ranking_in)+1)\n",
    "    n_rel = len(relevant)\n",
    "    for k in range(1, len(precision)):\n",
    "        n_rel_ret = len([mov for mov in ranking_in[:k] if mov in relevant])\n",
    "        precision[k] = n_rel_ret/(k+0.)\n",
    "        recall[k] = n_rel_ret/(n_rel+0.)\n",
    "    return precision, recall\n",
    "    raise NotImplementedError()"
   ]
  },
  {
   "cell_type": "code",
   "execution_count": 20,
   "metadata": {
    "deletable": false,
    "editable": false,
    "nbgrader": {
     "checksum": "5585f1568ed73ed95b5f05f7fc56bf5e",
     "grade": true,
     "grade_id": "precision_recall_test",
     "locked": true,
     "points": 10,
     "schema_version": 1,
     "solution": false
    }
   },
   "outputs": [],
   "source": [
    "# This is an autograder test. Here we can test the function you just wrote above.\n",
    "\"\"\"Check that precision_recall returns the correct output\"\"\"\n",
    "query, rel_movs = queries[1]\n",
    "ranked_movs = [m for m,_ in get_ranked_movies(query, movie_sims_cos)]\n",
    "precision, recall = precision_recall(ranked_movs, rel_movs)\n",
    "\n",
    "assert precision[0] == 0\n",
    "assert recall[0] == 0\n",
    "assert precision.shape == (617,)\n",
    "assert recall.shape == (617,)\n",
    "assert sum(precision) > 48 and sum(precision) < 54\n",
    "assert sum(recall) > 505 and sum(recall) < 511\n",
    "assert precision[300] > 0.04 and precision[300] < 0.05\n",
    "assert recall[300] > 0.8 and recall[300] < 0.9\n"
   ]
  },
  {
   "cell_type": "markdown",
   "metadata": {
    "deletable": false,
    "editable": false,
    "nbgrader": {
     "checksum": "7f95cbc115db0f28ca604170d7eae25e",
     "grade": false,
     "grade_id": "cell-ea997339be861abf",
     "locked": true,
     "schema_version": 1,
     "solution": false
    }
   },
   "source": [
    "## Plotting Precision-Recall Curves\n",
    "\n",
    "Below, we have provided the code that uses matplotlib to create a recall (x-axis) vs. precision (y-axis) plot, plotting each of the 3 ground truth queries as seperate lines on the plot. For each query, we consider all N-1 movies other than the query itself when computing the ranking. The label of each line is the ground truth query. \n",
    "\n",
    "It's worth noting that considering precision/recall curves like this on the query level is a bit odd. In general, given more supervised data, one would compute aggregate precision/recall curves over a large number of ground truths. In this way, each line would represent a different information retrevial algorithm's performance over the test set of queries. However, we will be somewhat unorthodox here and plot one curve per query."
   ]
  },
  {
   "cell_type": "code",
   "execution_count": 21,
   "metadata": {
    "deletable": false,
    "editable": false,
    "nbgrader": {
     "checksum": "7193a79d106c862dc4cc5ce948f8265a",
     "grade": false,
     "grade_id": "cell-9b33baf2399a497f",
     "locked": true,
     "schema_version": 1,
     "solution": false
    }
   },
   "outputs": [],
   "source": [
    "def plot_precision_recall(matrix, xlim, ylim):\n",
    "    \"\"\"Plots the precision-recall curve given the similarity matrix\n",
    "    \n",
    "    Params: {matrix: np.ndarray,\n",
    "             xlim: List,\n",
    "             ylim: List}\n",
    "    Returns: None\n",
    "    \"\"\"\n",
    "    for query, rel_movs in queries:\n",
    "        ranked_movs = [m for m,_ in get_ranked_movies(query, matrix)]\n",
    "        precision, recall = precision_recall(ranked_movs, rel_movs)\n",
    "        plt.plot(recall, precision)\n",
    "\n",
    "    plt.xlabel(\"Recall\")\n",
    "    plt.ylabel(\"Precision\")\n",
    "    plt.xlim(xlim)\n",
    "    plt.ylim(ylim)\n",
    "    plt.legend([q[0] for q in queries])"
   ]
  },
  {
   "cell_type": "markdown",
   "metadata": {},
   "source": [
    "## Question 5b (Free Response): Cosine Similarity Plot Analysis\n",
    "\n",
    "Run the code below to show the precision-recall curve for our three movie queries using cosine similarity. "
   ]
  },
  {
   "cell_type": "code",
   "execution_count": 22,
   "metadata": {
    "deletable": false,
    "editable": false,
    "nbgrader": {
     "checksum": "8a8ffa0a4ddd3c71496675f2e41af392",
     "grade": false,
     "grade_id": "cell-0c56de23d0985e7c",
     "locked": true,
     "schema_version": 1,
     "solution": false
    }
   },
   "outputs": [
    {
     "data": {
      "image/png": "[encoded data removed]",
      "text/plain": [
       "<matplotlib.figure.Figure at 0x7faf2c93b940>"
      ]
     },
     "metadata": {},
     "output_type": "display_data"
    }
   ],
   "source": [
    "# Cosine Similarity Plot\n",
    "plot_precision_recall(movie_sims_cos, [0,1.1], [0,1.1])"
   ]
  },
  {
   "cell_type": "markdown",
   "metadata": {
    "deletable": false,
    "editable": false,
    "nbgrader": {
     "checksum": "0d8b30a2cddeb3079388a70c3abcdf9f",
     "grade": false,
     "grade_id": "cell-ad9ada38bdd57133",
     "locked": true,
     "schema_version": 1,
     "solution": false
    }
   },
   "source": [
    "**Looking at the cosine similarity plot above, make some observations about why you're seeing what you're seeing. Include a brief description of what went well, what went wrong, and how you know.**"
   ]
  },
  {
   "cell_type": "markdown",
   "metadata": {
    "deletable": false,
    "nbgrader": {
     "checksum": "c2871fdff96652e713bd2dead84b9458",
     "grade": true,
     "grade_id": "cos_sim_precision_recall_ans",
     "locked": false,
     "points": 5,
     "schema_version": 1,
     "solution": true
    }
   },
   "source": [
    "As we can see from the plot that for each of the three movie queries, precision is basically negatively related to recall. But there are several exceptional points including zero. That's because we set the first element of precision and recall to be zero. There is a negative relationship because the maximum of relevant docs is fixed, and thus precision will decrease as the number of retrieved docs increases. On the other hand, recall will increase to 1 as retrieved docs increase."
   ]
  },
  {
   "cell_type": "markdown",
   "metadata": {
    "deletable": false,
    "editable": false,
    "nbgrader": {
     "checksum": "d51743e8abf41358a9bc7a8fc20846e7",
     "grade": false,
     "grade_id": "cell-bbd3cce37bf8d9d4",
     "locked": true,
     "schema_version": 1,
     "solution": false
    }
   },
   "source": [
    "## Question 5c (Free Response): Jaccard Similarity Plot Analysis\n",
    "\n",
    "Run the code below to show the precision-recall curve for our three movie queries using jaccard similarity. "
   ]
  },
  {
   "cell_type": "code",
   "execution_count": 23,
   "metadata": {
    "deletable": false,
    "editable": false,
    "nbgrader": {
     "checksum": "1450cc4bb725dc1e468be421dee90c43",
     "grade": false,
     "grade_id": "cell-bf2fe6a0cfbd5303",
     "locked": true,
     "schema_version": 1,
     "solution": false
    }
   },
   "outputs": [
    {
     "data": {
      "image/png": "[encoded data removed]",
      "text/plain": [
       "<matplotlib.figure.Figure at 0x7faf2c827fd0>"
      ]
     },
     "metadata": {},
     "output_type": "display_data"
    }
   ],
   "source": [
    "# Jaccard Similarity Plot\n",
    "plot_precision_recall(movie_sims_jac, [0,1.1], [0,0.4])"
   ]
  },
  {
   "cell_type": "markdown",
   "metadata": {
    "deletable": false,
    "editable": false,
    "nbgrader": {
     "checksum": "2c41b55587e6b48057ebbb6af756a9e3",
     "grade": false,
     "grade_id": "cell-72aaf601ea602b3e",
     "locked": true,
     "schema_version": 1,
     "solution": false
    }
   },
   "source": [
    "**Looking at the jaccard similarity plot above,  make some observations about why you're seeing what you're seeing. Include a brief description of what went well, what went wrong, and how you know.**"
   ]
  },
  {
   "cell_type": "markdown",
   "metadata": {
    "deletable": false,
    "nbgrader": {
     "checksum": "a38b9f503263aef130792ee40cabff73",
     "grade": true,
     "grade_id": "jaccard_precision_recall_ans",
     "locked": false,
     "points": 5,
     "schema_version": 1,
     "solution": true
    }
   },
   "source": [
    "The plot above shows that for jaccard similarity, the relationship between precision and recall is basically the same and recall also grows from 0 to 1 in this case. But an abvious difference is that precision this time is much lower especially for \"the matrix\" and \"a nightmare on elm street\". That's because Jaccard similarity use categories to compute similarity which is too rough for this problem."
   ]
  },
  {
   "cell_type": "markdown",
   "metadata": {
    "deletable": false,
    "editable": false,
    "nbgrader": {
     "checksum": "c84dbd05908945084d1df496532b1156",
     "grade": false,
     "grade_id": "cell-cc3dc0d1770e67ea",
     "locked": true,
     "schema_version": 1,
     "solution": false
    }
   },
   "source": [
    "## Question 5d (Free Response): Cosine Sim vs Jaccard Sim Plot Comparison\n",
    "\n",
    "**Now that you've observed the plots for both cosine similarity and jaccard similarity, please answer the following two questions:**\n",
    "\n",
    "**1. Which system performs better, in general?**  \n",
    "**2. Which query was the most problematic in each case?**"
   ]
  },
  {
   "cell_type": "markdown",
   "metadata": {
    "deletable": false,
    "nbgrader": {
     "checksum": "bf0dc9000beec71c737bee0586339cf3",
     "grade": true,
     "grade_id": "cos_sim_jaccard_plot_ans",
     "locked": false,
     "points": 5,
     "schema_version": 1,
     "solution": true
    }
   },
   "source": [
    "1. Cosine similarity is better.\n",
    "2. \"A nightmare on elm street\" in cosine similarity system and \"the matrix\" in Jaccard similarity system."
   ]
  },
  {
   "cell_type": "markdown",
   "metadata": {},
   "source": [
    "## Evaluating our rankings with mean average precision\n",
    "\n",
    "While precision/recall curves are a good tool to visualize how well our rankings are performing, in some contexts, it is ideal to come up with a single number that characterizes how well our ranking system is doing over all ground-truth queries. A commonly used statistic for ranking systems is mean average precision. To compute this value, first, one must compute the average precision for each query and subsequent ranking output by the system. Next, one averages these values. We've filled in functions for both average_precision and mean_average_precision for you. At the end of this section, run the provided code, which will give you a single number that evaluates the performance of each ranking system."
   ]
  },
  {
   "cell_type": "code",
   "execution_count": 24,
   "metadata": {
    "deletable": false,
    "editable": false,
    "nbgrader": {
     "checksum": "a28558ff5f640b1a500e67e26cb50e85",
     "grade": false,
     "grade_id": "cell-d87b0cba955da30c",
     "locked": true,
     "schema_version": 1,
     "solution": false
    }
   },
   "outputs": [],
   "source": [
    "def average_precision(ranking_in, relevant):\n",
    "    '''\n",
    "    Arguments:\n",
    "        ranking_in: sorted ranking of movies, starting with the most most similar, and ending\n",
    "        with the least similar.\n",
    "        \n",
    "        relevant: iterable of movies relevant to the original query\n",
    "        \n",
    "    Returns:\n",
    "        average_precision: float corresponding to the AP statistic for this ranking and\n",
    "        this set of relevant docuemnts.\n",
    "    '''\n",
    "    rel_rank = sorted([ranking_in.index(r)+1 for r in relevant])\n",
    "    return np.mean([(i+1)*1./(r) for i, r in enumerate(rel_rank)])\n",
    "    \n",
    "    \n",
    "def mean_average_precision(queries_in, sims_mat):\n",
    "    '''\n",
    "    Arguments:\n",
    "        queries_in: a list of (query, [relevant documents]) pairs, representing the queries we\n",
    "        want to evaluate our ranking system against\n",
    "    \n",
    "        sims_mat: a movie by movie numpy array, where sims_mat[i,j] = sims_mat[j,i] = the similarity\n",
    "        of movies i and j\n",
    "    \n",
    "    Returns:\n",
    "        mean_average_precision: float corresponding to the average AP statistic for the input queries\n",
    "        and the similarity matrix\n",
    "    '''\n",
    "    rankings = [[movie_index_to_name[i] for i in np.argsort(sims_mat[movie_name_to_index[q],:])[::-1]]\n",
    "                for q,_ in queries]\n",
    "    for q, rank in zip([q[0] for q in queries_in], rankings):\n",
    "        print(q)\n",
    "        print(\"======\")\n",
    "        for r in rank[:10]: print(r)\n",
    "        print()\n",
    "    \n",
    "    \n",
    "    return np.mean([average_precision([movie_index_to_name[i]\n",
    "                    for i in np.argsort(sims_mat[movie_name_to_index[q],:])[::-1]], true)\n",
    "                    for q, true in queries])"
   ]
  },
  {
   "cell_type": "code",
   "execution_count": 25,
   "metadata": {
    "deletable": false,
    "editable": false,
    "nbgrader": {
     "checksum": "d72185d22cd17ca0b4ef698eff7c0d81",
     "grade": false,
     "grade_id": "cell-2edbcf40432cac11",
     "locked": true,
     "schema_version": 1,
     "solution": false
    }
   },
   "outputs": [
    {
     "name": "stdout",
     "output_type": "stream",
     "text": [
      "the matrix\n",
      "======\n",
      "the matrix\n",
      "metropolis\n",
      "xxx\n",
      "fear and loathing in las vegas\n",
      "the x files\n",
      "smokin' aces\n",
      "made\n",
      "an officer and a gentleman\n",
      "being john malkovich\n",
      "cellular\n",
      "\n",
      "star wars\n",
      "======\n",
      "star wars\n",
      "star wars: the empire strikes back\n",
      "star wars: episode vi - return of the jedi\n",
      "cool hand luke\n",
      "star trek: nemesis\n",
      "star trek: generations\n",
      "star trek: first contact\n",
      "the majestic\n",
      "star trek: insurrection\n",
      "hannibal\n",
      "\n",
      "a nightmare on elm street\n",
      "======\n",
      "a nightmare on elm street\n",
      "a nightmare on elm street 3: dream warriors\n",
      "a nightmare on elm street part 2: freddy's revenge\n",
      "jerry maguire\n",
      "new nightmare\n",
      "drop dead gorgeous\n",
      "cherry falls\n",
      "monkeybone\n",
      "hellraiser: hellseeker\n",
      "little nicky\n",
      "\n",
      "Text with tfidf features: 0.336\n",
      "\n",
      "~\n",
      "\n",
      "the matrix\n",
      "======\n",
      "dune\n",
      "the matrix\n",
      "alien vs. predator\n",
      "supergirl\n",
      "the time machine\n",
      "star trek: the wrath of khan\n",
      "jurassic park iii\n",
      "escape from l.a.\n",
      "independence day\n",
      "star trek: insurrection\n",
      "\n",
      "star wars\n",
      "======\n",
      "star wars\n",
      "the fantastic four\n",
      "star wars: episode vi - return of the jedi\n",
      "krull\n",
      "fantastic four\n",
      "superman iii\n",
      "ghostbusters ii\n",
      "superman iv: the quest for peace\n",
      "jurassic park\n",
      "superman ii\n",
      "\n",
      "a nightmare on elm street\n",
      "======\n",
      "house of 1000 corpses\n",
      "friday the 13th part iii\n",
      "a nightmare on elm street\n",
      "friday the 13th part viii: jason takes manhattan\n",
      "friday the 13th\n",
      "i walked with a zombie\n",
      "hellraiser iii: hell on earth\n",
      "hellraiser\n",
      "the curse\n",
      "freddy vs. jason\n",
      "\n",
      "Jaccard similarities: 0.077\n"
     ]
    }
   ],
   "source": [
    "print(\"Text with tfidf features: {:.3f}\".format(mean_average_precision(queries, movie_sims_cos)))\n",
    "print(\"\\n~\\n\")\n",
    "print(\"Jaccard similarities: {:.3f}\".format(mean_average_precision(queries, movie_sims_jac)))"
   ]
  },
  {
   "cell_type": "markdown",
   "metadata": {
    "deletable": false,
    "editable": false,
    "nbgrader": {
     "checksum": "961555b2d465e77a9f08c908aa1965be",
     "grade": false,
     "grade_id": "cell-d7af38aaebdd8447",
     "locked": true,
     "schema_version": 1,
     "solution": false
    }
   },
   "source": [
    "## Rocchio Algorithm\n",
    "\n",
    "Great -- we have a baseline evaluation for how well our vector space tfidf information retrevial system does! Now, it is our job to do something better. Here, we will implement the Roccio Algorithm and use it for pseduo relevance feedback.\n",
    "\n",
    "This is Rocchio’s query update rule for relevance feedback:\n",
    "\n",
    "$$\\overrightarrow{{q}_1} = a * \\overrightarrow{{q}_0} + b*\\frac{1}{|D_r|}\\sum_{d \\in D_r}{\\overrightarrow{d}}-g*\\frac{1}{|D_{nr}|}\\sum_{d \\in D_{nr}}{\\overrightarrow{d}}$$ \n",
    "\n",
    "In the above, $\\overrightarrow{{q}_0}$ is the initial query, $\\overrightarrow{{q}_1}$ is the updated query, $D_r$ is the set of relevant documents and $D_{nr}$ is the set of non-relevant documents. If, after the update, there are negative weights in $\\overrightarrow{{q}_1}$, they are set to 0."
   ]
  },
  {
   "cell_type": "markdown",
   "metadata": {
    "deletable": false,
    "editable": false,
    "nbgrader": {
     "checksum": "b6debc032cfa61f892ba98d7d467a987",
     "grade": false,
     "grade_id": "cell-31cb35d1cc54c927",
     "locked": true,
     "schema_version": 1,
     "solution": false
    }
   },
   "source": [
    "## Question 6 (Code Completion): Rocchio\n",
    "Your job here is to implement the Rocchio Algorithm for relevance feedback. This function will test your understanding of how numpy arrays interact with variable types. For example, a + b where a is a python float and b is a numpy array will return a numpy array where each element of b has been shifted by a. While this particular function may or may not be needed to implement rocchio, it can be *very* helpful. "
   ]
  },
  {
   "cell_type": "code",
   "execution_count": 26,
   "metadata": {
    "deletable": false,
    "nbgrader": {
     "checksum": "c0aada11962d1aff0a70d1fad378e897",
     "grade": false,
     "grade_id": "rocchio",
     "locked": false,
     "schema_version": 1,
     "solution": true
    }
   },
   "outputs": [],
   "source": [
    "def rocchio(query, relevant, irrelevant, input_doc_matrix, \\\n",
    "            movie_name_to_index,a=.3, b=.3, c=.8, clip = True):\n",
    "    \"\"\"Returns a vector representing the modified query vector. \n",
    "    \n",
    "    Note: \n",
    "        The resulting vector should have no negatve weights in it!\n",
    "        Be sure to handle the cases where relevant and irrelevant are empty lists.\n",
    "        \n",
    "    Params: {query: String (the name of the movie being queried for),\n",
    "             relevant: List (the names of relevant movies for query),\n",
    "             irrelevant: List (the names of irrelevant movies for query),\n",
    "             input_doc_matrix: Numpy Array,\n",
    "             movie_name_to_index: Dict,\n",
    "             a,b,c: floats (weighting of the original query, relevant queries,\n",
    "                             and irrelevant queries, respectively),\n",
    "             clip: Boolean (whether or not to clip all returned negative values to 0)}\n",
    "    Returns: Numpy Array \n",
    "    \"\"\"\n",
    "    # YOUR CODE HERE\n",
    "    query_idx = movie_name_to_index[query]\n",
    "    q0 = input_doc_matrix[query_idx]\n",
    "    irrel_idx = [movie_name_to_index[mname] for mname in irrelevant]\n",
    "    sum_irrel = np.sum(input_doc_matrix[irrel_idx,], axis = 0)\n",
    "    if len(relevant) != 0:\n",
    "        rel_idx = [movie_name_to_index[mname] for mname in relevant]\n",
    "        sum_rel = np.sum(input_doc_matrix[rel_idx,], axis = 0)\n",
    "        q1 = a*q0 + b/len(relevant)*sum_rel - c/len(irrelevant)*sum_irrel\n",
    "    else:\n",
    "        q1 = a*q0 - c/len(irrelevant)*sum_irrel\n",
    "    if clip == True:\n",
    "        q1[q1 < 0] = 0.\n",
    "        return q1\n",
    "    else:\n",
    "        return q1\n",
    "    raise NotImplementedError()"
   ]
  },
  {
   "cell_type": "markdown",
   "metadata": {
    "deletable": false,
    "editable": false,
    "nbgrader": {
     "checksum": "f54007ee3b71da9483009617238e25d8",
     "grade": false,
     "grade_id": "cell-02d9c6563f21a92a",
     "locked": true,
     "schema_version": 1,
     "solution": false
    }
   },
   "source": [
    "Before we use the Rocchio algorithm for understanding pseduo-relevance feedback, we'll do a reality check and make sure that our implementation can improve performance on our existing queries. To augment our analysis, movie guru Ilan has also provided you with a list of irrelevant queries for each of our test queries. You'll notice that the irrelevant queries for each of the test queries are quite similar. This is because it's much more common for a pair of movies to be irrelevant, rather than relevant. In fact, it's not uncommon that *all* queries that are not relevant are *assumed to be irrelevant.*\n",
    "\n",
    "Here, though, we'll just use this small subset."
   ]
  },
  {
   "cell_type": "code",
   "execution_count": 27,
   "metadata": {
    "deletable": false,
    "editable": false,
    "nbgrader": {
     "checksum": "df949ee25a37a54ea7add3ab4d6433e7",
     "grade": false,
     "grade_id": "cell-b606d1e4ff38c062",
     "locked": true,
     "schema_version": 1,
     "solution": false
    }
   },
   "outputs": [],
   "source": [
    "irrelevant  = [('the matrix', ['lone star',\n",
    "                               '2001: a space odyssey',\n",
    "                               'wall street',\n",
    "                               'the elephant man',\n",
    "                               'eternal sunshine of the spotless mind',\n",
    "                              'suburbia',\n",
    "                               'taking sides',\n",
    "                               'lake placid'\n",
    "                              ]),\n",
    "               ('star wars',  ['lone star',\n",
    "                               '2001: a space odyssey',\n",
    "                               'wall street',\n",
    "                               'the elephant man',\n",
    "                               'eternal sunshine of the spotless mind',\n",
    "                              'suburbia',\n",
    "                              'taking sides',\n",
    "                              'lake placid']),\n",
    "               ('a nightmare on elm street', ['lone star',\n",
    "                               '2001: a space odyssey',\n",
    "                               'wall street',\n",
    "                               'the elephant man',\n",
    "                               'eternal sunshine of the spotless mind',\n",
    "                                'suburbia',\n",
    "                                'taking sides',\n",
    "                                'lake placid']),]\n"
   ]
  },
  {
   "cell_type": "code",
   "execution_count": 28,
   "metadata": {
    "deletable": false,
    "editable": false,
    "nbgrader": {
     "checksum": "20e32678e4d9f33040c2888421547e00",
     "grade": true,
     "grade_id": "rocchio_test",
     "locked": true,
     "points": 20,
     "schema_version": 1,
     "solution": false
    }
   },
   "outputs": [],
   "source": [
    "# This is an autograder test. Here we can test the function you just wrote above.\n",
    "\"\"\"Check that rocchio returns the correct output\"\"\"\n",
    "query_vector = rocchio(\"the matrix\",[],irrelevant[0][1],doc_by_vocab,movie_name_to_index)\n",
    "query_vector2 = rocchio(\"star wars\",[],irrelevant[1][1],doc_by_vocab,movie_name_to_index)\n",
    "assert type(query_vector) == np.ndarray\n",
    "assert type(query_vector2) == np.ndarray\n",
    "assert sum(query_vector) > 3 and sum(query_vector) < 4\n",
    "assert sum(query_vector2) > 2 and sum(query_vector2) < 3"
   ]
  },
  {
   "cell_type": "markdown",
   "metadata": {
    "deletable": false,
    "editable": false,
    "nbgrader": {
     "checksum": "c61d42f5ef037181eb3684ef909cd83c",
     "grade": false,
     "grade_id": "cell-48508f719504108e",
     "locked": true,
     "schema_version": 1,
     "solution": false
    }
   },
   "source": [
    "## Question 7 (Code Completion): Leveraging Rocchio\n",
    "Your job is to leverage rocchio to return the top 10 highest ranked movies for each query, with rocchio. \n",
    "Return the dictionary with in the following format:\n",
    "```\n",
    "{'the matrix': [movie1,movie2,...,movie10],\n",
    " 'star wars': [movie1,movie2,...,movie10],\n",
    " 'a nightmare on elm street': [movie1,movie2,...,movie10]}\n",
    "```"
   ]
  },
  {
   "cell_type": "code",
   "execution_count": 29,
   "metadata": {
    "deletable": false,
    "nbgrader": {
     "checksum": "121b626c771d201376ec8fce389927df",
     "grade": false,
     "grade_id": "top_10_with_rocchio",
     "locked": false,
     "schema_version": 1,
     "solution": true
    }
   },
   "outputs": [],
   "source": [
    "def top_10_with_rocchio(relevant_in, irrelevant_in, input_doc_matrix, \\\n",
    "            movie_name_to_index,movie_index_to_name,input_rocchio):\n",
    "    \"\"\"Returns a dictionary in the following format:\n",
    "    {\n",
    "        'the matrix': [movie1,movie2,...,movie10],\n",
    "         'star wars': [movie1,movie2,...,movie10],\n",
    "         'a nightmare on elm street': [movie1,movie2,...,movie10]\n",
    "    }\n",
    "    \n",
    "    Note: \n",
    "        You can assume that relevant_in[i][0] = irrelevant_in[i][0] \n",
    "        (i.e. the queries are in the same order). \n",
    "        You should use the default rocchio parameters.\n",
    "        \n",
    "    Params: {relevant_in: List ((query, [relevant documents]) pairs, representing \n",
    "                                the queries we want to evaluate our ranking system \n",
    "                                against,along with some relevant documents),\n",
    "             irrelevant_in: List ((query, [irrelevant documents]) pairs, representing \n",
    "                                 the queries we want to evaluate our ranking system \n",
    "                                 against, along with some irrelevant documents),\n",
    "             input_doc_matrix: Numpy Array,\n",
    "             movie_name_to_index: Dict,\n",
    "             movie_index_to_name: Dict,\n",
    "             input_rocchio: Function}\n",
    "    \n",
    "    Returns: Dict \n",
    "    \"\"\"\n",
    "    # YOUR CODE HERE\n",
    "    result = {}\n",
    "    for i in range(len(relevant_in)):\n",
    "        query = relevant_in[i][0]\n",
    "        relevant = relevant_in[i][1]\n",
    "        irrelevant = irrelevant_in[i][1]\n",
    "        q1 = input_rocchio(query, relevant, irrelevant, input_doc_matrix, \\\n",
    "            movie_name_to_index)\n",
    "        mov_idx = movie_name_to_index[query]\n",
    "        score_list = []\n",
    "        for doc in input_doc_matrix:\n",
    "            numerator = np.dot(q1, doc)\n",
    "            denominator = np.sqrt(np.sum(np.square(q1)))*np.sqrt(np.sum(np.square(doc)))\n",
    "            score_list.append(numerator/denominator)\n",
    "        mov_score_lst = [(movie_index_to_name[i], s) for i,s in enumerate(score_list)]\n",
    "        mov_score_lst = mov_score_lst[:mov_idx] + mov_score_lst[mov_idx+1:]\n",
    "        mov_score_lst_top10 = sorted(mov_score_lst, key=lambda x: -x[1])[:10]\n",
    "        mov_top_10, _ = zip(*mov_score_lst_top10)\n",
    "        result[query] = list(mov_top_10)\n",
    "    return result\n",
    "    raise NotImplementedError()"
   ]
  },
  {
   "cell_type": "code",
   "execution_count": 30,
   "metadata": {
    "deletable": false,
    "editable": false,
    "nbgrader": {
     "checksum": "114074f4c56c643d723dad186140b43b",
     "grade": false,
     "grade_id": "cell-e03266a4304b7776",
     "locked": true,
     "schema_version": 1,
     "solution": false
    }
   },
   "outputs": [
    {
     "name": "stdout",
     "output_type": "stream",
     "text": [
      "the matrix\n",
      "==========\n",
      "the x files\n",
      "xxx\n",
      "smokin' aces\n",
      "metropolis\n",
      "pitch black\n",
      "suspect zero\n",
      "fear and loathing in las vegas\n",
      "an officer and a gentleman\n",
      "clerks.\n",
      "out of sight\n",
      "\n",
      "a nightmare on elm street\n",
      "=========================\n",
      "a nightmare on elm street 3: dream warriors\n",
      "a nightmare on elm street part 2: freddy's revenge\n",
      "a nightmare on elm street: the dream child\n",
      "new nightmare\n",
      "hellraiser: hellseeker\n",
      "jerry maguire\n",
      "little nicky\n",
      "cherry falls\n",
      "cruel intentions\n",
      "drop dead gorgeous\n",
      "\n",
      "star wars\n",
      "=========\n",
      "star wars: the empire strikes back\n",
      "star wars: episode vi - return of the jedi\n",
      "star trek: nemesis\n",
      "star trek: first contact\n",
      "star trek: generations\n",
      "star trek: insurrection\n",
      "cool hand luke\n",
      "star trek vi: the undiscovered country\n",
      "star trek: the motion picture\n",
      "star trek v: the final frontier\n",
      "\n"
     ]
    }
   ],
   "source": [
    "movie_recommend_with_rocchio = top_10_with_rocchio(queries, irrelevant,\\\n",
    "                                                  doc_by_vocab,movie_name_to_index,\\\n",
    "                                                  movie_index_to_name,rocchio)\n",
    "for k,v in movie_recommend_with_rocchio.items():\n",
    "    print(k)\n",
    "    print(\"=\"*len(k))\n",
    "    [print(a) for a in v]\n",
    "    print(\"\")"
   ]
  },
  {
   "cell_type": "code",
   "execution_count": 31,
   "metadata": {
    "deletable": false,
    "editable": false,
    "nbgrader": {
     "checksum": "e992d6b030d64c12e7b0215aeff77387",
     "grade": true,
     "grade_id": "top_10_with_rocchio_test",
     "locked": true,
     "points": 25,
     "schema_version": 1,
     "solution": false
    }
   },
   "outputs": [],
   "source": [
    "# This is an autograder test. Here we can test the function you just wrote above.\n",
    "\"\"\"Check that top_10_with_rocchio returns the correct output\"\"\"\n",
    "assert type(movie_recommend_with_rocchio) == dict\n",
    "assert \"the x files\" in movie_recommend_with_rocchio[\"the matrix\"]\n",
    "assert \"star wars: the empire strikes back\" in movie_recommend_with_rocchio[\"star wars\"]\n",
    "assert \"a nightmare on elm street 3: dream warriors\" in \\\n",
    "    movie_recommend_with_rocchio[\"a nightmare on elm street\"]"
   ]
  },
  {
   "cell_type": "markdown",
   "metadata": {
    "deletable": false,
    "editable": false,
    "nbgrader": {
     "checksum": "3b2233ae124534cd0b4693447f8968a2",
     "grade": false,
     "grade_id": "cell-6941eafd9a21a487",
     "locked": true,
     "schema_version": 1,
     "solution": false
    }
   },
   "source": [
    "## Question 7b (Code Completion): Leveraging Rocchio\n",
    "Your job is to implement mean_average_precision_rocchio below.\n",
    "\n",
    "Your function should call rocchio and average_precision. "
   ]
  },
  {
   "cell_type": "code",
   "execution_count": 32,
   "metadata": {
    "deletable": false,
    "nbgrader": {
     "checksum": "f76906b6ada38ff4bd5e8649e1e25394",
     "grade": false,
     "grade_id": "mean_average_precision_rocchio",
     "locked": false,
     "schema_version": 1,
     "solution": true
    }
   },
   "outputs": [],
   "source": [
    "def mean_average_precision_rocchio(relevant_in, irrelevant_in, input_doc_matrix, \\\n",
    "            movie_name_to_index,movie_index_to_name,input_rocchio):\n",
    "    \"\"\"Returns a float corresponding to the average AP statistic for the input queries\n",
    "        and the similarity matrix\n",
    "    Note: \n",
    "        You can assume that relevant_in[i][0] = irrelevant_in[i][0] \n",
    "        (i.e. the queries are in the same order). \n",
    "        You should use the default rocchio parameters.\n",
    "        \n",
    "    Params: {relevant_in: List ((query, [relevant documents]) pairs, representing \n",
    "                                the queries we want to evaluate our ranking system \n",
    "                                against,along with some relevant documents),\n",
    "             irrelevant_in: List ((query, [irrelevant documents]) pairs, representing \n",
    "                                 the queries we want to evaluate our ranking system \n",
    "                                 against, along with some irrelevant documents),\n",
    "             input_doc_matrix: Numpy Array,\n",
    "             movie_name_to_index: Dict,\n",
    "             movie_index_to_name: Dict,\n",
    "             input_rocchio: Function}\n",
    "    \n",
    "    Returns: Float \n",
    "    \"\"\"\n",
    "    # YOUR CODE HERE\n",
    "    mean_avg_precision_rocchio = []\n",
    "    for i in range(len(relevant_in)):\n",
    "        query = relevant_in[i][0]\n",
    "        relevant = relevant_in[i][1]\n",
    "        irrelevant = irrelevant_in[i][1]\n",
    "        q1 = input_rocchio(query, relevant, irrelevant, input_doc_matrix, \\\n",
    "            movie_name_to_index)\n",
    "        mov_idx = movie_name_to_index[query]\n",
    "        score_list = []\n",
    "        for doc in input_doc_matrix:\n",
    "            numerator = np.dot(q1, doc)\n",
    "            denominator = np.sqrt(np.sum(np.square(q1)))*np.sqrt(np.sum(np.square(doc)))\n",
    "            score_list.append(numerator/denominator)\n",
    "        mov_score_lst = [(movie_index_to_name[i], s) for i,s in enumerate(score_list)]\n",
    "        mov_score_lst = mov_score_lst[:mov_idx] + mov_score_lst[mov_idx+1:]\n",
    "        mov_score_lst = sorted(mov_score_lst, key=lambda x: -x[1])\n",
    "        ranking, _ = zip(*mov_score_lst)\n",
    "        avg_precision_rocchio = average_precision(ranking, relevant)\n",
    "        mean_avg_precision_rocchio.append(avg_precision_rocchio)\n",
    "    return np.mean(mean_avg_precision_rocchio)\n",
    "    raise NotImplementedError()"
   ]
  },
  {
   "cell_type": "code",
   "execution_count": 33,
   "metadata": {
    "deletable": false,
    "editable": false,
    "nbgrader": {
     "checksum": "838d5924b92c8bf7eeac6a76210878a7",
     "grade": true,
     "grade_id": "mean_average_precision_rocchio_test",
     "locked": true,
     "points": 20,
     "schema_version": 1,
     "solution": false
    }
   },
   "outputs": [],
   "source": [
    "# This is an autograder test. Here we can test the function you just wrote above.\n",
    "\"\"\"Check that mean_average_precision_rocchio returns the correct output\"\"\"\n",
    "mean_average_precision = mean_average_precision_rocchio(queries, irrelevant,\\\n",
    "                                                  doc_by_vocab,movie_name_to_index,\\\n",
    "                                                  movie_index_to_name,rocchio)\n",
    "assert mean_average_precision > 0.60"
   ]
  },
  {
   "cell_type": "markdown",
   "metadata": {
    "deletable": false,
    "editable": false,
    "nbgrader": {
     "checksum": "e7e2c4132731e5148ccd147837f27e1c",
     "grade": false,
     "grade_id": "cell-798587bcc78c618e",
     "locked": true,
     "schema_version": 1,
     "solution": false
    }
   },
   "source": [
    "The Rocchio addition to the system clearly adds a much larger level of percision as you are doing query\n",
    "modification that is based on releveant and irrelevant documents that are passed in. With the revision\n",
    "of this query this increases the search engine's recall, as well as the precision.\n",
    "\n",
    "**Note:**\n",
    "While our performance increased, it shouldn't be surprising that this is the case. At a high level, here is what we did: we took our original query vectors and moved them slightly closer to the \"ground truth\" relevant documents, and then used mean average precision to find that, indeed, the new query vector was closer to the true \"ground truth\" vectors. "
   ]
  },
  {
   "cell_type": "markdown",
   "metadata": {
    "deletable": false,
    "editable": false,
    "nbgrader": {
     "checksum": "037cf4f5b90018d3778228129c4638cd",
     "grade": false,
     "grade_id": "cell-6ecc56131c012635",
     "locked": true,
     "schema_version": 1,
     "solution": false
    }
   },
   "source": [
    "## Question 8 (Free Response): Biggest Losses\n",
    "\n",
    "However, it is fun to see what words were given more or less weight for a given query according to the Rocchio modified query vector. Understand and run the following code:"
   ]
  },
  {
   "cell_type": "code",
   "execution_count": 34,
   "metadata": {
    "deletable": false,
    "editable": false,
    "nbgrader": {
     "checksum": "85f4da47e3be62a3e859d601b9754eba",
     "grade": false,
     "grade_id": "cell-95e722cbecf45266",
     "locked": true,
     "schema_version": 1,
     "solution": false
    }
   },
   "outputs": [
    {
     "name": "stdout",
     "output_type": "stream",
     "text": [
      "Biggest losses:\n",
      "tank:-0.264\n",
      "operator:-0.144\n",
      "agent:-0.133\n",
      "exit:-0.128\n",
      "program:-0.104\n",
      "believed:-0.099\n",
      "world:-0.096\n",
      "goddamnit:-0.094\n",
      "choice:-0.082\n",
      "path:-0.078\n"
     ]
    }
   ],
   "source": [
    "q_o = doc_by_vocab[movie_name_to_index[queries[0][0]],:]\n",
    "q_m = rocchio(queries[0][0], queries[0][1], irrelevant[0][1],doc_by_vocab,movie_name_to_index)\n",
    "diffs = q_m-q_o\n",
    "args_diffs = np.argsort(diffs)\n",
    "losses = args_diffs[:10]\n",
    "print(\"Biggest losses:\")\n",
    "for l in losses:\n",
    "    print(\"{}:{:.3f}\".format(index_to_vocab[l], diffs[l]))"
   ]
  },
  {
   "cell_type": "markdown",
   "metadata": {
    "deletable": false,
    "editable": false,
    "nbgrader": {
     "checksum": "0a4e848ed62a128affac4f789d07e2a2",
     "grade": false,
     "grade_id": "cell-4c62999080fa04a9",
     "locked": true,
     "schema_version": 1,
     "solution": false
    }
   },
   "source": [
    "**In the cell below, explain what the code is doing and what the findings show**"
   ]
  },
  {
   "cell_type": "markdown",
   "metadata": {
    "deletable": false,
    "nbgrader": {
     "checksum": "4121d5871bec3ace4affa352fbe3e56a",
     "grade": true,
     "grade_id": "biggest_loss_ans",
     "locked": false,
     "points": 10,
     "schema_version": 1,
     "solution": true
    }
   },
   "source": [
    "The code above found the original query vector of the movie \"the matrix\" and modified the query using rocchio. Then it calculated the difference between two queries to show how much weight is put on or subtracted from each word of the original query vector. Then it listed top ten words that had been given less weight after modification."
   ]
  }
 ],
 "metadata": {
  "anaconda-cloud": {},
  "kernelspec": {
   "display_name": "venv",
   "language": "python",
   "name": "venv"
  },
  "language_info": {
   "codemirror_mode": {
    "name": "ipython",
    "version": 3
   },
   "file_extension": ".py",
   "mimetype": "text/x-python",
   "name": "python",
   "nbconvert_exporter": "python",
   "pygments_lexer": "ipython3",
   "version": "3.5.2"
  }
 },
 "nbformat": 4,
 "nbformat_minor": 1
}
