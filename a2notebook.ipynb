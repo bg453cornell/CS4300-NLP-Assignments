{
 "cells": [
  {
   "cell_type": "markdown",
   "metadata": {
    "deletable": false,
    "editable": false,
    "nbgrader": {
     "checksum": "fc81545f96f125b0b2a155f6ca2f919c",
     "grade": false,
     "grade_id": "cell-e7c4ba72adf31577",
     "locked": true,
     "schema_version": 1,
     "solution": false
    }
   },
   "source": [
    "# Assignment 2: Keeping Up With Social Information (Part 2)\n",
    "## © Cristian Danescu-Niculescu-Mizil 2018\n",
    "## CS/INFO 4300 Language and Information\n",
    "## Due by midnight on Wednesday February 14th\n",
    "\n",
    "This assignment is **individual**.\n",
    "\n",
    "In this assignment we will further build upon our analysis of the transcripts from the reality TV show \"Keeping Up With The Kardashians\" from where we left off since Assignment 1. We will try to uncover some simple social dynamics that are shown through language using various statistical and linguistic techniques to better understand conversational behavior.\n",
    "\n",
    "**Learning Objectives**\n",
    "\n",
    "This project aims to help you get comfortable working with the following tools / technologies / concepts:\n",
    "\n",
    "* Standard/Generalized Jaccard similairty\n",
    "* Plotting heatmaps in `matplotlib`\n",
    "* Advanced numpy functionality\n",
    "* Gender and Social Interaction Analysis \n",
    "\n",
    "**Academic Integrity and Collaboration**\n",
    "\n",
    "Note that these projects should be completed individually. As a result, all University-standard academic integrity guidelines must be followed.\n",
    "\n",
    "**Guidelines**\n",
    "\n",
    "All cells that contain the blocks that read `# YOUR CODE HERE` are editable and are to be completed to ensure you pass the test-cases. Make sure to write your code where indicated.\n",
    "\n",
    "All cells that read `YOUR ANSWER HERE` are free-response cells that are editable and are to be completed.\n",
    "\n",
    "You may use any number of notebook cells to explore the data and test out your functions, although you will only be graded on the solution itself.\n",
    "\n",
    "\n",
    "You are unable to modify the read-only cells.\n",
    "\n",
    "You should also use Markdown cells to explain your code and discuss your results when necessary.\n",
    "Instructions can be found [here](http://jupyter-notebook.readthedocs.io/en/latest/examples/Notebook/Working%20With%20Markdown%20Cells.html).\n",
    "\n",
    "All floating point values should be printed with **2 decimal places** precision. You can do so using the built-in round function.\n",
    "\n",
    "**Grading**\n",
    "\n",
    "For code-completion questions you will be graded on passing the public test cases we have included, as well as any hidden test cases that we have supplemented to ensure that your logic is correct.\n",
    "\n",
    "For free-response questions you will be manually graded on the quality of your answer.\n",
    "\n",
    "**Submission**\n",
    "\n",
    "This entire notebook is expected to run with an upper bound being ~1-2 minutes.\n",
    "\n",
    "You are expected to submit this .ipynb as your submission for Assignment 2. \n",
    "\n",
    "In addition please submit an html copy of the notebook (You can create this by clicking File > Download as > HTML (.html))."
   ]
  },
  {
   "cell_type": "code",
   "execution_count": 1,
   "metadata": {
    "deletable": false,
    "editable": false,
    "nbgrader": {
     "checksum": "75fbe20afe30bec8ddbf1ee172a6b556",
     "grade": false,
     "grade_id": "cell-97b1c5e4f7df612c",
     "locked": true,
     "schema_version": 1,
     "solution": false
    }
   },
   "outputs": [],
   "source": [
    "import re\n",
    "import json\n",
    "from glob import glob\n",
    "import os\n",
    "from io import StringIO\n",
    "from itertools import groupby\n",
    "import pickle\n",
    "\n",
    "import numpy as np\n",
    "import bs4\n",
    "%matplotlib inline\n",
    "import matplotlib.pyplot as plt\n",
    "# Imports that might help with various functionality\n",
    "import functools\n",
    "import operator"
   ]
  },
  {
   "cell_type": "code",
   "execution_count": 2,
   "metadata": {
    "deletable": false,
    "editable": false,
    "nbgrader": {
     "checksum": "f43944ca7e2ba29b18c82a019e743fea",
     "grade": false,
     "grade_id": "cell-7114417ecfb57e62",
     "locked": true,
     "schema_version": 1,
     "solution": false
    }
   },
   "outputs": [],
   "source": [
    "import sys\n",
    "# Ensure that your kernel is using Python3\n",
    "assert sys.version_info.major == 3"
   ]
  },
  {
   "cell_type": "markdown",
   "metadata": {
    "deletable": false,
    "editable": false,
    "nbgrader": {
     "checksum": "077b72f65eb254f032d957bb9c2754fa",
     "grade": false,
     "grade_id": "cell-b9584a9a5df87291",
     "locked": true,
     "schema_version": 1,
     "solution": false
    }
   },
   "source": [
    "To ensure that you are comfortable moving forward. Make sure that you are familair with the following data structures that were defined in Assignment 1, as you will be using these throughout Assignment 2:\n",
    "* deduped_transcripts\n",
    "* titles\n",
    "* good_types\n",
    "* word_array\n",
    "* good_speakers"
   ]
  },
  {
   "cell_type": "code",
   "execution_count": 3,
   "metadata": {
    "deletable": false,
    "editable": false,
    "nbgrader": {
     "checksum": "1ebbf2d034aa61f9d248f304cc2ba185",
     "grade": false,
     "grade_id": "cell-e31168ecff8580a3",
     "locked": true,
     "schema_version": 1,
     "solution": false
    }
   },
   "outputs": [],
   "source": [
    "## We are loading: deduped transcripts from Assignment 1\n",
    "with open('deduped_transcripts.pickle','rb') as f:\n",
    "    deduped_transcripts = pickle.load(f)\n",
    "## We are loading: the titles from Assignment 1\n",
    "with open('titles.pickle','rb') as f:\n",
    "    titles = pickle.load(f)\n",
    "## We are loading: the good_types from Assignment 1\n",
    "with open('good_types.pickle','rb') as f:\n",
    "    good_types = pickle.load(f) \n",
    "n_good_types = len(good_types)\n",
    "## We are loading: the word_array from Assignment 1\n",
    "with open('word_array.pickle','rb') as f:\n",
    "    word_array = pickle.load(f) \n",
    "good_speakers = [u'BRUCE',\n",
    "                 u'JONATHAN',\n",
    "                 u'KHLOE',\n",
    "                 u'KIM',\n",
    "                 u'KOURTNEY',\n",
    "                 u'KRIS',\n",
    "                 u'ROBERT',\n",
    "                 u'SCOTT']\n",
    "n_good_speakers = len(good_speakers)"
   ]
  },
  {
   "cell_type": "code",
   "execution_count": 4,
   "metadata": {
    "deletable": false,
    "editable": false,
    "nbgrader": {
     "checksum": "803005b4fd7f8ffb5c96518feb00e03f",
     "grade": false,
     "grade_id": "cell-59e3bcaa15cf7e4f",
     "locked": true,
     "schema_version": 1,
     "solution": false
    }
   },
   "outputs": [],
   "source": [
    "# Ensure that the pickled data stuctures are correct\n",
    "assert type(deduped_transcripts[0]) == tuple\n",
    "assert type(titles) == dict\n",
    "assert n_good_types == 4517\n",
    "assert n_good_speakers == 8"
   ]
  },
  {
   "cell_type": "markdown",
   "metadata": {
    "deletable": false,
    "editable": false,
    "nbgrader": {
     "checksum": "fde08d77dda0d602faeffa16386f3cd6",
     "grade": false,
     "grade_id": "cell-5d95eab0b7441c94",
     "locked": true,
     "schema_version": 1,
     "solution": false
    }
   },
   "source": [
    "# Character interaction analysis\n",
    "\n",
    "## Question 1 (Code Completition): Character Similarity w/ Jaccard\n",
    "We will begin by looking at which characters speak the most similarly to each other. To analyze this, you will build a symmetric character-by-character matrix showing how similar each pair of characters is. You will be plotting this matrix as a heatmap using `matplotlib imshow`. For similarity we will be using Jaccard similarity. \n",
    "\n",
    "Jaccard similarity is a metric for comparing sets.\n",
    "\n",
    "$$ J(A, B) = \\frac{|A \\cap B|}{|A \\cup B|} $$\n",
    "\n",
    "To fit the definition, we'd represent a character as a set of all words they used (as usual, we only consider \"good types\"). Note that this formulation involves disregarding how many *times* a speaker said a word.\n",
    "\n",
    "Therefore, the definition can be rewritten as:\n",
    "\n",
    "$$ J(A, B) = \\frac{\\sum_{w \\in \\text{good types}} w \\in A \\,\\text{and}\\, w \\in B}\n",
    "{\\sum_{w \\in \\text{good types}}w \\in A \\,\\text{or}\\, w \\in B} $$\n",
    "\n",
    "In the cell below, fulfill the function specification:"
   ]
  },
  {
   "cell_type": "code",
   "execution_count": 5,
   "metadata": {
    "deletable": false,
    "nbgrader": {
     "checksum": "93b3988d0d11e402ccbc466b7d9c8858",
     "grade": false,
     "grade_id": "create_j_sim_mat",
     "locked": false,
     "schema_version": 1,
     "solution": true
    }
   },
   "outputs": [],
   "source": [
    "def create_j_sim_mat(input_n_speakers,input_word_array,input_good_types):\n",
    "    \"\"\"Returns a numpy array of shape n_speakers by n_speakers such that the \n",
    "    entry (ij) indicates the Jaccard Similairty between Speaker i and j.\n",
    "    \n",
    "    Note: Set diagnoals to 0.0 (As the similarity between the same character\n",
    "    won't count)\n",
    "    \n",
    "    Hint: Use numpy primitives\n",
    "    \n",
    "    Params: {input_n_speakers: Integer,\n",
    "             input_word_array: Numpy array,\n",
    "             input_good_types: List}\n",
    "    Returns: Numpy Array\n",
    "    \"\"\"\n",
    "    # YOUR CODE HERE\n",
    "    c2c_mat = np.zeros((input_n_speakers, input_n_speakers))\n",
    "    for i in range(input_n_speakers):\n",
    "        for j in range(i+1, input_n_speakers):\n",
    "            I = input_word_array[i].astype(bool).astype(int)\n",
    "            J = input_word_array[j].astype(bool).astype(int)\n",
    "            J_ij = (np.dot(I, J)+0.)/np.sum((I + J).astype(bool))\n",
    "            c2c_mat[i][j] = c2c_mat[j][i] = J_ij\n",
    "    return c2c_mat\n",
    "        \n",
    "    raise NotImplementedError()"
   ]
  },
  {
   "cell_type": "code",
   "execution_count": 6,
   "metadata": {
    "deletable": false,
    "editable": false,
    "nbgrader": {
     "checksum": "c018fe3df6f094089d10077934f9f5fa",
     "grade": false,
     "grade_id": "cell-8e9bf7fa52dc0f25",
     "locked": true,
     "schema_version": 1,
     "solution": false
    }
   },
   "outputs": [],
   "source": [
    "j_sim_matrix = create_j_sim_mat(n_good_speakers,word_array,good_types)"
   ]
  },
  {
   "cell_type": "code",
   "execution_count": 7,
   "metadata": {
    "deletable": false,
    "editable": false,
    "nbgrader": {
     "checksum": "8551bdf33055e02885d198f87de8aedf",
     "grade": true,
     "grade_id": "create_j_sim_mat_test",
     "locked": true,
     "points": 20,
     "schema_version": 1,
     "solution": false
    }
   },
   "outputs": [],
   "source": [
    "# This is an autograder test. Here we can test the function you just wrote above.\n",
    "\"\"\"Check that create_j_sim_mat returns the correct output\"\"\"\n",
    "assert type(j_sim_matrix) == np.ndarray\n",
    "assert j_sim_matrix.shape == (8,8)\n",
    "assert j_sim_matrix[4][4] == 0.0\n",
    "assert sum(j_sim_matrix[1,:]) >= 1"
   ]
  },
  {
   "cell_type": "code",
   "execution_count": 8,
   "metadata": {
    "deletable": false,
    "editable": false,
    "nbgrader": {
     "checksum": "b877b45a76edda233d38f63e05c1339c",
     "grade": false,
     "grade_id": "cell-bd902e9aa1b307b1",
     "locked": true,
     "schema_version": 1,
     "solution": false
    }
   },
   "outputs": [
    {
     "data": {
      "image/png": "[encoded data removed]",
      "text/plain": [
       "<matplotlib.figure.Figure at 0x7f28cdb2a588>"
      ]
     },
     "metadata": {},
     "output_type": "display_data"
    }
   ],
   "source": [
    "plt.imshow(j_sim_matrix, interpolation='none',\n",
    "           cmap=plt.cm.Greys)\n",
    "plt.colorbar()\n",
    "\n",
    "plt.xticks(range(n_good_speakers), good_speakers, rotation=90)\n",
    "plt.yticks(range(n_good_speakers), good_speakers)\n",
    "plt.show()"
   ]
  },
  {
   "cell_type": "markdown",
   "metadata": {
    "deletable": false,
    "editable": false,
    "nbgrader": {
     "checksum": "a7a5ac95f45291bb3334802c30ecbd44",
     "grade": false,
     "grade_id": "cell-154d61b3f119a006",
     "locked": true,
     "schema_version": 1,
     "solution": false
    }
   },
   "source": [
    "## Question 1b (Code Completition) Character Similiarity w/ Jaccard\n",
    "To make it easier for us to analyze the matrix you will build a dictionary that shows the simlairity measurement between an arbitrary pair of characters. This function should take an arbitrary matrix (for the sake of future analysis that we will do) that is ordered by `good_speakers` and is of size `n_good_speakers` by `n_good_speakers`.\n",
    "\n",
    "Please define the function below and ensure that the return format of your dictionary is the following scheme:\n",
    "\n",
    "```\n",
    "{(CHARACTER_NAME_A,CHARACTER_NAME_B): score_a_b,\n",
    "...}\n",
    "```"
   ]
  },
  {
   "cell_type": "code",
   "execution_count": 9,
   "metadata": {
    "deletable": false,
    "nbgrader": {
     "checksum": "4bc73e7ccb1dc7c9ab639db77df92c9e",
     "grade": false,
     "grade_id": "sim_dict",
     "locked": false,
     "schema_version": 1,
     "solution": true
    }
   },
   "outputs": [],
   "source": [
    "def sim_dict(input_sim_mat,input_good_speakers,input_n_speakers):\n",
    "    \"\"\"Returns a dictionary with the keys being tuple pairs of speakers and \n",
    "    values being similarity scores. \n",
    "    \n",
    "    Note: The values should be in full-precision. \n",
    "    When printing, we will be rounding but leave the values return by \n",
    "    this function in full-precision. \n",
    "    \n",
    "    The desired dictionary format should be the following\n",
    "        {(CHARACTER_NAME_A,CHARACTER_NAME_B): score_a_b,\n",
    "        ...}\n",
    "    \n",
    "    Params: {input_sim_mat: Numpy Array,\n",
    "             input_good_speakers: List,\n",
    "             input_n_speakers: Integer}\n",
    "    Returns: Dict\n",
    "    \"\"\"\n",
    "    # YOUR CODE HERE\n",
    "    c2c_scores = {}\n",
    "    for i in range(input_n_speakers):\n",
    "        for j in range(input_n_speakers):\n",
    "            c2c_scores[(input_good_speakers[i], input_good_speakers[j])] = input_sim_mat[i][j]\n",
    "    return c2c_scores\n",
    "    raise NotImplementedError()"
   ]
  },
  {
   "cell_type": "code",
   "execution_count": 10,
   "metadata": {
    "deletable": false,
    "editable": false,
    "nbgrader": {
     "checksum": "bcb11b91a458f45f3e45e1c4c7c91e35",
     "grade": false,
     "grade_id": "cell-ad3c09bed9da6bf9",
     "locked": true,
     "schema_version": 1,
     "solution": false
    }
   },
   "outputs": [],
   "source": [
    "jaccard_sim_dict = sim_dict(j_sim_matrix,good_speakers,n_good_speakers)"
   ]
  },
  {
   "cell_type": "code",
   "execution_count": 11,
   "metadata": {
    "deletable": false,
    "editable": false,
    "nbgrader": {
     "checksum": "d8ae5650ac8bc90bcc05d4d1c5cd240e",
     "grade": true,
     "grade_id": "sim_dict_test",
     "locked": true,
     "points": 5,
     "schema_version": 1,
     "solution": false
    }
   },
   "outputs": [],
   "source": [
    "# This is an autograder test. Here we can test the function you just wrote above.\n",
    "\"\"\"Check that sim_dict returns the correct output\"\"\"\n",
    "assert type(jaccard_sim_dict) == dict\n",
    "assert jaccard_sim_dict[('BRUCE','BRUCE')] == 0.0\n",
    "assert jaccard_sim_dict[('KIM','SCOTT')] < 0.5"
   ]
  },
  {
   "cell_type": "markdown",
   "metadata": {},
   "source": [
    "## Question 1c (Code Completition): Character Similiarity w/ Jaccard\n",
    "To make it easier for us to analyze the matrix we will be creating we will take an input similarity dictionary and return the most and least similar pairs. As a result, we want to return a tuple in the following format:\n",
    "```\n",
    "((MOST_SIMILAR_CHARACTER_PAIR,MOST_SIM_SCORE),\n",
    " (LEAST_SIMILAR_CHARACTER_PAIR,LEAST_SIM_SCORE))\n",
    "```"
   ]
  },
  {
   "cell_type": "code",
   "execution_count": 12,
   "metadata": {
    "deletable": false,
    "nbgrader": {
     "checksum": "657137cb65e28166b47abe902ebde496",
     "grade": false,
     "grade_id": "most_least_sim_pairs",
     "locked": false,
     "schema_version": 1,
     "solution": true
    }
   },
   "outputs": [],
   "source": [
    "def most_least_sim_pairs(input_sim_dict):\n",
    "    \"\"\"Returns a 2-element tuple list which shows \n",
    "    the most and least similar character pairs. \n",
    "\n",
    "    The desired tuple format should be the following\n",
    "        ((MOST_SIMILAR_CHARACTER_PAIR,MOST_SIM_SCORE),\n",
    "         (LEAST_SIMILAR_CHARACTER_PAIR,LEAST_SIM_SCORE))\n",
    "    \n",
    "    Note: Disregard pairs between the same person: i.e. (KIM,KIM)\n",
    "    \n",
    "    Params: {input_sim_dict: Dict}\n",
    "    Returns: tuple\n",
    "    \"\"\"\n",
    "    # YOUR CODE HERE\n",
    "    pair_score = tuple()\n",
    "    nzero_input_sim_dict = {key: value for key, value in input_sim_dict.items() if value != 0.}\n",
    "    pair_score += (max(nzero_input_sim_dict.items(), key = lambda x: x[1]), )\n",
    "    pair_score += (min(nzero_input_sim_dict.items(), key = lambda x: x[1]), )\n",
    "    return pair_score\n",
    "        \n",
    "    raise NotImplementedError()"
   ]
  },
  {
   "cell_type": "code",
   "execution_count": 13,
   "metadata": {
    "deletable": false,
    "editable": false,
    "nbgrader": {
     "checksum": "e83f816ba28a2367c29a473b5eda96b5",
     "grade": false,
     "grade_id": "cell-22808a2d32cae4ec",
     "locked": true,
     "schema_version": 1,
     "solution": false
    }
   },
   "outputs": [
    {
     "name": "stdout",
     "output_type": "stream",
     "text": [
      "MOST SIMILAR: ('KIM', 'KHLOE') - 0.50\n",
      "LEAST SIMILAR: ('KHLOE', 'JONATHAN') - 0.24\n"
     ]
    }
   ],
   "source": [
    "most_least_tup = most_least_sim_pairs(jaccard_sim_dict)\n",
    "print(\"MOST SIMILAR: %s - %.2f\" % most_least_tup[0])\n",
    "print(\"LEAST SIMILAR: %s - %.2f\" % most_least_tup[1])"
   ]
  },
  {
   "cell_type": "code",
   "execution_count": 14,
   "metadata": {
    "deletable": false,
    "editable": false,
    "nbgrader": {
     "checksum": "8df6f14a5fabd7fbac96d9dc28287325",
     "grade": true,
     "grade_id": "most_least_tup",
     "locked": true,
     "points": 5,
     "schema_version": 1,
     "solution": false
    }
   },
   "outputs": [],
   "source": [
    "# This is an autograder test. Here we can test the function you just wrote above.\n",
    "\"\"\"Check that most_least_sim_pairs returns the correct output\"\"\"\n",
    "assert type(most_least_tup) == tuple\n",
    "assert len(most_least_tup) == 2"
   ]
  },
  {
   "cell_type": "markdown",
   "metadata": {},
   "source": [
    "## Question 2 (Code Completion): Character Similairty w/ Generalized Jaccard\n",
    "The similarity measure that we took above doesn't take into account how often the characters say a word. To account for this, we can use Generalized Jaccard, an extension of Jaccard to weighted sets.\n",
    "\n",
    "For each word $w$ and each character $C$, we compute the frequency weight $\\text{tf}(w, C)$ as the ratio between the number of times $C$ says the word $w$, and the total number of words (good types) said by $C$. For example, if we had a character named Ilan, and all of the words that he said were \"my name is ta ilan and i am your ta\" the $\\text{tf}(ta, ilan)$ would be $\\frac{2}{10}$\n",
    "\n",
    "Generalized Jaccard is:\n",
    "\n",
    "$$ GJ(A, B) = \\frac{\\sum_{w \\in \\text{good types}} \\text{min}(\\text{tf}(w, A), \\text{tf}(w, B))}\n",
    "{\\sum_{w \\in \\text{good types}} \\text{max}(\\text{tf}(w, A), \\text{tf}(w, B))} $$\n",
    "\n",
    "Note that Jaccard is equivalent to Generalized Jaccard if the weights are binarized by truncating all positive ones to 1.\n",
    "\n",
    "Firstly, you will begin by defining a `tf` function below. "
   ]
  },
  {
   "cell_type": "code",
   "execution_count": 15,
   "metadata": {},
   "outputs": [],
   "source": [
    "# To help you, we have incuded this variable which is an inverse index for good_types\n",
    "good_types_reverse_index = {t: i for i, t in enumerate(good_types)}"
   ]
  },
  {
   "cell_type": "code",
   "execution_count": 16,
   "metadata": {
    "deletable": false,
    "nbgrader": {
     "checksum": "fd75680a1b8711a3e8a580de99f34a23",
     "grade": false,
     "grade_id": "tf_def",
     "locked": false,
     "schema_version": 1,
     "solution": true
    }
   },
   "outputs": [],
   "source": [
    "def tf(word_w,character_c,input_word_array):\n",
    "    \"\"\" This function determines the term frequency weight which is the \n",
    "    ratio between the number of times an input character C says word W and \n",
    "    the total number of words said by character C.\n",
    "    \n",
    "    Note: Look at the exampled in the cell above with: tf(ta,ilan). \n",
    "          Please return answer in full preceision. \n",
    "          You should use the global variable: good_types_reverse_index\n",
    "          in this function... This is for the sake of making a smaller arg list.\n",
    "          This is different from the (unnormalized) TF you have seen in class.\n",
    "    \n",
    "    Params: {word_w: String,\n",
    "             character_c: Integer (Index within good_speakers),\n",
    "             input_word_array: Numpy array}\n",
    "    Returns: Float\n",
    "    \"\"\"\n",
    "    # YOUR CODE HERE\n",
    "    word_idx = good_types_reverse_index[word_w]\n",
    "    tf = input_word_array[character_c][word_idx]/sum(input_word_array[character_c])\n",
    "    return tf\n",
    "    raise NotImplementedError()"
   ]
  },
  {
   "cell_type": "code",
   "execution_count": 17,
   "metadata": {
    "deletable": false,
    "editable": false,
    "nbgrader": {
     "checksum": "a8e69df04154f3dd51182a8c92f1505b",
     "grade": true,
     "grade_id": "tf_def_test",
     "locked": true,
     "points": 10,
     "schema_version": 1,
     "solution": false
    }
   },
   "outputs": [],
   "source": [
    "# This is an autograder test. Here we can test the function you just wrote above.\n",
    "\"\"\"Check that tf returns the correct output\"\"\"\n",
    "assert tf('hi',3,word_array)*100 > 0.10"
   ]
  },
  {
   "cell_type": "markdown",
   "metadata": {
    "deletable": false,
    "editable": false,
    "nbgrader": {
     "checksum": "2472e76b919c24a9b948db16043f0a2b",
     "grade": false,
     "grade_id": "cell-21fd8ca300d881a3",
     "locked": true,
     "schema_version": 1,
     "solution": false
    }
   },
   "source": [
    "## Question 2b (Code Completion): Character Similarty w/ Generalized Jaccard\n",
    "Now you will complete the function specification below, which will return a numpy array \n",
    "of character similarities done via Generalized Jaccard"
   ]
  },
  {
   "cell_type": "code",
   "execution_count": 18,
   "metadata": {
    "deletable": false,
    "nbgrader": {
     "checksum": "6259331b39c0112b906926bcfd378a12",
     "grade": false,
     "grade_id": "create_g_j_sim_mat",
     "locked": false,
     "schema_version": 1,
     "solution": true
    }
   },
   "outputs": [],
   "source": [
    "def create_g_j_sim_mat(tf_method,input_word_array,input_good_types,input_n_speakers):\n",
    "    \"\"\"Returns a numpy array of shape n_speakers by n_speakers such that the \n",
    "    entry (ij) indicates the Generalized Jaccard Similarty between Speaker i and j.\n",
    "    \n",
    "    Note: Set diagnoals to 0.0 (As the similarity between the same character\n",
    "    won't count)\n",
    "    \n",
    "    Hint: Use numpy primitives\n",
    "    \n",
    "    Params: {tf_method: Function (a,b,c) -> d,\n",
    "             input_word_array: Numpy Array,\n",
    "             input_good_types: List,\n",
    "             input_n_speakers: Integer}\n",
    "    Returns: numpy array\n",
    "    \"\"\"\n",
    "    # YOUR CODE HERE\n",
    "    tf_mat = np.copy(input_word_array)\n",
    "    sum_words = np.sum(input_word_array, axis = 1)\n",
    "    for k in range(len(input_good_types)):\n",
    "        tf_mat[:, k] = input_word_array[:, k]/sum_words\n",
    "        # We used matrix rather than tf_method to calculate term frequency here\n",
    "        \n",
    "        \n",
    "    GJS = np.zeros((input_n_speakers, input_n_speakers))\n",
    "    for i in range(input_n_speakers):\n",
    "        for j in range(i+1, input_n_speakers):\n",
    "                numerator = sum([min(tf_i, tf_j) for tf_i, tf_j in zip(tf_mat[i], tf_mat[j])])\n",
    "                denominator = sum([max(tf_i, tf_j) for tf_i, tf_j in zip(tf_mat[i], tf_mat[j])])\n",
    "                GJS[i][j] = GJS[j][i] = numerator/denominator\n",
    "    return GJS\n",
    "    raise NotImplementedError()"
   ]
  },
  {
   "cell_type": "code",
   "execution_count": 19,
   "metadata": {
    "deletable": false,
    "editable": false,
    "nbgrader": {
     "checksum": "acd596ffbc3bfdb3c81421b9ba6e5844",
     "grade": false,
     "grade_id": "cell-5b20f9c68ba808c0",
     "locked": true,
     "schema_version": 1,
     "solution": false
    }
   },
   "outputs": [],
   "source": [
    "g_j_sim_matrix = create_g_j_sim_mat(tf,word_array,good_types,n_good_speakers)\n",
    "g_jaccard_sim_dict = sim_dict(g_j_sim_matrix,good_speakers,n_good_speakers)"
   ]
  },
  {
   "cell_type": "code",
   "execution_count": 20,
   "metadata": {
    "deletable": false,
    "editable": false,
    "nbgrader": {
     "checksum": "7ea7bcb38fff3c3f4c7610e79090b1d6",
     "grade": false,
     "grade_id": "cell-2d1a780bc392a053",
     "locked": true,
     "schema_version": 1,
     "solution": false
    }
   },
   "outputs": [
    {
     "name": "stdout",
     "output_type": "stream",
     "text": [
      "MOST SIMILAR: ('KIM', 'KHLOE') - 0.72\n",
      "LEAST SIMILAR: ('JONATHAN', 'ROBERT') - 0.49\n"
     ]
    }
   ],
   "source": [
    "g_most_least_tup = most_least_sim_pairs(g_jaccard_sim_dict)\n",
    "print(\"MOST SIMILAR: %s - %.2f\" % g_most_least_tup[0])\n",
    "print(\"LEAST SIMILAR: %s - %.2f\" % g_most_least_tup[1])"
   ]
  },
  {
   "cell_type": "code",
   "execution_count": 21,
   "metadata": {
    "deletable": false,
    "editable": false,
    "nbgrader": {
     "checksum": "ea5877acc58e9350ba13ba4f28f8e961",
     "grade": true,
     "grade_id": "create_g_j_sim_mat_test",
     "locked": true,
     "points": 25,
     "schema_version": 1,
     "solution": false
    }
   },
   "outputs": [],
   "source": [
    "# This is an autograder test. Here we can test the function you just wrote above.\n",
    "\"\"\"Check that create_g_j_sim_mat returns the correct output\"\"\"\n",
    "assert type(g_j_sim_matrix) == np.ndarray\n",
    "assert g_j_sim_matrix.shape == (8,8)\n",
    "assert type(g_jaccard_sim_dict) == dict\n",
    "assert g_j_sim_matrix[2][2] == 0.0\n",
    "assert sum(g_j_sim_matrix[1,:]) > 3\n",
    "assert g_jaccard_sim_dict['BRUCE','KIM'] > 0.5"
   ]
  },
  {
   "cell_type": "code",
   "execution_count": 22,
   "metadata": {
    "deletable": false,
    "editable": false,
    "nbgrader": {
     "checksum": "af8a8f115f1a51482685fffde156f79e",
     "grade": true,
     "grade_id": "g_most_least_tup",
     "locked": true,
     "points": 5,
     "schema_version": 1,
     "solution": false
    }
   },
   "outputs": [],
   "source": [
    "# This is an autograder test. Here we can test the function you just wrote above.\n",
    "\"\"\"Check that create_g_j_sim_mat and most_least_sim_pairs returns the correct output\"\"\"\n",
    "assert g_most_least_tup[0][0] == ('KHLOE', 'KIM') or g_most_least_tup[0][0] == ('KIM', 'KHLOE')"
   ]
  },
  {
   "cell_type": "code",
   "execution_count": 23,
   "metadata": {
    "deletable": false,
    "editable": false,
    "nbgrader": {
     "checksum": "d5e8e7f0b4f0417066192fa3e172ce74",
     "grade": false,
     "grade_id": "cell-8336e767a99f80fc",
     "locked": true,
     "schema_version": 1,
     "solution": false
    }
   },
   "outputs": [
    {
     "data": {
      "image/png": "[encoded data removed]",
      "text/plain": [
       "<matplotlib.figure.Figure at 0x7f28cb00a8d0>"
      ]
     },
     "metadata": {},
     "output_type": "display_data"
    }
   ],
   "source": [
    "plt.imshow(g_j_sim_matrix, interpolation='none',\n",
    "           cmap=plt.cm.Greys)\n",
    "plt.colorbar()\n",
    "\n",
    "plt.xticks(range(n_good_speakers), good_speakers, rotation=90)\n",
    "plt.yticks(range(n_good_speakers), good_speakers)\n",
    "plt.show()"
   ]
  },
  {
   "cell_type": "markdown",
   "metadata": {
    "deletable": false,
    "editable": false,
    "nbgrader": {
     "checksum": "4a03a9e657764219878a661415d8c98c",
     "grade": false,
     "grade_id": "cell-c0a9db5c65324342",
     "locked": true,
     "schema_version": 1,
     "solution": false
    }
   },
   "source": [
    "## Question 2c (Free Response): Character Similairty w/ Generalized Jaccard\n",
    "\n",
    "Isn't it cool how we are able to analyze character similarity using just conversational data?! \n",
    "Be sure to investigate how the Generalized Jaccard similarity matrix differs from the standard Jaccard and how the character similairty pairs change. \n",
    "\n",
    "In the cell below, please use Markdown to observe any differences that you noticed between the heatmaps \n",
    "generated with Jaccard and Generalized Jaccard similaritiy measurements."
   ]
  },
  {
   "cell_type": "markdown",
   "metadata": {
    "deletable": false,
    "nbgrader": {
     "checksum": "b00b616928a74421337ad83af4f0bf16",
     "grade": true,
     "grade_id": "cell-72d857e373a7132c",
     "locked": false,
     "points": 5,
     "schema_version": 1,
     "solution": true
    }
   },
   "source": [
    "The most obvious difference is that the scores computed by Generalized Jaccard similarity measurements are higher and closer to each other comparing to the results from standard Jaccard. The color of Generalized Jaccard is darker on average. Jonathan is the least similar character in both heatmaps, but the character pairs with him in the least similar pair changes from Khloe to Robert."
   ]
  },
  {
   "cell_type": "markdown",
   "metadata": {
    "deletable": false,
    "editable": false,
    "nbgrader": {
     "checksum": "5acb9a19cae26057ef98bbfa3b0aaa76",
     "grade": false,
     "grade_id": "cell-0bd422c28015365f",
     "locked": true,
     "schema_version": 1,
     "solution": false
    }
   },
   "source": [
    "## Question 3 (Code Completition): Character Pair Analysis w/ Generalized Jaccard\n",
    "Leveraging the Generalized Jaccard similarity matrix: `g_j_sim_matrix` you will be doing analysis \n",
    "on character pairs and their average similarty in comparison to other pairs. The goal of this analysis is to determine which character is the most similar to everyone else and who is the least similar to everyone else. \n",
    "\n",
    "As a start, let us build a list of floats of size `n_good_speakers`, that corresponds to the average similarity between that character and all the rest of the characters. In the cell below, satisfy the specification and ensure that you leverage numpy primitives"
   ]
  },
  {
   "cell_type": "code",
   "execution_count": 24,
   "metadata": {
    "deletable": false,
    "nbgrader": {
     "checksum": "5b09658b4fd46a171d0edc320a8e7971",
     "grade": false,
     "grade_id": "create_avg_sims",
     "locked": false,
     "schema_version": 1,
     "solution": true
    }
   },
   "outputs": [],
   "source": [
    "def create_avg_sims(input_g_sim,input_n_speakers):\n",
    "    \"\"\"Returns a numpy array of size input_n_speaker that gives the average\n",
    "       similairity between speaker i and everybody but the speaker itself. \n",
    "    \n",
    "    Hint: It is recommended to use numpy primitives. \n",
    "    \n",
    "    Note: You can not use the input_n_speakers if you \n",
    "    can satisfy the spec without using it. \n",
    "    \n",
    "    Params: {input_g_sim: Numpy Matrix (Generalized Jaccard sim matrix),\n",
    "             input_n_speakers: Integer}\n",
    "    Returns: Numpy array\n",
    "    \"\"\"\n",
    "    # YOUR CODE HERE\n",
    "    return np.sum(input_g_sim, axis = 1)/(input_n_speakers-1)\n",
    "    raise NotImplementedError()"
   ]
  },
  {
   "cell_type": "code",
   "execution_count": 25,
   "metadata": {
    "deletable": false,
    "editable": false,
    "nbgrader": {
     "checksum": "e4da4689f8c3aa5513d0e72a90be6a2d",
     "grade": false,
     "grade_id": "cell-57808e8d59c856d7",
     "locked": true,
     "schema_version": 1,
     "solution": false
    }
   },
   "outputs": [],
   "source": [
    "avg_sims = create_avg_sims(g_j_sim_matrix,n_good_speakers)"
   ]
  },
  {
   "cell_type": "code",
   "execution_count": 26,
   "metadata": {
    "deletable": false,
    "editable": false,
    "nbgrader": {
     "checksum": "68313e98ec3eb4141a6cf19287b522ba",
     "grade": true,
     "grade_id": "create_avg_sims_test",
     "locked": true,
     "points": 5,
     "schema_version": 1,
     "solution": false
    }
   },
   "outputs": [],
   "source": [
    "# This is an autograder test. Here we can test the function you just wrote above.\n",
    "\"\"\"Check that create_avg_sims returns the correct output\"\"\"\n",
    "assert type(avg_sims) == np.ndarray\n",
    "assert avg_sims.shape == (8,)\n",
    "assert sum(avg_sims) < 5"
   ]
  },
  {
   "cell_type": "markdown",
   "metadata": {},
   "source": [
    "## Question 3b (Code Completition): Character Pair Analysis w/ Generalized Jaccard\n",
    "This specific analysis concludes with the determination of which characters are the most and least similar to everyone else. \n",
    "\n",
    "As such, in the cell bellow satisfy the specification to by return a tuple in the following format:\n",
    "```\n",
    "(MOST_SIMILAR_CHARACTER_NAME,LEAST_SIMILAR_CHARACTER_NAME)\n",
    "```"
   ]
  },
  {
   "cell_type": "code",
   "execution_count": 27,
   "metadata": {
    "deletable": false,
    "nbgrader": {
     "checksum": "d6ebb9e7cdfd7360f624bf81b9ac3080",
     "grade": false,
     "grade_id": "most_least_char_sim",
     "locked": false,
     "schema_version": 1,
     "solution": true
    }
   },
   "outputs": [],
   "source": [
    "def most_least_char_sim(input_avg_sims,input_good_speakers):\n",
    "    \"\"\"Returns a Tuple which shows the most and least similar character \n",
    "       in relation to the rest of the characters. \n",
    "\n",
    "    The desired tuple format should be the following\n",
    "        (MOST_SIMILAR_CHARACTER_NAME,LEAST_SIMILAR_CHARACTER_NAME)\n",
    "    \n",
    "    Hint: Use Numpy primitives\n",
    "    \n",
    "    Params: {input_avg_sims: Numpy Array,\n",
    "             input_good_speakers: List}\n",
    "    Returns: Tuple\n",
    "    \"\"\"\n",
    "    # YOUR CODE HERE\n",
    "    least_sim = np.argmin(input_avg_sims)\n",
    "    most_sim = np.argmax(input_avg_sims)\n",
    "    return (input_good_speakers[most_sim], input_good_speakers[least_sim],)\n",
    "    raise NotImplementedError()"
   ]
  },
  {
   "cell_type": "code",
   "execution_count": 28,
   "metadata": {
    "deletable": false,
    "editable": false,
    "nbgrader": {
     "checksum": "91cf59e3da917bce53dfda000841ded7",
     "grade": false,
     "grade_id": "cell-2710cbfce1b7589a",
     "locked": true,
     "schema_version": 1,
     "solution": false
    }
   },
   "outputs": [
    {
     "name": "stdout",
     "output_type": "stream",
     "text": [
      "MOST SIMILAR: KHLOE\n",
      "LEAST SIMILAR: JONATHAN\n"
     ]
    }
   ],
   "source": [
    "sim_pairs = most_least_char_sim(avg_sims,good_speakers)\n",
    "print(\"MOST SIMILAR: %s\" % sim_pairs[0])\n",
    "print(\"LEAST SIMILAR: %s\" % sim_pairs[1])"
   ]
  },
  {
   "cell_type": "code",
   "execution_count": 29,
   "metadata": {
    "deletable": false,
    "editable": false,
    "nbgrader": {
     "checksum": "511ed65732396e91fbe3f6087be62fc2",
     "grade": true,
     "grade_id": "most_least_char_sim_test",
     "locked": true,
     "points": 5,
     "schema_version": 1,
     "solution": false
    }
   },
   "outputs": [],
   "source": [
    "# This is an autograder test. Here we can test the function you just wrote above.\n",
    "\"\"\"Check that most_least_char_sim returns the correct output\"\"\"\n",
    "assert type(sim_pairs) == tuple\n",
    "assert len(sim_pairs) == 2"
   ]
  },
  {
   "cell_type": "markdown",
   "metadata": {
    "deletable": false,
    "editable": false,
    "nbgrader": {
     "checksum": "4b1f5f8bab46f0902111cdc49887180d",
     "grade": false,
     "grade_id": "cell-e97ebdf7c36c1cae",
     "locked": true,
     "schema_version": 1,
     "solution": false
    }
   },
   "source": [
    "## Character interactions\n",
    "\n",
    "In this section we will make the assumtion that, if speaker B says something immediately after speaker A, then it is in reply to speaker A's utterance. While this assumption is not correct in all cases (particularly for noisy transcript data) it should still give us some insight into how our characters are behaving. In many cases, making reasonable assumptions about your data can lead to new insights.\n",
    "\n",
    "## Question 4 (Code Completion): Character Replies\n",
    "\n",
    "In this question we will be looking at how often each character speaks to every other character.\n",
    "\n",
    "In the cell bellow, satisfy the function specification: "
   ]
  },
  {
   "cell_type": "code",
   "execution_count": 30,
   "metadata": {
    "deletable": false,
    "nbgrader": {
     "checksum": "f06c1824baac629af870d419b30af513",
     "grade": false,
     "grade_id": "create_reply_matrix",
     "locked": false,
     "schema_version": 1,
     "solution": true
    }
   },
   "outputs": [],
   "source": [
    "def create_reply_matrix(input_deduped_transcripts,input_good_speakers,input_n_speakers):\n",
    "    \"\"\"Returns a numpy array of shape n_speakers by n_speakers such that the \n",
    "    entry (ij) indicates the how many times speaker j replied to speaker i\n",
    "    \n",
    "    Note: Set diagnoals to 0.0 (As the replies between the same character does \n",
    "          not count)\n",
    "    \n",
    "    Params: {input_deduped_transcripts: List,\n",
    "             input_good_speakers: List,\n",
    "             input_n_speakers: Integer}\n",
    "    Returns: Numpy Array\n",
    "    \"\"\"\n",
    "    # YOUR CODE HERE\n",
    "    reply_mat = np.zeros((input_n_speakers, input_n_speakers))\n",
    "    for transcript in input_deduped_transcripts:\n",
    "        speaker = transcript[1][0]['speaker']\n",
    "        for line in range(1, len(transcript[1])):\n",
    "            replier = transcript[1][line]['speaker']\n",
    "            if replier != speaker and replier in input_good_speakers \\\n",
    "            and speaker in input_good_speakers:\n",
    "                i = input_good_speakers.index(speaker)\n",
    "                j = input_good_speakers.index(replier)\n",
    "                reply_mat[i][j] += 1\n",
    "                reply_mat[j][i] += 1\n",
    "            speaker = replier       \n",
    "    return reply_mat\n",
    "    \n",
    "    raise NotImplementedError()"
   ]
  },
  {
   "cell_type": "code",
   "execution_count": 31,
   "metadata": {
    "deletable": false,
    "editable": false,
    "nbgrader": {
     "checksum": "9370ddfca5a49a44863a530be26cc276",
     "grade": false,
     "grade_id": "cell-84339eb4c4a375d0",
     "locked": true,
     "schema_version": 1,
     "solution": false
    }
   },
   "outputs": [],
   "source": [
    "reply_matrix = create_reply_matrix(deduped_transcripts,good_speakers,n_good_speakers)"
   ]
  },
  {
   "cell_type": "code",
   "execution_count": 32,
   "metadata": {
    "deletable": false,
    "editable": false,
    "nbgrader": {
     "checksum": "7cb1e5dd5e43e54df5c7741d74c603d9",
     "grade": true,
     "grade_id": "create_reply_matrix_test",
     "locked": true,
     "points": 15,
     "schema_version": 1,
     "solution": false
    }
   },
   "outputs": [],
   "source": [
    "# This is an autograder test. Here we can test the function you just wrote above.\n",
    "\"\"\"Check that create_reply_matrix returns the correct output\"\"\"\n",
    "assert type(reply_matrix) == np.ndarray\n",
    "assert reply_matrix[1][1] == 0.0\n",
    "assert reply_matrix.shape == (8,8)\n",
    "assert sum(reply_matrix[1]) > 70"
   ]
  },
  {
   "cell_type": "code",
   "execution_count": 33,
   "metadata": {
    "deletable": false,
    "editable": false,
    "nbgrader": {
     "checksum": "a684251248a83cbefc0e5a16f2add2ea",
     "grade": false,
     "grade_id": "cell-c355fbc77afe4f74",
     "locked": true,
     "schema_version": 1,
     "solution": false
    }
   },
   "outputs": [
    {
     "data": {
      "image/png": "[encoded data removed]",
      "text/plain": [
       "<matplotlib.figure.Figure at 0x7f28cafdc668>"
      ]
     },
     "metadata": {},
     "output_type": "display_data"
    }
   ],
   "source": [
    "plt.imshow(reply_matrix, interpolation='none',\n",
    "           cmap=plt.cm.Greys)\n",
    "plt.colorbar()\n",
    "\n",
    "plt.xticks(range(n_good_speakers), good_speakers, rotation=90)\n",
    "plt.yticks(range(n_good_speakers), good_speakers)\n",
    "plt.show()"
   ]
  },
  {
   "cell_type": "markdown",
   "metadata": {
    "deletable": false,
    "editable": false,
    "nbgrader": {
     "checksum": "35e214024ceff447b9d40d13a95d3199",
     "grade": false,
     "grade_id": "cell-f016295a5274aabe",
     "locked": true,
     "schema_version": 1,
     "solution": false
    }
   },
   "source": [
    "## Question 4b (Free Response): Character Replies\n",
    "\n",
    "In the cell below, please use Markdown to describe anything that you notice about the heatmap generated from the reply matrix. Anything you can capture about the communication between certain characters?"
   ]
  },
  {
   "cell_type": "markdown",
   "metadata": {
    "deletable": false,
    "nbgrader": {
     "checksum": "9ed4e506ffc0331f72381a75c592eadf",
     "grade": true,
     "grade_id": "create_reply_matrix_ans",
     "locked": false,
     "points": 10,
     "schema_version": 1,
     "solution": true
    }
   },
   "source": [
    "The communication between Kris and Bruce and that between Kourtney and Khloe seem to happen most frequently. On the other hand, Jonathan seldom talk to any other main characters."
   ]
  },
  {
   "cell_type": "markdown",
   "metadata": {
    "deletable": false,
    "editable": false,
    "nbgrader": {
     "checksum": "1406ecf670187aaad262b92515b0aaed",
     "grade": false,
     "grade_id": "cell-5f9d8e30994a306f",
     "locked": true,
     "schema_version": 1,
     "solution": false
    }
   },
   "source": [
    "## Question 5 (Code Completion): Character-Pair Specific Diction\n",
    "\n",
    "In this analysis we will be answering the question: what are the most specific words used by each pair of characters?\n",
    "\n",
    "For this analysis, we will take only the pairs of characters that exchanged at least 500 messages between them (*good pairs*), in either direction. As such, we will label these pairs in alphabetical order and build a matrix where the rows correspond to the pairs, and the columns to the *good type* words.\n",
    "\n",
    "You will begin by satisfying the specification in the cell below and determining the good pairs. The return type of the function will be a list of tuples in the following format:\n",
    "```\n",
    "[(character_index_A,character_index_B),\n",
    "...]\n",
    "```\n",
    "\n",
    "Note: We will be numerically sorting the good pairs later. \n",
    "\n",
    "Hint: You are to only look at the interaction between the pairs, not all words each person says. As such you should be only relying on the `reply_matrix`. "
   ]
  },
  {
   "cell_type": "code",
   "execution_count": 34,
   "metadata": {
    "deletable": false,
    "nbgrader": {
     "checksum": "78e5d231eade99bd5bb8c0c5869081d6",
     "grade": false,
     "grade_id": "create_good_pairs",
     "locked": false,
     "schema_version": 1,
     "solution": true
    }
   },
   "outputs": [],
   "source": [
    "def create_good_pairs(input_reply_matrix,input_n_speakers):\n",
    "    \"\"\"Returns a tuple list of good pairs in the following format:\n",
    "        [(character_index_A,character_index_B),\n",
    "        ...]\n",
    "    \n",
    "    Note: You should ensure that the pairs are in either direction i.e. if (1,2) exists than (2,1) \n",
    "    should not, as (1,2) already took account for the pairing. \n",
    "    \n",
    "    Hint: In regards to the note, think about uniqueness constraints that could be obtained given \n",
    "    the fact that the character indexes are INTEGERS. i.e. How do databases handle uniqueness \n",
    "    constraints when building relationships between models that are indexed with integer-based columns?\n",
    "    \n",
    "    Params: {input_reply_matrix: Numpy array,\n",
    "             input_n_speakers: Integer}\n",
    "    Returns: List<Tuple>\n",
    "    \"\"\"\n",
    "    # YOUR CODE HERE\n",
    "    good_pairs = []\n",
    "    for i in range(input_n_speakers):\n",
    "        for j in range(i+1, input_n_speakers):\n",
    "            if input_reply_matrix[i][j] >= 500:\n",
    "                good_pairs.append((i,j,))\n",
    "    return good_pairs\n",
    "    raise NotImplementedError()"
   ]
  },
  {
   "cell_type": "code",
   "execution_count": 35,
   "metadata": {
    "deletable": false,
    "editable": false,
    "nbgrader": {
     "checksum": "afd59c90042ca447480e931dce9d9589",
     "grade": false,
     "grade_id": "cell-b9c7345102664b1f",
     "locked": true,
     "schema_version": 1,
     "solution": false
    }
   },
   "outputs": [],
   "source": [
    "good_pairs = create_good_pairs(reply_matrix,n_good_speakers)\n",
    "good_pairs.sort()"
   ]
  },
  {
   "cell_type": "code",
   "execution_count": 36,
   "metadata": {
    "deletable": false,
    "editable": false,
    "nbgrader": {
     "checksum": "932c6b0f09c7dd755a32491727df55d1",
     "grade": true,
     "grade_id": "create_good_pairs_test",
     "locked": true,
     "points": 10,
     "schema_version": 1,
     "solution": false
    }
   },
   "outputs": [],
   "source": [
    "# This is an autograder test. Here we can test the function you just wrote above.\n",
    "\"\"\"Check that create_good_pairs returns the correct output\"\"\"\n",
    "assert type(good_pairs) == list\n",
    "assert reply_matrix[good_pairs[0]] + reply_matrix[good_pairs[0][::-1]] >= 500"
   ]
  },
  {
   "cell_type": "code",
   "execution_count": 37,
   "metadata": {
    "deletable": false,
    "editable": false,
    "nbgrader": {
     "checksum": "83c969728f8c98df84ae90ff97a68a76",
     "grade": false,
     "grade_id": "cell-19eb2fac94e305b1",
     "locked": true,
     "schema_version": 1,
     "solution": false
    }
   },
   "outputs": [],
   "source": [
    "# To help you for the next couple of functions. We recommend you use the following variables\n",
    "# as well as the good_type_reverse_index variable defined before\n",
    "n_good_pairs = len(good_pairs)\n",
    "good_pairs_reverse_index = {t: i for i, t in enumerate(good_pairs)}\n",
    "# We have attached a tokenize method that you should use below:\n",
    "def tokenize(text):\n",
    "    \"\"\"Returns a list of words that make up the text.    \n",
    "    Params: {text: String}\n",
    "    Returns: Array\n",
    "    \"\"\"\n",
    "    return [x for x in re.findall(r\"[a-z]*\", text.lower()) if x != \"\"]"
   ]
  },
  {
   "cell_type": "markdown",
   "metadata": {
    "deletable": false,
    "editable": false,
    "nbgrader": {
     "checksum": "cad4d70ff0c8300488efcdb631676ca9",
     "grade": false,
     "grade_id": "cell-5fabc69e0e911f87",
     "locked": true,
     "schema_version": 1,
     "solution": false
    }
   },
   "source": [
    "## Question 5b (Code Completion): Character-Pair Specific Diction\n",
    "\n",
    "As we continue the analysis we hope to build a pair-wise word matrix. This pair-wise matrix has rows that correspond to the pairs, and the columns that correspond to *good type* words. \n",
    "\n",
    "As such, in the cell below, fulfill the specification to build this `n_good_pairs` by `n_good_types` matrix:"
   ]
  },
  {
   "cell_type": "code",
   "execution_count": 40,
   "metadata": {
    "deletable": false,
    "nbgrader": {
     "checksum": "d9fdfd164a00b3627d6e797fc661e834",
     "grade": false,
     "grade_id": "create-pair_words_mat",
     "locked": false,
     "schema_version": 1,
     "solution": true
    }
   },
   "outputs": [],
   "source": [
    "def create_pair_words_mat(input_tokenize_method,\n",
    "                          input_deduped_transcripts,\n",
    "                          input_good_speakers,\n",
    "                          input_n_speakers,\n",
    "                          input_n_good_types,\n",
    "                          input_n_good_pairs):\n",
    "    \"\"\"Returns a numpy array of shape n_good_pairs by n_good_types such that the \n",
    "    entry (ij) indicates the how many times pair i has said good type word j.\n",
    "    \n",
    "    Hint: You should use the global variables good_pairs_reverse_index and \n",
    "    good_types_reverse_index. \n",
    "    \n",
    "    Params: {input_tokenize_method: Function a -> b,\n",
    "             input_deduped_transcripts: List,\n",
    "             input_good_speakers: List,\n",
    "             input_n_speakers: Integer,\n",
    "             input_n_good_types: Integer,\n",
    "             input_n_good_pairs: Integer}\n",
    "    Returns: Numpy array\n",
    "    \"\"\"\n",
    "    # We are providing you the code structure below to help you get\n",
    "    # started in the right direction. You may edit it, if you want.\n",
    "    pair_words_mat = np.zeros((input_n_good_pairs, input_n_good_types))\n",
    "    for key, t in input_deduped_transcripts:\n",
    "        last_speaker = None\n",
    "        for line in t:\n",
    "            cur_speaker = line[\"speaker\"]\n",
    "            if (last_speaker in input_good_speakers and \\\n",
    "                cur_speaker in input_good_speakers and last_speaker != cur_speaker):\n",
    "                i = input_good_speakers.index(last_speaker)\n",
    "                j = input_good_speakers.index(cur_speaker)\n",
    "    # YOUR CODE HERE\n",
    "                pair_ij = (min(i,j), max(i,j), )\n",
    "                if pair_ij in good_pairs_reverse_index.keys():\n",
    "                    good_pair_idx = good_pairs_reverse_index[pair_ij]\n",
    "                    tokenized_line = input_tokenize_method(line['text'])\n",
    "                    for word in tokenized_line:\n",
    "                        if word in good_types_reverse_index.keys():\n",
    "                            good_type_idx = good_types_reverse_index[word]\n",
    "                            pair_words_mat[good_pair_idx][good_type_idx] += 1\n",
    "            last_speaker = cur_speaker\n",
    "    return pair_words_mat\n",
    "    raise NotImplementedError()"
   ]
  },
  {
   "cell_type": "code",
   "execution_count": 41,
   "metadata": {
    "deletable": false,
    "editable": false,
    "nbgrader": {
     "checksum": "aa53f913a687d28239120d29e3a26e0e",
     "grade": false,
     "grade_id": "cell-a409ac7edb994c37",
     "locked": true,
     "schema_version": 1,
     "solution": false
    }
   },
   "outputs": [],
   "source": [
    "pair_words_mat = create_pair_words_mat(tokenize,\n",
    "                                      deduped_transcripts,\n",
    "                                      good_speakers,\n",
    "                                      n_good_speakers,\n",
    "                                      n_good_types,\n",
    "                                      n_good_pairs)"
   ]
  },
  {
   "cell_type": "code",
   "execution_count": 42,
   "metadata": {
    "deletable": false,
    "editable": false,
    "nbgrader": {
     "checksum": "a69161dc44a0ace9431c530c833979d4",
     "grade": true,
     "grade_id": "pair_words_mat_test",
     "locked": true,
     "points": 25,
     "schema_version": 1,
     "solution": false
    }
   },
   "outputs": [],
   "source": [
    "# This is an autograder test. Here we can test the function you just wrote above.\n",
    "\"\"\"Check that create_pair_words_mat returns the correct output\"\"\"\n",
    "assert type(pair_words_mat) == np.ndarray\n",
    "assert pair_words_mat.shape == (9,4517)\n",
    "assert sum(pair_words_mat[1]) > 8000\n",
    "assert sum(pair_words_mat[:,8]) == 0.0"
   ]
  },
  {
   "cell_type": "markdown",
   "metadata": {
    "deletable": false,
    "editable": false,
    "nbgrader": {
     "checksum": "f77aa074e9d6c649e56f709c01e306e6",
     "grade": false,
     "grade_id": "cell-a31f009ab89f552c",
     "locked": true,
     "schema_version": 1,
     "solution": false
    }
   },
   "source": [
    "## Question 5c (Code Completion): Character-Pair Specific Diction\n",
    "\n",
    "As we finish this analysis we end by scoring the words by the ratio between how often a given pair said it, and how often all of the *good pairs* said it. This can be done quite simply with numpy primitives.\n",
    "\n",
    "In the cell below, complete the specification and return the weighted words by each pair:"
   ]
  },
  {
   "cell_type": "code",
   "execution_count": 43,
   "metadata": {
    "deletable": false,
    "nbgrader": {
     "checksum": "d789f7a6d7841836d86212470968d362",
     "grade": false,
     "grade_id": "create_weighted_words",
     "locked": false,
     "schema_version": 1,
     "solution": true
    }
   },
   "outputs": [],
   "source": [
    "def create_weighted_words(input_pair_words_mat,\n",
    "                          input_n_good_types,\n",
    "                          input_n_good_pairs):\n",
    "    \"\"\"Returns a numpy array of shape n_good_pairs by n_good_types such that the \n",
    "    entry (ij) indicates a weighted score showing how often a given pair said \n",
    "    a good type word\n",
    "    \n",
    "    Hint: Use numpy primitives to make this function optimal\n",
    "    \n",
    "    Note: Don't forget to add 1 to the sum of each column \n",
    "    to handle divide by 0 issues!\n",
    "    \n",
    "    Params: {input_pair_words_mat: Numpy array,\n",
    "             input_n_good_types: Integer,\n",
    "             input_n_good_pairs: Integer}\n",
    "    Returns: Numpy Array\n",
    "    \"\"\"\n",
    "    # YOUR CODE HERE\n",
    "    weighted_words = np.zeros((input_n_good_pairs, input_n_good_types))\n",
    "    sum_each_column = np.sum(input_pair_words_mat, axis = 0) + 1.0\n",
    "    for i in range(input_n_good_pairs):\n",
    "        weighted_words[i] = input_pair_words_mat[i]/sum_each_column\n",
    "    return weighted_words\n",
    "    raise NotImplementedError()"
   ]
  },
  {
   "cell_type": "code",
   "execution_count": 44,
   "metadata": {
    "deletable": false,
    "editable": false,
    "nbgrader": {
     "checksum": "1aab56502bedabfec9d5404881c0066f",
     "grade": false,
     "grade_id": "cell-4f5724c513ef12a6",
     "locked": true,
     "schema_version": 1,
     "solution": false
    }
   },
   "outputs": [],
   "source": [
    "weighted_words = create_weighted_words(pair_words_mat,n_good_types,n_good_pairs)"
   ]
  },
  {
   "cell_type": "code",
   "execution_count": 45,
   "metadata": {
    "deletable": false,
    "editable": false,
    "nbgrader": {
     "checksum": "319a7c72df7cb2e7aa0f47875e296929",
     "grade": true,
     "grade_id": "create_weighted_words_test",
     "locked": true,
     "points": 15,
     "schema_version": 1,
     "solution": false
    }
   },
   "outputs": [],
   "source": [
    "# This is an autograder test. Here we can test the function you just wrote above.\n",
    "\"\"\"Check that create_weighted_words returns the correct output\"\"\"\n",
    "assert type(weighted_words) == np.ndarray\n",
    "assert weighted_words.shape == (9,4517)\n",
    "assert sum(weighted_words[:,0]) > 0 and sum(weighted_words[:,0]) < 1\n",
    "assert sum(weighted_words[5]) > 200"
   ]
  },
  {
   "cell_type": "markdown",
   "metadata": {
    "deletable": false,
    "editable": false,
    "nbgrader": {
     "checksum": "ecb530b1a87d490c5f232ca0fe2d58df",
     "grade": false,
     "grade_id": "cell-bb1e93bdfd9831a0",
     "locked": true,
     "schema_version": 1,
     "solution": false
    }
   },
   "source": [
    "Now, we can display the top 10 words between good_pairs:"
   ]
  },
  {
   "cell_type": "code",
   "execution_count": 46,
   "metadata": {
    "deletable": false,
    "editable": false,
    "nbgrader": {
     "checksum": "a9750040163fafad44630432db71bd52",
     "grade": false,
     "grade_id": "cell-90bcad9f309e4870",
     "locked": true,
     "schema_version": 1,
     "solution": false
    }
   },
   "outputs": [
    {
     "name": "stdout",
     "output_type": "stream",
     "text": [
      "BRUCE KHLOE\n",
      "0.93 apparently\n",
      "0.86 american\n",
      "0.86 coats\n",
      "0.86 fur\n",
      "0.83 individual\n",
      "0.8 dentist\n",
      "\n",
      "BRUCE KRIS\n",
      "0.89 golf\n",
      "0.86 fabulous\n",
      "0.8 chris\n",
      "0.8 cutting\n",
      "0.8 planners\n",
      "0.75 accepted\n",
      "\n",
      "KHLOE KIM\n",
      "0.86 gives\n",
      "0.86 sale\n",
      "0.8 africa\n",
      "0.75 bone\n",
      "0.75 botox\n",
      "0.75 except\n",
      "\n",
      "KHLOE KOURTNEY\n",
      "0.83 beast\n",
      "0.83 compare\n",
      "0.83 fear\n",
      "0.83 organization\n",
      "0.83 palms\n",
      "0.83 posted\n",
      "\n",
      "KHLOE KRIS\n",
      "0.88 necessary\n",
      "0.83 label\n",
      "0.83 ladies\n",
      "0.83 maker\n",
      "0.83 shops\n",
      "0.83 wind\n",
      "\n",
      "KIM KOURTNEY\n",
      "0.91 amusing\n",
      "0.86 buys\n",
      "0.83 read\n",
      "0.83 sight\n",
      "0.8 quiet\n",
      "0.75 ho\n",
      "\n",
      "KIM KRIS\n",
      "0.86 flight\n",
      "0.83 insensitive\n",
      "0.8 slap\n",
      "0.8 veil\n",
      "0.8 yourselves\n",
      "0.75 bite\n",
      "\n",
      "KOURTNEY KRIS\n",
      "0.86 bunny\n",
      "0.86 desperate\n",
      "0.86 hop\n",
      "0.83 addiction\n",
      "0.83 backup\n",
      "0.83 cards\n",
      "\n",
      "KOURTNEY SCOTT\n",
      "0.92 cane\n",
      "0.8 absurd\n",
      "0.8 crib\n",
      "0.75 hospital\n",
      "0.71 tom\n",
      "0.67 accessory\n",
      "\n"
     ]
    }
   ],
   "source": [
    "for i, j in good_pairs:\n",
    "    print(good_speakers[i], good_speakers[j])\n",
    "    words = weighted_words[good_pairs_reverse_index[i, j]]\n",
    "    ranked = sorted(enumerate(words), key=lambda x:x[1], reverse=True)\n",
    "    for index, score in ranked[:6]:\n",
    "        print(round(score, 2), good_types[index])\n",
    "    print()"
   ]
  },
  {
   "cell_type": "markdown",
   "metadata": {
    "deletable": false,
    "editable": false,
    "nbgrader": {
     "checksum": "d61235c05fe4aa7c4e28b97b18693893",
     "grade": false,
     "grade_id": "cell-bb3b9eded7ff8b46",
     "locked": true,
     "schema_version": 1,
     "solution": false
    }
   },
   "source": [
    "## Question 5c (Free Response): Character-Pair Specific Diction\n",
    "\n",
    "Now we have some sensible results in understand the specific diction between character pairs. \n",
    "\n",
    "\n",
    "In the cell below, please use Markdown to note any interesting observations/analysis you can take-away from the results above. "
   ]
  },
  {
   "cell_type": "markdown",
   "metadata": {
    "deletable": false,
    "nbgrader": {
     "checksum": "04981b868ccaf00c792bbd2d38426d83",
     "grade": true,
     "grade_id": "create_weighted_words_ans",
     "locked": false,
     "points": 10,
     "schema_version": 1,
     "solution": true
    }
   },
   "source": [
    "From the results above, Bruce and Khloe talk a lot about luxuries like fur coats. It seems that golf is the common hobby between Bruce and Kris. The most frequent topic between Khloe and Kim seems to be plastic surgery. Negative emotions such as fear is often involved in the conversation between Khloe and Kourtney. Khloe, Kris, Kim and Kourtney all love shopping very much. It seems that Kourtney and Kris talk about addiction to gambling and how they feel about it quite a lot. Kourtney and Scott are a couple but their relationship is not good. Their kid named Tom is the major topic in their conversation.  "
   ]
  },
  {
   "cell_type": "markdown",
   "metadata": {
    "deletable": false,
    "editable": false,
    "nbgrader": {
     "checksum": "bcaa6cd7ed2f9a9453306be6173ed3c1",
     "grade": false,
     "grade_id": "cell-91e803434f5c67c1",
     "locked": true,
     "schema_version": 1,
     "solution": false
    }
   },
   "source": [
    "## Question 6 (Code Completion): Gender and social interaction.\n",
    "\n",
    "Often we might want to examine how interactions differ depending on the characteristics of the people involved. In this case we are interested in the extent to which people interact differently depending on the gender of the person they are talking too. \n",
    "\n",
    "For example, do women talk differently to other women than they do to men?\n",
    "\n",
    "While social scientific research shows that gender is not always conceptualized as a binary attribute, for simplicity we assume that there are two genders present, male and female. We have provided a gender dictionary below (Note: Although it has been well publicized that one of the characters changed their gender during the show we consider them here as the gender generally associated with their name as given in the transcripts).\n",
    "\n",
    "In this question we will start by building a matrix where the rows correspond to gender combinations, and the columns to the good type words. In this analyais we will consider all interactions, not just the good pairs (since no pairs with a man have more than 500 interactions). \n",
    "\n",
    "In the cell below, complete the specification by returning the desired Numpy array. \n",
    "\n",
    "Hint: You can reuse your helper functions from above or the logic in the your previous methods. "
   ]
  },
  {
   "cell_type": "code",
   "execution_count": 47,
   "metadata": {
    "deletable": false,
    "editable": false,
    "nbgrader": {
     "checksum": "f751e7fbd38530be88c88c968ac86fa7",
     "grade": false,
     "grade_id": "cell-9c91ab18daa3b361",
     "locked": true,
     "schema_version": 1,
     "solution": false
    }
   },
   "outputs": [],
   "source": [
    "# These are the genders that you will be working with\n",
    "genders = {u'BRUCE': u'M',\n",
    "            u'JONATHAN': u'M',\n",
    "            u'KHLOE': u'F',\n",
    "            u'KIM': u'F',\n",
    "            u'KOURTNEY': u'F',\n",
    "            u'KRIS': u'F',\n",
    "            u'ROBERT':u'M',\n",
    "            u'SCOTT': u'M'}\n",
    "genders_index = {'M':0,'F':1}\n",
    "gender_mat_index = {('M','M'):0,('M','F'):1,('F','M'):2,('F','F'):3}"
   ]
  },
  {
   "cell_type": "code",
   "execution_count": 48,
   "metadata": {
    "deletable": false,
    "nbgrader": {
     "checksum": "a1ce6460c4fa1895d23259eb27106141",
     "grade": false,
     "grade_id": "create_gender_words_mat",
     "locked": false,
     "schema_version": 1,
     "solution": true
    }
   },
   "outputs": [],
   "source": [
    "def create_gender_words_mat(input_tokenize_method,\n",
    "                            input_deduped_transcripts,\n",
    "                            input_good_speakers,\n",
    "                            input_n_good_types):\n",
    "    \"\"\"Returns a numpy array of shape 4 by n_good_types such that the \n",
    "    entry (ij) indicates the how many times gender pair i says word j.\n",
    "    \n",
    "    Hint: You should use the global variables:\n",
    "        good_types_reverse_index,\n",
    "        genders\n",
    "        genders_index,\n",
    "        gender_mat_index\n",
    "    \n",
    "    Params: {input_tokenize_method: Function (a -> b),\n",
    "             input_deduped_transcripts: List,\n",
    "             input_good_speakers: List,\n",
    "             input_n_good_types: Integer}\n",
    "    Returns: Numpy Array\n",
    "    \"\"\"\n",
    "    # YOUR CODE HERE\n",
    "    gender_word_mat = np.zeros((4, input_n_good_types))\n",
    "    for key, t in input_deduped_transcripts:\n",
    "        last_speaker = None\n",
    "        for line in t:\n",
    "            cur_speaker = line[\"speaker\"]\n",
    "            if (last_speaker in input_good_speakers and \\\n",
    "                cur_speaker in input_good_speakers and last_speaker != cur_speaker):\n",
    "                gender_i = genders[last_speaker]\n",
    "                gender_j = genders[cur_speaker]\n",
    "                gender_pair_idx = gender_mat_index[(gender_i, gender_j,)]\n",
    "                tokenized_line = input_tokenize_method(line['text'])\n",
    "                for word in tokenized_line:\n",
    "                    if word in good_types:\n",
    "                        good_type_idx = good_types_reverse_index[word]\n",
    "                        gender_word_mat[gender_pair_idx][good_type_idx] += 1\n",
    "            last_speaker = cur_speaker\n",
    "    return gender_word_mat\n",
    "    raise NotImplementedError()"
   ]
  },
  {
   "cell_type": "code",
   "execution_count": 49,
   "metadata": {
    "deletable": false,
    "editable": false,
    "nbgrader": {
     "checksum": "3818fc6d2c43b5fa603d744a348bb7f6",
     "grade": false,
     "grade_id": "cell-594f31685a436e9f",
     "locked": true,
     "schema_version": 1,
     "solution": false
    }
   },
   "outputs": [],
   "source": [
    "gender_words_mat = create_gender_words_mat(tokenize,deduped_transcripts,good_speakers,n_good_types)"
   ]
  },
  {
   "cell_type": "code",
   "execution_count": 50,
   "metadata": {
    "deletable": false,
    "editable": false,
    "nbgrader": {
     "checksum": "61476c6c75e8b2775c05614124392b17",
     "grade": true,
     "grade_id": "create_gender_words_mat_test",
     "locked": true,
     "points": 25,
     "schema_version": 1,
     "solution": false
    }
   },
   "outputs": [],
   "source": [
    "# This is an autograder test. Here we can test the function you just wrote above.\n",
    "\"\"\"Check that create_gender_words_mat returns the correct output\"\"\"\n",
    "assert type(gender_words_mat) == np.ndarray\n",
    "assert gender_words_mat.shape == (4,4517)\n",
    "assert sum(gender_words_mat[0]) > 5000"
   ]
  },
  {
   "cell_type": "markdown",
   "metadata": {
    "deletable": false,
    "editable": false,
    "nbgrader": {
     "checksum": "9026db4b9a5e742e1a65f7e2a6bf783d",
     "grade": false,
     "grade_id": "cell-bbbae67c94ac93a3",
     "locked": true,
     "schema_version": 1,
     "solution": false
    }
   },
   "source": [
    "## Question 6b (Code Completion): Gender and social interaction\n",
    "\n",
    "As we finish this portion of the analysis we end by scoring the words by the ratio between how often a given gender combination said it, and how often all of the combinations said it. This can be done quite simply with numpy primitives.\n",
    "\n",
    "In the cell below, complete the specification and return the weighted words by each gender pair:\n",
    "\n",
    "Hint: You can reuse your helper functions from above or the logic in the your previous methods. "
   ]
  },
  {
   "cell_type": "code",
   "execution_count": 51,
   "metadata": {
    "deletable": false,
    "nbgrader": {
     "checksum": "f47e773209e4620d23202c336c315d5c",
     "grade": false,
     "grade_id": "create_gender_weighted_words",
     "locked": false,
     "schema_version": 1,
     "solution": true
    }
   },
   "outputs": [],
   "source": [
    "def create_gender_weighted_words(input_gender_words_mat,\n",
    "                                 input_n_good_types):\n",
    "    \"\"\"Returns a numpy array of shape 4 by n_good_types such that the \n",
    "    entry (ij) indicates a weighted score showing how often a given gender\n",
    "    pair said a good type word\n",
    "    \n",
    "    Hint: Use numpy primitives to make this function optimal\n",
    "    \n",
    "    Note: Don't forget to add 1 to the sum of each column \n",
    "    to handle divide by 0 issues!\n",
    "    \n",
    "    Params: {input_gender_words_mat: Numpy array,\n",
    "             input_n_good_types: Integer}\n",
    "    Returns: Numpy Array\n",
    "    \"\"\"\n",
    "    # YOUR CODE HERE\n",
    "    gender_weighted_words = np.zeros((4, input_n_good_types))\n",
    "    sum_each_column = np.sum(input_gender_words_mat, axis = 0) + 1.0\n",
    "    for i in range(4):\n",
    "        gender_weighted_words[i] = input_gender_words_mat[i]/sum_each_column\n",
    "    return gender_weighted_words\n",
    "    raise NotImplementedError()"
   ]
  },
  {
   "cell_type": "code",
   "execution_count": 52,
   "metadata": {
    "deletable": false,
    "editable": false,
    "nbgrader": {
     "checksum": "8834f0596b9358ca4586a33098475752",
     "grade": false,
     "grade_id": "cell-6c81c191f85a2615",
     "locked": true,
     "schema_version": 1,
     "solution": false
    }
   },
   "outputs": [],
   "source": [
    "gender_weighted_words = create_gender_weighted_words(gender_words_mat,n_good_types)"
   ]
  },
  {
   "cell_type": "code",
   "execution_count": 53,
   "metadata": {
    "deletable": false,
    "editable": false,
    "nbgrader": {
     "checksum": "cb3fec33f78252d12225093ae12ebec7",
     "grade": true,
     "grade_id": "create_gender_weighted_words_test",
     "locked": true,
     "points": 15,
     "schema_version": 1,
     "solution": false
    }
   },
   "outputs": [],
   "source": [
    "# This is an autograder test. Here we can test the function you just wrote above.\n",
    "\"\"\"Check that create_gender_weighted_words returns the correct output\"\"\"\n",
    "assert type(gender_weighted_words) == np.ndarray\n",
    "assert gender_weighted_words.shape == (4,4517)\n",
    "assert sum(gender_weighted_words[:,0]) > 0 and sum(gender_weighted_words[:,0]) < 1\n",
    "assert sum(gender_weighted_words[3]) > 1000"
   ]
  },
  {
   "cell_type": "code",
   "execution_count": 54,
   "metadata": {
    "deletable": false,
    "editable": false,
    "nbgrader": {
     "checksum": "34c52cb9664d1518edf01ab143e68513",
     "grade": false,
     "grade_id": "cell-19da82a0167b0d85",
     "locked": true,
     "schema_version": 1,
     "solution": false
    }
   },
   "outputs": [
    {
     "name": "stdout",
     "output_type": "stream",
     "text": [
      "F F\n",
      "0.96 shopping\n",
      "0.95 snack\n",
      "0.94 miles\n",
      "0.94 necessary\n",
      "0.93 promise\n",
      "0.93 santa\n",
      "0.92 alcoholic\n",
      "0.92 intervention\n",
      "0.92 wind\n",
      "0.91 amusing\n",
      "\n",
      "M M\n",
      "0.75 simple\n",
      "0.75 slowly\n",
      "0.67 active\n",
      "0.67 ale\n",
      "0.67 amigos\n",
      "0.67 bet\n",
      "0.67 changing\n",
      "0.67 deck\n",
      "0.67 eveninto\n",
      "0.67 filled\n",
      "\n",
      "F M\n",
      "0.96 pounds\n",
      "0.92 acceptable\n",
      "0.9 scream\n",
      "0.88 learn\n",
      "0.86 american\n",
      "0.86 cheating\n",
      "0.83 cutting\n",
      "0.83 downstairs\n",
      "0.83 individual\n",
      "0.8 beef\n",
      "\n",
      "M F\n",
      "0.93 apparently\n",
      "0.93 begins\n",
      "0.88 r\n",
      "0.86 coats\n",
      "0.86 fur\n",
      "0.83 forgiven\n",
      "0.82 afraid\n",
      "0.8 absurd\n",
      "0.8 fabulous\n",
      "0.75 burn\n",
      "\n"
     ]
    }
   ],
   "source": [
    "for i, j in gender_mat_index.keys():\n",
    "    print(i, j)\n",
    "    words = gender_weighted_words[gender_mat_index[(i, j)]]\n",
    "    ranked = sorted(enumerate(words), key=lambda x:x[1], reverse=True)\n",
    "    for index, score in ranked[:10]:\n",
    "        print(round(score, 2), good_types[index])\n",
    "    print()"
   ]
  },
  {
   "cell_type": "markdown",
   "metadata": {
    "deletable": false,
    "editable": false,
    "nbgrader": {
     "checksum": "12ead5c8d747fe162c6724c248eae00d",
     "grade": false,
     "grade_id": "cell-ec5aa038d6dc2da4",
     "locked": true,
     "schema_version": 1,
     "solution": false
    }
   },
   "source": [
    "## Question 6c (Free Response): Gender and Social Interaction\n",
    "\n",
    "These are some exciting results in regards to uncovering gender and the social interaction between gender pairs. \n",
    "\n",
    "\n",
    "In the cell below, please use Markdown to note any interesting observations/analysis you can take-away from the results above. "
   ]
  },
  {
   "cell_type": "markdown",
   "metadata": {
    "deletable": false,
    "nbgrader": {
     "checksum": "9c12b0cb83f61db495c34c73e1adc39b",
     "grade": true,
     "grade_id": "create_gender_weighted_words_ans",
     "locked": false,
     "points": 10,
     "schema_version": 1,
     "solution": true
    }
   },
   "source": [
    "From the results above, the most obvious conclusion is that female characters talk a lot about things that make them happy such as shopping and snack. Similarly, topics between male characters often include their hobbies such as beer, gambling and boat. In contrast, the topics between men and women are usually related to luxuries such as fur coats and their bad relationships between each other."
   ]
  },
  {
   "cell_type": "code",
   "execution_count": 55,
   "metadata": {
    "deletable": false,
    "editable": false,
    "nbgrader": {
     "checksum": "ff92f7718f5151bda05de03fef77e35f",
     "grade": false,
     "grade_id": "cell-2e2e52527668c6db",
     "locked": true,
     "schema_version": 1,
     "solution": false
    }
   },
   "outputs": [],
   "source": [
    "genders_list = [ str(genders[key]) for key in good_speakers ] "
   ]
  },
  {
   "cell_type": "markdown",
   "metadata": {
    "deletable": false,
    "editable": false,
    "nbgrader": {
     "checksum": "499d6fe146a481f6bf9255ccafc55f80",
     "grade": false,
     "grade_id": "cell-7a8a4a583552e6ff",
     "locked": true,
     "schema_version": 1,
     "solution": false
    }
   },
   "source": [
    "## Question 7 (Code Completion): Gender Specific Word Choice\n",
    "\n",
    "In this section of gender analysis we will be looking at what words are statistically *male* and which are *female*. To do this analysis you will be using the `word_array` and `genders_list` above which should line up with the x-axis of the `word_array` matrix. The goal of this analysis is to print the top 10 words said by each gender. \n",
    "\n",
    "To do this, you would sum over each word *(each column of the `word_array`)* said by the males and females and divide by the total words *(column-wise sum of the word_array)* used by both genders. \n",
    "\n",
    "In the cells below fulfill the specification to first return the top  10 *male* words and then the top 10 *female* words in the following format: \n",
    "```\n",
    "[(word_1,score_1),\n",
    " (word_2,score_2),\n",
    "...]\n",
    "```\n",
    "\n",
    "Note: Make sure to include smoothing!\n",
    "\n",
    "Hint: It is recommended to sum with `np.ones` to account for smoothing"
   ]
  },
  {
   "cell_type": "code",
   "execution_count": 56,
   "metadata": {
    "deletable": false,
    "nbgrader": {
     "checksum": "6348ada6672746770eb0e34a9135f713",
     "grade": false,
     "grade_id": "top_10_gender_words",
     "locked": false,
     "schema_version": 1,
     "solution": true
    }
   },
   "outputs": [],
   "source": [
    "def top_10_words_by_gender(input_word_array,\n",
    "                          input_genders_list,\n",
    "                          input_good_types,\n",
    "                          input_gender):\n",
    "    \"\"\"Returns a tuple list in the following format:\n",
    "        [(word_1,score_1),\n",
    "         (word_2,score_2),\n",
    "        ...]\n",
    "        that corresponds to the top 10 words said by a given gender. \n",
    "        \n",
    "        input_gender is either 'F' or 'M'\n",
    "    \n",
    "    Note: Don't forget to add 1 to the sum of each column \n",
    "    to handle divide by 0 issues!\n",
    "    \n",
    "    Hint: Use numpy primitives to make this function optimal.\n",
    "    Sum with np.ones to handle the divide by 0 issue.\n",
    "    \n",
    "    Params: {input_word_array: Numpy array,\n",
    "             input_genders_list: List,\n",
    "             input_good_types: List,\n",
    "             input_gender: Char}\n",
    "    Returns: List\n",
    "    \"\"\"\n",
    "    # YOUR CODE HERE\n",
    "    gender_idx = [i for i, x in enumerate(genders_list) if x == input_gender]\n",
    "    gender_word_mat = input_word_array[gender_idx, :]\n",
    "    gender_sum_column = np.sum(gender_word_mat, axis = 0)\n",
    "    total_sum_column = np.sum(input_word_array, axis = 0) + 1.0\n",
    "    gender_word_freq = gender_sum_column / total_sum_column\n",
    "    sorted_gender_word_freq = sorted(enumerate(gender_word_freq), key = lambda x: x[1], reverse = True)\n",
    "    word_idx, score = zip(*sorted_gender_word_freq[:10])\n",
    "    top10_words_by_gender = list(zip(np.array(input_good_types)[list(word_idx)], score))\n",
    "    return top10_words_by_gender\n",
    "    raise NotImplementedError()"
   ]
  },
  {
   "cell_type": "code",
   "execution_count": 57,
   "metadata": {
    "deletable": false,
    "editable": false,
    "nbgrader": {
     "checksum": "17a9de4718f62cc2fb34cce523e8ba48",
     "grade": false,
     "grade_id": "cell-16c3a5dae6547578",
     "locked": true,
     "schema_version": 1,
     "solution": false
    }
   },
   "outputs": [],
   "source": [
    "male_words = top_10_words_by_gender(word_array,genders_list,good_types,'M')\n",
    "female_words = top_10_words_by_gender(word_array,genders_list,good_types,'F')"
   ]
  },
  {
   "cell_type": "code",
   "execution_count": 58,
   "metadata": {
    "deletable": false,
    "editable": false,
    "nbgrader": {
     "checksum": "cb256e5659a644c8b093ab17ea4cdb92",
     "grade": true,
     "grade_id": "top_10_gender_words_test",
     "locked": true,
     "points": 20,
     "schema_version": 1,
     "solution": false
    }
   },
   "outputs": [],
   "source": [
    "# This is an autograder test. Here we can test the function you just wrote above.\n",
    "\"\"\"Check that top_10_words_by_gender returns the correct output\"\"\"\n",
    "assert type(male_words) == list\n",
    "assert type(female_words) == list\n",
    "assert 'bruiser' in [x[0] for x in male_words]\n",
    "assert 'fur' in [x[0] for x in female_words]"
   ]
  },
  {
   "cell_type": "code",
   "execution_count": 59,
   "metadata": {
    "deletable": false,
    "editable": false,
    "nbgrader": {
     "checksum": "37348f8da41fc7f30446ea5450e5a95b",
     "grade": false,
     "grade_id": "cell-b9de9fd15fa3edf8",
     "locked": true,
     "schema_version": 1,
     "solution": false
    }
   },
   "outputs": [
    {
     "name": "stdout",
     "output_type": "stream",
     "text": [
      "Top Male words\n",
      "==============\n",
      "truly: 0.95\n",
      "bruiser: 0.94\n",
      "graduated: 0.92\n",
      "erika: 0.91\n",
      "genetic: 0.89\n",
      "katie: 0.89\n",
      "pics: 0.89\n",
      "yo: 0.88\n",
      "email: 0.88\n",
      "bro: 0.88\n",
      "\n",
      "Top Female words\n",
      "==============\n",
      "manager: 0.98\n",
      "fur: 0.97\n",
      "miles: 0.97\n",
      "onkeeping: 0.97\n",
      "shopping: 0.97\n",
      "sign: 0.97\n",
      "bachelorette: 0.97\n",
      "site: 0.96\n",
      "ta: 0.96\n",
      "awful: 0.96\n"
     ]
    }
   ],
   "source": [
    "print(\"Top Male words\")\n",
    "print(\"==============\")\n",
    "for word, score in male_words:\n",
    "    print(\"%s: %.2f\" % (word,score))\n",
    "print(\"\\nTop Female words\")\n",
    "print(\"==============\")\n",
    "for word, score in female_words:\n",
    "    print(\"%s: %.2f\" % (word,score))"
   ]
  },
  {
   "cell_type": "markdown",
   "metadata": {
    "deletable": false,
    "editable": false,
    "nbgrader": {
     "checksum": "1c544e0c0eed8833ecc858939e974a07",
     "grade": false,
     "grade_id": "cell-55cce8245b3c583d",
     "locked": true,
     "schema_version": 1,
     "solution": false
    }
   },
   "source": [
    "## Question 7b (Free Response): Gender Specific Word Choice\n",
    "\n",
    "In the cell below, please use Markdown to note any interesting observations/analysis you can take-away from the results above. "
   ]
  },
  {
   "cell_type": "markdown",
   "metadata": {
    "deletable": false,
    "nbgrader": {
     "checksum": "73effad535835280c141b48b373b2e4f",
     "grade": true,
     "grade_id": "top_10_gender_words_ans",
     "locked": false,
     "points": 10,
     "schema_version": 1,
     "solution": true
    }
   },
   "source": [
    "According to the result above, female characters tend to talk about luxury, shopping and marraige. On the other hand, men prefer to talk more about work, sports and girls who are not classified as major female characters."
   ]
  },
  {
   "cell_type": "markdown",
   "metadata": {
    "deletable": false,
    "editable": false,
    "nbgrader": {
     "checksum": "2345a60857ba12df904a4aee75c82d5a",
     "grade": false,
     "grade_id": "cell-b7d34286dbcf2c38",
     "locked": true,
     "schema_version": 1,
     "solution": false
    }
   },
   "source": [
    "## Question 8 (Extra Credit): Open-Ended Analysis for Extra Credit\n",
    "\n",
    "Discuss something interesting that you found in the data, while looking at it in all the various ways we have during this assignment. Do you see anything that matches what we would know and expect about the characters? Anything contradictory?"
   ]
  },
  {
   "cell_type": "code",
   "execution_count": 60,
   "metadata": {
    "deletable": false,
    "nbgrader": {
     "checksum": "341633813c8c3ddd452cadbf58f742d9",
     "grade": true,
     "grade_id": "extra_credit",
     "locked": false,
     "points": 0,
     "schema_version": 1,
     "solution": true
    }
   },
   "outputs": [],
   "source": [
    "# YOUR CODE HERE\n",
    "\"\"\"Among the top ten words said by male characters, two female names \"Erika\" and \"Katie\" appear.\n",
    "    They are not classified as major characters, but we are really curious about their identity \n",
    "    since their names appear so frequently.\n",
    "\"\"\"\n",
    "def erika_and_katie_info(input_deduped_transcripts, input_good_speakers):\n",
    "    erika_and_katie = {}\n",
    "    erika_and_katie['ERIKA'] = []\n",
    "    erika_and_katie['KATIE'] = []\n",
    "    for key, t in input_deduped_transcripts:\n",
    "        for line in t:\n",
    "            if (line['speaker'] in input_good_speakers and \\\n",
    "                'Erika' in line['text']) or ('Erika' in line['speaker']):\n",
    "                erika_and_katie['ERIKA'].append((line['speaker'], line['text'],))\n",
    "            if (line['speaker'] in input_good_speakers and \\\n",
    "                'Katie' in line['text']) or ('Katie' in line['speaker']):\n",
    "                erika_and_katie['KATIE'].append((line['speaker'],line['text'],))\n",
    "    return erika_and_katie\n",
    "    raise NotImplementedError()"
   ]
  },
  {
   "cell_type": "code",
   "execution_count": 61,
   "metadata": {},
   "outputs": [
    {
     "data": {
      "text/plain": [
       "{'ERIKA': [('JONATHAN',\n",
       "   'Joining Command PR West, we have Alex and Erika, our two newest associates.'),\n",
       "  ('JONATHAN', \"I don't trust Alex, I don't trust Erika.\"),\n",
       "  ('JONATHAN',\n",
       "   \"And, Erika, like I'm noticing from your end it's making me really crazy that you're wearing flip-flops.\"),\n",
       "  ('JONATHAN', \"I need Erika to see what's going on here-- yeah, stand up.\"),\n",
       "  ('JONATHAN', 'No. Erika, get up, seriously.'),\n",
       "  ('JONATHAN', 'No, Erika looks great, but not for this job.'),\n",
       "  ('JONATHAN', \"Erika, that was frickin' awesome.\"),\n",
       "  ('JONATHAN', 'Erika, that is so rude to do to me.'),\n",
       "  ('JONATHAN',\n",
       "   \"I met Erika at this party a few weeks ago, we've been chatting and texting, and I can't wait to get to this dinner so we can start to learn a lot more about each other.\"),\n",
       "  ('JONATHAN',\n",
       "   \"I'm really feeling Erika, and I really could see myself having a second date with her, which is very, very rare for me.\")],\n",
       " 'KATIE': [('JONATHAN',\n",
       "   \"And Katie who I took with me from New York, who's been with us for over a year.\"),\n",
       "  ('JONATHAN', 'And Katie cannot do everything.'),\n",
       "  ('JONATHAN', \"Oh, that's Katie...\"),\n",
       "  ('JONATHAN',\n",
       "   \"And I don't even know if I'm gonna speak to Katie because it's, like, you guys both decided to, like, come back here and lie to me.\"),\n",
       "  ('JONATHAN', \"I don't need to see Katie every  day.\"),\n",
       "  ('JONATHAN', 'And Katie, stickers-- lots of charity stickers.'),\n",
       "  ('JONATHAN', \"I don't need to see Katie every  day.\"),\n",
       "  ('JONATHAN', 'And Katie, stickers-- lots of charity stickers.')]}"
      ]
     },
     "execution_count": 61,
     "metadata": {},
     "output_type": "execute_result"
    }
   ],
   "source": [
    "erika_katie_info = erika_and_katie_info(deduped_transcripts, good_speakers)\n",
    "erika_katie_info"
   ]
  },
  {
   "cell_type": "markdown",
   "metadata": {},
   "source": [
    "From the text above we find that both Katie and Erika are related to one major character: Jonathan. Erika is Jonathan's associate. And it seems that Katie works for Jonathan as well. We also notice that Jonathan loves Erika very much. This could explain why Jonathan mentioned Erika's name so many times."
   ]
  },
  {
   "cell_type": "markdown",
   "metadata": {
    "deletable": false,
    "editable": false,
    "nbgrader": {
     "checksum": "52a2d2b771e9d342b116e9ffa311f0b7",
     "grade": false,
     "grade_id": "cell-ba9e5889d67bd082",
     "locked": true,
     "schema_version": 1,
     "solution": false
    }
   },
   "source": [
    "### Can't get enough of language and information?  \n",
    "\n",
    "We have more!  Check out **A2ExtraCredit** for a chance to analyze linguistic priming between the Kardashians and get some super-valuable extra credit points.  **Highly recommended**"
   ]
  },
  {
   "cell_type": "markdown",
   "metadata": {
    "deletable": false,
    "editable": false,
    "nbgrader": {
     "checksum": "75b405e53f6df9f565cb905b6df2912b",
     "grade": false,
     "grade_id": "cell-2b384eeccb7e4ae1",
     "locked": true,
     "schema_version": 1,
     "solution": false
    }
   },
   "source": [
    "# This is the end of Assignment 2"
   ]
  }
 ],
 "metadata": {
  "kernelspec": {
   "display_name": "venv",
   "language": "python",
   "name": "venv"
  },
  "language_info": {
   "codemirror_mode": {
    "name": "ipython",
    "version": 3
   },
   "file_extension": ".py",
   "mimetype": "text/x-python",
   "name": "python",
   "nbconvert_exporter": "python",
   "pygments_lexer": "ipython3",
   "version": "3.5.2"
  }
 },
 "nbformat": 4,
 "nbformat_minor": 2
}
