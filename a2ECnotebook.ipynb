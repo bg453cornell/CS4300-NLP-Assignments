{
 "cells": [
  {
   "cell_type": "markdown",
   "metadata": {
    "deletable": false,
    "editable": false,
    "nbgrader": {
     "checksum": "138dd5f0ef36514af79a866d105685e1",
     "grade": false,
     "grade_id": "cell-e7c4ba72adf31577",
     "locked": true,
     "schema_version": 1,
     "solution": false
    }
   },
   "source": [
    "# Assignment 2: Keeping Up With Social Information (Optional Extra Credit)\n",
    "## © Cristian Danescu-Niculescu-Mizil 2018\n",
    "## CS/INFO 4300 Language and Information\n",
    "## Due by midnight on Wednesday February 21st\n",
    "\n",
    "This assignment is **individual**.\n",
    "\n",
    "In this assignment we will doing some advanced analysis on the transcripts from the reality TV show \"Keeping Up With The Kardashians\" as a supplement to Assignment 2. Here we will be looking at character priming.\n",
    "\n",
    "\n",
    "**Extra Credit Policy**\n",
    "\n",
    "The policy for this extra credit is that you should complete as much as you can. This assignment is out of 60 points and is worth 2 extra credit points. \n",
    "\n",
    "\n",
    "**Learning Objectives**\n",
    "\n",
    "This project aims to help you get comfortable working with the following tools / technologies / concepts:\n",
    "\n",
    "* Character priming\n",
    "* Conversation analysis \n",
    "\n",
    "**Academic Integrity and Collaboration**\n",
    "\n",
    "Note that these projects should be completed individually. As a result, all University-standard academic integrity guidelines must be followed.\n",
    "\n",
    "**Guidelines**\n",
    "\n",
    "All cells that contain the blocks that read `# YOUR CODE HERE` are editable and are to be completed to ensure you pass the test-cases. Make sure to write your code where indicated.\n",
    "\n",
    "All cells that read `YOUR ANSWER HERE` are free-response cells that are editable and are to be completed.\n",
    "\n",
    "You may use any number of notebook cells to explore the data and test out your functions, although you will only be graded on the solution itself.\n",
    "\n",
    "\n",
    "You are unable to modify the read-only cells.\n",
    "\n",
    "You should also use Markdown cells to explain your code and discuss your results when necessary.\n",
    "Instructions can be found [here](http://jupyter-notebook.readthedocs.io/en/latest/examples/Notebook/Working%20With%20Markdown%20Cells.html).\n",
    "\n",
    "All floating point values should be printed with **2 decimal places** precision. You can do so using the built-in round function.\n",
    "\n",
    "**Grading**\n",
    "\n",
    "For code-completion questions you will be graded on passing the public test cases we have included, as well as any hidden test cases that we have supplemented to ensure that your logic is correct.\n",
    "\n",
    "For free-response questions you will be manually graded on the quality of your answer.\n",
    "\n",
    "**Submission**\n",
    "\n",
    "You are expected to submit this .ipynb as your submission for Assignment 2. \n",
    "\n",
    "In addition please submit an html copy of the notebook (You can create this by clicking File > Download as > HTML (.html))."
   ]
  },
  {
   "cell_type": "code",
   "execution_count": 1,
   "metadata": {
    "deletable": false,
    "editable": false,
    "nbgrader": {
     "checksum": "75fbe20afe30bec8ddbf1ee172a6b556",
     "grade": false,
     "grade_id": "cell-97b1c5e4f7df612c",
     "locked": true,
     "schema_version": 1,
     "solution": false
    }
   },
   "outputs": [],
   "source": [
    "import re\n",
    "import json\n",
    "from glob import glob\n",
    "import os\n",
    "from io import StringIO\n",
    "from itertools import groupby\n",
    "import pickle\n",
    "\n",
    "import numpy as np\n",
    "import bs4\n",
    "%matplotlib inline\n",
    "import matplotlib.pyplot as plt\n",
    "# Imports that might help with various functionality\n",
    "import functools\n",
    "import operator"
   ]
  },
  {
   "cell_type": "code",
   "execution_count": 2,
   "metadata": {
    "deletable": false,
    "editable": false,
    "nbgrader": {
     "checksum": "f43944ca7e2ba29b18c82a019e743fea",
     "grade": false,
     "grade_id": "cell-7114417ecfb57e62",
     "locked": true,
     "schema_version": 1,
     "solution": false
    }
   },
   "outputs": [],
   "source": [
    "import sys\n",
    "# Ensure that your kernel is using Python3\n",
    "assert sys.version_info.major == 3"
   ]
  },
  {
   "cell_type": "markdown",
   "metadata": {
    "deletable": false,
    "editable": false,
    "nbgrader": {
     "checksum": "a4bf3aa8732506a04e546d0501495d2f",
     "grade": false,
     "grade_id": "cell-b9584a9a5df87291",
     "locked": true,
     "schema_version": 1,
     "solution": false
    }
   },
   "source": [
    "To ensure that you are comfortable moving forward. Make sure that you are familair with the following data structures that were used in Assignment 2:\n",
    "* deduped_transcripts\n",
    "* titles\n",
    "* good_types\n",
    "* good_speakers\n",
    "* good_types_reverse_index\n",
    "* good_pairs_reverse_index"
   ]
  },
  {
   "cell_type": "code",
   "execution_count": 3,
   "metadata": {
    "deletable": false,
    "editable": false,
    "nbgrader": {
     "checksum": "1c6671bd7ea36a577a5d76882ac336c3",
     "grade": false,
     "grade_id": "cell-e31168ecff8580a3",
     "locked": true,
     "schema_version": 1,
     "solution": false
    }
   },
   "outputs": [],
   "source": [
    "## We are loading: deduped transcripts from Assignment 2\n",
    "with open('deduped_transcripts.pickle','rb') as f:\n",
    "    deduped_transcripts = pickle.load(f)\n",
    "## We are loading: the titles from Assignment 2\n",
    "with open('titles.pickle','rb') as f:\n",
    "    titles = pickle.load(f)\n",
    "## We are loading: the good_types from Assignment 2\n",
    "with open('good_types.pickle','rb') as f:\n",
    "    good_types = pickle.load(f) \n",
    "## We are loading: the reply_matrix from Assignment 2\n",
    "with open('reply_matrix.pickle','rb') as f:\n",
    "    reply_matrix = pickle.load(f) \n",
    "n_good_types = len(good_types)\n",
    "good_speakers = [u'BRUCE',\n",
    "                 u'JONATHAN',\n",
    "                 u'KHLOE',\n",
    "                 u'KIM',\n",
    "                 u'KOURTNEY',\n",
    "                 u'KRIS',\n",
    "                 u'ROBERT',\n",
    "                 u'SCOTT']\n",
    "good_types_reverse_index = {t: i for i, t in enumerate(good_types)}\n",
    "good_pairs_reverse_index = {(0, 2): 0,\n",
    " (0, 5): 1,\n",
    " (2, 3): 2,\n",
    " (2, 4): 3,\n",
    " (2, 5): 4,\n",
    " (3, 4): 5,\n",
    " (3, 5): 6,\n",
    " (4, 5): 7,\n",
    " (4, 7): 8}\n",
    "n_good_speakers = len(good_speakers)\n",
    "def tokenize(text):\n",
    "    \"\"\"Returns a list of words that make up the text.    \n",
    "    Params: {text: String}\n",
    "    Returns: Array\n",
    "    \"\"\"\n",
    "    return [x for x in re.findall(r\"[a-z]*\", text.lower()) if x != \"\"]"
   ]
  },
  {
   "cell_type": "code",
   "execution_count": 4,
   "metadata": {
    "deletable": false,
    "editable": false,
    "nbgrader": {
     "checksum": "803005b4fd7f8ffb5c96518feb00e03f",
     "grade": false,
     "grade_id": "cell-59e3bcaa15cf7e4f",
     "locked": true,
     "schema_version": 1,
     "solution": false
    }
   },
   "outputs": [],
   "source": [
    "# Ensure that the pickled data stuctures are correct\n",
    "assert type(deduped_transcripts[0]) == tuple\n",
    "assert type(titles) == dict\n",
    "assert n_good_types == 4517\n",
    "assert n_good_speakers == 8"
   ]
  },
  {
   "cell_type": "markdown",
   "metadata": {
    "deletable": false,
    "editable": false,
    "nbgrader": {
     "checksum": "c08cd75a116156bb5a3febc01bf502ee",
     "grade": false,
     "grade_id": "cell-ba189c6034fada2d",
     "locked": true,
     "schema_version": 1,
     "solution": false
    }
   },
   "source": [
    "## Priming. How much is a character's word choice influenced by the person they are speaking to?\n",
    "\n",
    "[Priming](https://en.wikipedia.org/wiki/Priming_(psychology) is the phenomenon where a speaker tends to repeat certain words or language characteristics of the person they are replying to. It turns out that priming can often be observed in conversation. If A is talking to B, B will sometimes tend to use mirror A's language. We define a simple approximation of this, probabilistically, as follows:\n",
    "\n",
    "## Question 1 (Code Completion): Character Priming\n",
    "\n",
    "In this analysis we will be looking at priming: i.e. when speaker A replies to speaker B, what is the probability that a word said by B will be repeated by A? \n",
    "\n",
    "That is, how many of the words in A's reply were also said by B (normalized by the number of words A said in total)?\n",
    "Specifically, consider the following example:\n",
    "\n",
    "```\n",
    "Cristian: Hi Ilan, it is a really nice day today. Yes, it is.\n",
    "Ilan: It is a really really nice day today! Yes.\n",
    "```\n",
    "\n",
    "We should take the set of all words said by Cristian here (hi, ilan, it, is, a, really, nice, day, today, yes) $W_c$ and the set of all words said by Ilan here (it is a really nice day today yes) $W_i$, and compute $\\frac{|W_c \\cap W_i|}{|W_i|}$.\n",
    "\n",
    "For a specific *ordered* pair of speakers A and B, we then calculate the *arithmetic mean* among all pairs of adjacent utterences by them to get a single number between 0 and 1 as the answer to this question.\n",
    "\n",
    "The next couple methods will walk you through necessary pre-computations to get this priming matrix.\n",
    "Do read through these functions carefully as you will be using their results."
   ]
  },
  {
   "cell_type": "code",
   "execution_count": 5,
   "metadata": {
    "deletable": false,
    "editable": false,
    "nbgrader": {
     "checksum": "fd9fd7553a8facaa7cfdb81e577f3b60",
     "grade": false,
     "grade_id": "cell-6a28f3c3c05d1dad",
     "locked": true,
     "schema_version": 1,
     "solution": false
    }
   },
   "outputs": [],
   "source": [
    "def merge_deduped(stuff):\n",
    "    \"\"\"Merge adjacent comments\"\"\"\n",
    "    result = [] \n",
    "    for t_id, tscript in stuff:\n",
    "        prev_speaker = tscript[0]['speaker']\n",
    "        prev_line = tscript[0]['text']\n",
    "        tscript_result = [] \n",
    "        for i in range(1, len(tscript)): \n",
    "            curr_speaker = tscript[i]['speaker']\n",
    "            curr_line = tscript[i]['text']\n",
    "            if curr_speaker == prev_speaker: \n",
    "                prev_line = prev_line + \" \" + curr_line \n",
    "            else: \n",
    "                tscript_result.append({'speaker': prev_speaker, \n",
    "                                       'text': prev_line})\n",
    "                prev_speaker = curr_speaker \n",
    "                prev_line    = curr_line \n",
    "            if i == len(tscript)-1: \n",
    "                tscript_result.append({'speaker': prev_speaker, \n",
    "                                        'text': prev_line})\n",
    "        result.append((t_id, tscript_result))\n",
    "    return result \n",
    "\n",
    "merged_deduped_transcripts = merge_deduped(deduped_transcripts) \n",
    "\n",
    "def prev_lines_and_replies(A, B, tscript): \n",
    "    \"\"\"Creates an array of all the transcript lines \n",
    "    involving supposed correspondence between A \n",
    "    (first speaker) and B (second speaker) (both\n",
    "    previous message and current message)\"\"\"\n",
    "    \n",
    "    # Prepare results for B responses to A, \n",
    "    # previous speak \n",
    "    result = []\n",
    "    prev_speaker = None \n",
    "    prev_line = None\n",
    "    \n",
    "    # Go through every line of the transcript \n",
    "    for line in tscript:\n",
    "        curr_speaker = line['speaker']\n",
    "        \n",
    "        # If dialogue has happened \n",
    "        if ((curr_speaker == B and prev_speaker == A)): \n",
    "            # Add the previous line and the current line \n",
    "            result.append([prev_line, line])\n",
    "        \n",
    "        # Update the speaker + line \n",
    "        prev_speaker = curr_speaker \n",
    "        prev_line = line \n",
    "            \n",
    "    return result\n",
    "\n",
    "\n",
    "def ordered_lines_for_pair(A, B):\n",
    "    \"\"\"Gathers all lines in all transcripts for an\n",
    "    ORDERED pair of characters\"\"\"\n",
    "    \n",
    "    result = [] \n",
    "\n",
    "    for _, tscript in merged_deduped_transcripts:\n",
    "        result = result + prev_lines_and_replies(A, B, tscript)\n",
    "    return result \n",
    "\n",
    "def ordered_pairs_all_lines():\n",
    "    \"\"\"Gathers all lines in all transcripts for all ORDERED pairs \n",
    "    of good characters\"\"\"\n",
    "    \n",
    "    result = dict()  \n",
    "    \n",
    "    # Setup pairings (tuples)\n",
    "    for i in range(0, n_good_speakers):\n",
    "        for j in range(0, n_good_speakers): \n",
    "            if i != j: \n",
    "                tup = [i, j]\n",
    "                tup = tuple(tup)\n",
    "                result[tup] = [] \n",
    "    \n",
    "    # Gather lines per pair \n",
    "    for tup in result.keys():\n",
    "        A = good_speakers[tup[0]]\n",
    "        B = good_speakers[tup[1]]\n",
    "        result[tup] = ordered_lines_for_pair(A, B)\n",
    "    \n",
    "    return result \n",
    "\n",
    "# Groupings per pair \n",
    "ordered_pairs_lines = ordered_pairs_all_lines()"
   ]
  },
  {
   "cell_type": "markdown",
   "metadata": {
    "deletable": false,
    "editable": false,
    "nbgrader": {
     "checksum": "62fa30cded7515677d39ef2acc849b9f",
     "grade": false,
     "grade_id": "cell-0b383e4c82f2f5d4",
     "locked": true,
     "schema_version": 1,
     "solution": false
    }
   },
   "source": [
    "In the cell below, fulfill the specification to return a priming matrix:\n",
    "\n",
    "*Note: Ensure that they are only good_types*"
   ]
  },
  {
   "cell_type": "code",
   "execution_count": 73,
   "metadata": {
    "deletable": false,
    "nbgrader": {
     "checksum": "a0e013fa69f0320e45b3f73dc969381f",
     "grade": false,
     "grade_id": "create_pair_priming_mat",
     "locked": false,
     "schema_version": 1,
     "solution": true
    }
   },
   "outputs": [],
   "source": [
    "def create_pair_priming_mat(tokenize_method,\n",
    "                             input_ordered_pair_lines,\n",
    "                             input_n_speakers):\n",
    "    \"\"\"Returns a numpy array of size `n_speakers` by `n_speakers`\n",
    "    where entry (ij) is how many of the words in i's reply were also \n",
    "    said by j (normalized by the number of words i said in total).\n",
    "    \n",
    "    Hint: Use numpy primitives to make this function optimal.\n",
    "          You should use the good_types_reverse_index global variable. \n",
    "    \n",
    "    Steps: \n",
    "        1. For each tup (for each pair i,j)\n",
    "        2. Grab set of words (only good types)\n",
    "        3. Do necessary priming calculations \n",
    "        \n",
    "    Note: Don't forget to add 1 to the sum of each column \n",
    "    to handle divide by 0 issues!\n",
    "    \n",
    "    Params: {tokenize_method: Function a -> b,\n",
    "             input_ordered_pairs: Dict,\n",
    "             input_n_speakers: Integer}\n",
    "    Returns: Numpy array\n",
    "    \"\"\"\n",
    "    # YOUR CODE HERE\n",
    "    pair_priming_mat = np.zeros((input_n_speakers, input_n_speakers))\n",
    "    for i in range(input_n_speakers):\n",
    "        for j in range(input_n_speakers):\n",
    "            if i != j:\n",
    "                pair_lines = input_ordered_pair_lines[(i,j,)]\n",
    "                score  = 0.\n",
    "                if len(pair_lines) != 0:\n",
    "                    for lines_and_replies in pair_lines:\n",
    "                        line = set(tokenize_method(lines_and_replies[0]['text']))\n",
    "                        reply = set(tokenize_method(lines_and_replies[1]['text']))\n",
    "                        good_type_intersection = 0.\n",
    "                        for word in line.intersection(reply):\n",
    "                            if word in good_types_reverse_index.keys():\n",
    "                                good_type_intersection += 1.\n",
    "                        score += good_type_intersection/len(reply)\n",
    "                    score = score/len(pair_lines)\n",
    "                pair_priming_mat[i][j] = score\n",
    "    return pair_priming_mat\n",
    "                \n",
    "    raise NotImplementedError()"
   ]
  },
  {
   "cell_type": "code",
   "execution_count": 74,
   "metadata": {
    "deletable": false,
    "editable": false,
    "nbgrader": {
     "checksum": "8a07c196bdb6b2e0e4ad20caa01234a4",
     "grade": false,
     "grade_id": "cell-671dbaf2f75222fe",
     "locked": true,
     "schema_version": 1,
     "solution": false
    }
   },
   "outputs": [],
   "source": [
    "pair_priming_mat = create_pair_priming_mat(tokenize,ordered_pairs_lines,n_good_speakers)"
   ]
  },
  {
   "cell_type": "code",
   "execution_count": 75,
   "metadata": {
    "deletable": false,
    "editable": false,
    "nbgrader": {
     "checksum": "3f8de11d12452823e548160b098df71c",
     "grade": true,
     "grade_id": "create_pair_priming_mat_test",
     "locked": true,
     "points": 25,
     "schema_version": 1,
     "solution": false
    }
   },
   "outputs": [],
   "source": [
    "# This is an autograder test. Here we can test the function you just wrote above.\n",
    "\"\"\"Check that pair_priming_mat returns the correct output\"\"\"\n",
    "assert type(pair_priming_mat) == np.ndarray\n",
    "assert pair_priming_mat.shape == (8,8)\n",
    "assert pair_priming_mat[0][0] == 0.0\n",
    "assert sum(pair_priming_mat[0]) > 0.8\n",
    "assert sum(pair_priming_mat[5]) > 0.7 and sum(pair_priming_mat[5]) < 0.9"
   ]
  },
  {
   "cell_type": "code",
   "execution_count": 76,
   "metadata": {
    "deletable": false,
    "editable": false,
    "nbgrader": {
     "checksum": "9dd0a5c34ec619e7363ea53f4725fd29",
     "grade": false,
     "grade_id": "cell-39bb4a65e3488463",
     "locked": true,
     "schema_version": 1,
     "solution": false
    }
   },
   "outputs": [
    {
     "data": {
      "image/png": "[encoded data removed]",
      "text/plain": [
       "<matplotlib.figure.Figure at 0x7f723fc7c668>"
      ]
     },
     "metadata": {},
     "output_type": "display_data"
    }
   ],
   "source": [
    "plt.imshow(pair_priming_mat, interpolation='none', cmap=plt.cm.Greys)\n",
    "plt.colorbar()\n",
    "plt.xticks(range(n_good_speakers), good_speakers, rotation=90)\n",
    "plt.yticks(range(n_good_speakers), good_speakers)\n",
    "plt.show() "
   ]
  },
  {
   "cell_type": "markdown",
   "metadata": {
    "deletable": false,
    "editable": false,
    "nbgrader": {
     "checksum": "177418d810c7e1d765412be7f1114dd2",
     "grade": false,
     "grade_id": "cell-266669f2f79de399",
     "locked": true,
     "schema_version": 1,
     "solution": false
    }
   },
   "source": [
    "It is also interesting to note: which are the top 3 pairs where a character is most likely to systematically repeat words that another uses? and what are the 3 pairs least likely to repeat words? \n",
    "\n",
    "In this case, these would be *ordered* pairs, since, for example, Kim might tend to mimic Kourtney more than the other way around.\n",
    "\n",
    "In the code we provided below we have ignored *ordered* pairs that have fewer than 100 words. Analyze the code and results provided:"
   ]
  },
  {
   "cell_type": "code",
   "execution_count": 44,
   "metadata": {
    "deletable": false,
    "editable": false,
    "nbgrader": {
     "checksum": "3cd27f7efa90bd0a279ba71d72940eda",
     "grade": false,
     "grade_id": "cell-35824ba52f50826c",
     "locked": true,
     "schema_version": 1,
     "solution": false
    }
   },
   "outputs": [
    {
     "name": "stdout",
     "output_type": "stream",
     "text": [
      "Top 3 pairs:\n",
      " - SCOTT repeats BRUCE ( score: 0.16662 )\n",
      " - KRIS repeats ROBERT ( score: 0.14662 )\n",
      " - KOURTNEY repeats KIM ( score: 0.14523 )\n",
      "Bottom 3 pairs:\n",
      " - KHLOE repeats ROBERT ( score: 0.0916 )\n",
      " - BRUCE repeats KIM ( score: 0.08962 )\n",
      " - BRUCE repeats SCOTT ( score: 0.08537 )\n"
     ]
    }
   ],
   "source": [
    "mat_items = []\n",
    "for i in range(n_good_speakers):\n",
    "    for j in range(n_good_speakers):\n",
    "        if i != j and reply_matrix[i, j] >= 100:\n",
    "            mat_items.append((pair_priming_mat[i, j], (i, j)))\n",
    "mat_items.sort() \n",
    "\n",
    "print(\"Top 3 pairs:\")\n",
    "top_3_priming_pairs = []\n",
    "for score, (i, j) in reversed(mat_items[-3:]):\n",
    "    top_3_priming_pairs.append((i, j))\n",
    "    print(\" -\", good_speakers[i], \"repeats\", good_speakers[j], \"( score:\", round(score, 5), \")\")\n",
    "print(\"Bottom 3 pairs:\")\n",
    "for score, (i, j) in reversed(mat_items[:3]):\n",
    "    print(\" -\", good_speakers[i], \"repeats\", good_speakers[j], \"( score:\", round(score, 5), \")\")"
   ]
  },
  {
   "cell_type": "markdown",
   "metadata": {
    "deletable": false,
    "editable": false,
    "nbgrader": {
     "checksum": "81697d38dbcdf9822bda98e241f4f3f4",
     "grade": false,
     "grade_id": "cell-5c3c2965dc86886e",
     "locked": true,
     "schema_version": 1,
     "solution": false
    }
   },
   "source": [
    "## Question 1b (Free Response): Character Priming\n",
    "\n",
    "In the cell below, please use Markdown to describe anything that you notice about the heatmap generated from the priming matrix as well as the results above, in regards to the top/bottom 3 priming pairs. Were you expecting these results or are were you surprised?  "
   ]
  },
  {
   "cell_type": "markdown",
   "metadata": {
    "deletable": false,
    "nbgrader": {
     "checksum": "5418c4ba281e894c7093eeb6b28fe367",
     "grade": true,
     "grade_id": "cell-17642a21d4281b57",
     "locked": false,
     "points": 10,
     "schema_version": 1,
     "solution": true
    }
   },
   "source": [
    "The most obvious result from the heatmap is that the score between the pair Bruce and Jonathan is the highest and much higher than other pairs. Another interesting thing about Jonathan is that he only interact with four characters： Bruce, Khloe, Kim and Kourtney. The the top/bottom 3 priming pairs are not surprising because according to the analysis from Assignment 2 we could expect that the score between female and male characters would be low and the score of same gender pairs would be high."
   ]
  },
  {
   "cell_type": "markdown",
   "metadata": {
    "deletable": false,
    "editable": false,
    "nbgrader": {
     "checksum": "51e421d7969bb76dbab4017772d77085",
     "grade": false,
     "grade_id": "cell-2dc028045c48c054",
     "locked": true,
     "schema_version": 1,
     "solution": false
    }
   },
   "source": [
    "## Question 1c (Code Completion): Character Priming\n",
    "For your final analysis, for each of the three ordered pairs that prime the most, we are trying to determine what are the top 10 words being repeated?\n",
    "\n",
    "In the cell below, satisfy the specification to return the word counts of repeated words per pair by returning a dictionary of word counts per ordered_pair in the following format:\n",
    "\n",
    "For example:\n",
    "```\n",
    "{(character_index_a,character_index_b): \n",
    "    {word_1:count_1,word_2:count_2...}\n",
    "...}\n",
    "```"
   ]
  },
  {
   "cell_type": "code",
   "execution_count": 45,
   "metadata": {
    "deletable": false,
    "editable": false,
    "nbgrader": {
     "checksum": "3027bc151bda2a480ba97117026fe7d2",
     "grade": false,
     "grade_id": "cell-b40dd396ef67f883",
     "locked": true,
     "schema_version": 1,
     "solution": false
    }
   },
   "outputs": [],
   "source": [
    "## Helper variables for the following cell\n",
    "ordered_pairs = list(ordered_pairs_lines.keys())\n",
    "n_ordered_pairs = len(ordered_pairs)\n",
    "ordered_pair_lookup = {}\n",
    "for i in range(0, n_ordered_pairs):\n",
    "    ordered_pair_lookup[ordered_pairs[i]] = i"
   ]
  },
  {
   "cell_type": "code",
   "execution_count": 62,
   "metadata": {
    "deletable": false,
    "nbgrader": {
     "checksum": "3247bc925126fa4c6f9970da87906bcf",
     "grade": false,
     "grade_id": "word_counts_per_ordered_pair",
     "locked": false,
     "schema_version": 1,
     "solution": true
    }
   },
   "outputs": [],
   "source": [
    "def word_counts_per_ordered_pair(tokenize_method,input_ordered_pairs,input_ordered_pairs_lines):\n",
    "    \"\"\"Returns a dictionary that contains all the word counts of primed words \n",
    "    per ordered pair in the following format:\n",
    "        {(character_index_a,character_index_b): \n",
    "        {word_1:count_1,word_2:count_2...}\n",
    "        ...}\n",
    "    \n",
    "    Hint: Make sure to use the good_types_reverse_index global variable\n",
    "    \n",
    "    Params: {tokenize_method: Function (a -> b),\n",
    "             input_ordered_pairs: List\n",
    "             input_ordered_pair_lines: Dict}\n",
    "    Returns: Dict\n",
    "    \"\"\"\n",
    "    # YOUR CODE HERE\n",
    "    word_counts_per_ordered_pair = {}\n",
    "    for pair in input_ordered_pairs:\n",
    "        word_counts_per_ordered_pair[pair] = {}\n",
    "        pair_lines = input_ordered_pairs_lines[pair]\n",
    "        for lines_and_replies in pair_lines:\n",
    "            line = tokenize_method(lines_and_replies[0]['text'])\n",
    "            reply = tokenize_method(lines_and_replies[1]['text'])\n",
    "            for word in reply:\n",
    "                if word in good_types_reverse_index.keys() and word in line:\n",
    "                    if word in word_counts_per_ordered_pair[pair].keys():\n",
    "                        word_counts_per_ordered_pair[pair][word] += 1\n",
    "                    else:\n",
    "                        word_counts_per_ordered_pair[pair][word] = 1\n",
    "    return word_counts_per_ordered_pair\n",
    "        \n",
    "    raise NotImplementedError()"
   ]
  },
  {
   "cell_type": "code",
   "execution_count": 63,
   "metadata": {
    "deletable": false,
    "editable": false,
    "nbgrader": {
     "checksum": "59e53ee5ea0f9e4af1b8915a2aa4cecd",
     "grade": false,
     "grade_id": "cell-9dd27d734c4b4392",
     "locked": true,
     "schema_version": 1,
     "solution": false
    }
   },
   "outputs": [],
   "source": [
    "priming_word_counts = word_counts_per_ordered_pair(tokenize,ordered_pairs,ordered_pairs_lines)"
   ]
  },
  {
   "cell_type": "code",
   "execution_count": 64,
   "metadata": {
    "deletable": false,
    "editable": false,
    "nbgrader": {
     "checksum": "a81fd469097835ae0dcafb9d2f51ba09",
     "grade": true,
     "grade_id": "word_counts_per_ordered_pair_test",
     "locked": true,
     "points": 15,
     "schema_version": 1,
     "solution": false
    }
   },
   "outputs": [],
   "source": [
    "# This is an autograder test. Here we can test the function you just wrote above.\n",
    "\"\"\"Check that priming_word_counts returns the correct output\"\"\"\n",
    "assert type(priming_word_counts) == dict\n",
    "assert len(priming_word_counts[(0,1)]) > 0\n",
    "assert len(priming_word_counts[(5,4)]) > 85\n",
    "assert sum(priming_word_counts[(3,5)].values()) > 800"
   ]
  },
  {
   "cell_type": "markdown",
   "metadata": {
    "deletable": false,
    "editable": false,
    "nbgrader": {
     "checksum": "8bf92ca266ead03e3dae3fa8443df9d9",
     "grade": false,
     "grade_id": "cell-043ba7de71373e59",
     "locked": true,
     "schema_version": 1,
     "solution": false
    }
   },
   "source": [
    "## Question 1d (Code Completion): Character Priming\n",
    "To complete your analysis print the top 10 words used by the top 3 priming pairs. The expected format is the following: \n",
    "\n",
    "```\n",
    "CHARACTER_NAME_A CHARACTER_NAME_B\n",
    "FREQ_WORD_1 WORD_1\n",
    "FREQ_WORD_2 WORD_2\n",
    "...\n",
    "```    \n",
    "\n",
    "Note: (CHARACTER_NAME_A CHARACTER_NAME_B) means B responding to A\n"
   ]
  },
  {
   "cell_type": "code",
   "execution_count": 84,
   "metadata": {
    "deletable": false,
    "nbgrader": {
     "checksum": "62213f8d25e3a2cab6f431478114c617",
     "grade": true,
     "grade_id": "cell-f11fd267fa5653f4",
     "locked": false,
     "points": 10,
     "schema_version": 1,
     "solution": true
    }
   },
   "outputs": [
    {
     "name": "stdout",
     "output_type": "stream",
     "text": [
      "BRUCE SCOTT\n",
      "15 i\n",
      "12 to\n",
      "11 you\n",
      "7 it\n",
      "6 that\n",
      "6 and\n",
      "5 is\n",
      "4 just\n",
      "4 can\n",
      "3 how\n",
      "\n",
      "ROBERT KRIS\n",
      "40 you\n",
      "31 i\n",
      "19 to\n",
      "14 and\n",
      "7 just\n",
      "6 s\n",
      "5 t\n",
      "4 no\n",
      "4 going\n",
      "4 a\n",
      "\n",
      "KIM KOURTNEY\n",
      "128 i\n",
      "65 to\n",
      "64 you\n",
      "44 it\n",
      "44 s\n",
      "42 and\n",
      "32 like\n",
      "26 the\n",
      "24 that\n",
      "22 we\n",
      "\n"
     ]
    }
   ],
   "source": [
    "# YOUR CODE HERE\n",
    "for _, (i, j) in reversed(mat_items[-3:]):\n",
    "    print (good_speakers[j], good_speakers[i])\n",
    "    top10_words = sorted(priming_word_counts[(i,j)].items(), key = lambda x: x[1], reverse = True)[:10]\n",
    "    for word, frequency in top10_words:\n",
    "        print(frequency, word)\n",
    "    print ()\n",
    "# raise NotImplementedError()"
   ]
  },
  {
   "cell_type": "markdown",
   "metadata": {
    "deletable": false,
    "editable": false,
    "nbgrader": {
     "checksum": "1c2bacea8201a56b447509caf998edf8",
     "grade": false,
     "grade_id": "cell-99f8b30a25b2fa9e",
     "locked": true,
     "schema_version": 1,
     "solution": false
    }
   },
   "source": [
    "# This is the end of Assignment 2: Optional Extra Credit"
   ]
  }
 ],
 "metadata": {
  "kernelspec": {
   "display_name": "venv",
   "language": "python",
   "name": "venv"
  },
  "language_info": {
   "codemirror_mode": {
    "name": "ipython",
    "version": 3
   },
   "file_extension": ".py",
   "mimetype": "text/x-python",
   "name": "python",
   "nbconvert_exporter": "python",
   "pygments_lexer": "ipython3",
   "version": "3.5.2"
  }
 },
 "nbformat": 4,
 "nbformat_minor": 2
}
