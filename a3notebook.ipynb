{
 "cells": [
  {
   "cell_type": "markdown",
   "metadata": {
    "deletable": false,
    "editable": false,
    "nbgrader": {
     "checksum": "1329bc640e2d003a2f0111a7d2790634",
     "grade": false,
     "grade_id": "cell-05fb407e20c068e6",
     "locked": true,
     "schema_version": 1,
     "solution": false
    }
   },
   "source": [
    "# Assignment 3: \"Search your transcripts. You will know it to be true.\" (Part 1)\n",
    "\n",
    "## © Cristian Danescu-Niculescu-Mizil 2018\n",
    "\n",
    "## CS/INFO 4300 Language and Information\n",
    "\n",
    "### Due by midnight on Wednesday February 21th\n",
    "\n",
    "\n",
    "This is an **individual** assignment.\n",
    "\n",
    "If you use any outside sources (e.g. research papers, StackOverflow) please list your sources.\n",
    "\n",
    "In this assignment we will explore the tradeoffs of information retrieval systems by finding newspaper quotes from \"Keeping Up With The Kardashians\".\n",
    "\n",
    "**Guidelines**\n",
    "\n",
    "All cells that contain the blocks that read `# YOUR CODE HERE` are editable and are to be completed to ensure you pass the test-cases. Make sure to write your code where indicated.\n",
    "\n",
    "All cells that read `YOUR ANSWER HERE` are free-response cells that are editable and are to be completed.\n",
    "\n",
    "You may use any number of notebook cells to explore the data and test out your functions, although you will only be graded on the solution itself.\n",
    "\n",
    "\n",
    "You are unable to modify the read-only cells.\n",
    "\n",
    "You should also use Markdown cells to explain your code and discuss your results when necessary.\n",
    "Instructions can be found [here](http://jupyter-notebook.readthedocs.io/en/latest/examples/Notebook/Working%20With%20Markdown%20Cells.html).\n",
    "\n",
    "All floating point values should be printed with **2 decimal places** precision. You can do so using the built-in round function.\n",
    "\n",
    "**Grading**\n",
    "\n",
    "For code-completion questions you will be graded on passing the public test cases we have included, as well as any hidden test cases that we have supplemented to ensure that your logic is correct.\n",
    "\n",
    "For free-response questions you will be manually graded on the quality of your answer.\n",
    "\n",
    "\n",
    "# Setup\n",
    "\n",
    "Tabloids have been going crazy over our stars.  The press took some  quotes from the show, including:\n",
    "       \n",
    " - *\"It's like a bunch of people running around talking about nothing.\"*\n",
    " - *\"Never say to a famous person that this possible endorsment would bring 'er to the spot light.\"*\n",
    " - *\"Your yapping is making my head ache!\"*\n",
    " - *\"I'm going to Maryland, did I tell you?\"*\n",
    " \n",
    "We need to find out who said each of these, and in which episode. But since we're information scientists, that's not enough. We want to build an efficient search engine for retrieving where such quotes come from in the future.\n",
    "\n",
    "What makes this difficult is that journalists often modify the quotes, so exact matching will not always work."
   ]
  },
  {
   "cell_type": "code",
   "execution_count": 7,
   "metadata": {
    "deletable": false,
    "editable": false,
    "nbgrader": {
     "checksum": "4bf3443c2dbcc2de8df67bd8627f2b62",
     "grade": false,
     "grade_id": "cell-f1dd9a71b4c17f87",
     "locked": true,
     "schema_version": 1,
     "solution": false
    }
   },
   "outputs": [],
   "source": [
    "from __future__ import print_function\n",
    "import numpy as np\n",
    "import math\n",
    "from collections import defaultdict\n",
    "from nltk.tokenize import TreebankWordTokenizer\n",
    "import Levenshtein  # package python-Levenshtein"
   ]
  },
  {
   "cell_type": "code",
   "execution_count": 8,
   "metadata": {
    "deletable": false,
    "editable": false,
    "nbgrader": {
     "checksum": "36ff12d52815048f4067b5b3534e8306",
     "grade": false,
     "grade_id": "cell-aa241541357eb588",
     "locked": true,
     "schema_version": 1,
     "solution": false
    }
   },
   "outputs": [],
   "source": [
    "queries = [u\"It's like a bunch of people running around talking about nothing.\",\n",
    "           u\"Never say to a famous person that this possible endorsment would bring 'er to the spot light.\",\n",
    "           u\"Your yapping is making my head ache!\",\n",
    "           u\"I'm going to Maryland, did I tell you?\"]"
   ]
  },
  {
   "cell_type": "markdown",
   "metadata": {
    "deletable": false,
    "editable": false,
    "nbgrader": {
     "checksum": "6c42e5bce8d2fb85a082f42044b5056b",
     "grade": false,
     "grade_id": "cell-0f7ae320331de933",
     "locked": true,
     "schema_version": 1,
     "solution": false
    }
   },
   "source": [
    "## Load the data\n",
    "\n",
    "Load the transcripts provided in the `kardashian-transcripts.json` file."
   ]
  },
  {
   "cell_type": "code",
   "execution_count": 9,
   "metadata": {
    "deletable": false,
    "editable": false,
    "nbgrader": {
     "checksum": "834e6583598bd2d16139477cfa470e37",
     "grade": false,
     "grade_id": "cell-998dffdd45ebf2d4",
     "locked": true,
     "schema_version": 1,
     "solution": false
    }
   },
   "outputs": [
    {
     "name": "stdout",
     "output_type": "stream",
     "text": [
      "851\n"
     ]
    }
   ],
   "source": [
    "import json\n",
    "with open(\"kardashian-transcripts.json\", \"r\") as f:\n",
    "    transcripts = json.load(f)\n",
    "print(len(transcripts[0]))"
   ]
  },
  {
   "cell_type": "markdown",
   "metadata": {
    "deletable": false,
    "editable": false,
    "nbgrader": {
     "checksum": "217b2eca38857b0ebd707f9dbe980ea5",
     "grade": false,
     "grade_id": "cell-677d188e01c99c05",
     "locked": true,
     "schema_version": 1,
     "solution": false
    }
   },
   "source": [
    "## Reorganize the data\n",
    "\n",
    "For this assignment, we'll consider documents to be individual message lines. The provided transcripts are grouped differently. We reorganize the data as a list of messages, where the messages are dictionary structures as provided."
   ]
  },
  {
   "cell_type": "code",
   "execution_count": 10,
   "metadata": {
    "deletable": false,
    "editable": false,
    "nbgrader": {
     "checksum": "d7f4c7b02fcff086fc53fa5edd79b1f4",
     "grade": false,
     "grade_id": "cell-e1781547f7fd821f",
     "locked": true,
     "schema_version": 1,
     "solution": false
    }
   },
   "outputs": [],
   "source": [
    "flat_msgs = [m for transcript in transcripts for m in transcript]"
   ]
  },
  {
   "cell_type": "markdown",
   "metadata": {
    "deletable": false,
    "editable": false,
    "nbgrader": {
     "checksum": "6fa0a76834399c41c5d87f447c7c02de",
     "grade": false,
     "grade_id": "cell-3ffb8d2b853ffd6f",
     "locked": true,
     "schema_version": 1,
     "solution": false
    }
   },
   "source": [
    "# Searching the collection\n",
    "\n",
    "The first and easiest thing to try is to directly compare the newspaper quote to the transcript strings.  If the press just copy-pasted from the transcript website, this might work.\n",
    "\n",
    "## Find all messages that include the given quotes exactly.\n",
    "\n",
    "Print the episode title, speaker name and full message, for all messages that exactly contain a given quote.\n",
    "\n",
    "Write this as a function `verbatim_search` and run the function for each of the 4 quotes."
   ]
  },
  {
   "cell_type": "markdown",
   "metadata": {
    "deletable": false,
    "editable": false,
    "nbgrader": {
     "checksum": "7703fe86cccfbcfe287cfbede04d2365",
     "grade": false,
     "grade_id": "cell-2eacb96f7904e12e",
     "locked": true,
     "schema_version": 1,
     "solution": false
    }
   },
   "source": [
    "### Q1 Write a function `verbatim_search` that looks for exact matches of a query in each message.\n",
    "\n",
    "Use `in`: `'efg' in 'cdefgh'` is `True`."
   ]
  },
  {
   "cell_type": "code",
   "execution_count": 14,
   "metadata": {
    "deletable": false,
    "nbgrader": {
     "checksum": "4dab5375d4bf0f0ffd6e5b78da4e18b0",
     "grade": false,
     "grade_id": "verbatim_search",
     "locked": false,
     "schema_version": 1,
     "solution": true
    }
   },
   "outputs": [],
   "source": [
    "def verbatim_search(query, msgs):\n",
    "    \"\"\" Verbatim search\n",
    "    \n",
    "    Arguments\n",
    "    =========\n",
    "    \n",
    "    query: string,\n",
    "        The query we are looking for.\n",
    "        \n",
    "    msgs: list of dicts,\n",
    "        Each message in this list has a 'text' field with\n",
    "        the raw document.\n",
    "    \n",
    "    Returns\n",
    "    =======\n",
    "    result: list of messages\n",
    "        All messages that exactly contain the query string.\n",
    "    \n",
    "    \"\"\"\n",
    "    # YOUR CODE HERE\n",
    "    result = []\n",
    "    for message in msgs:\n",
    "        if query in message['text']:\n",
    "            result.append(message)\n",
    "    return result\n",
    "    raise NotImplementedError()\n",
    "    "
   ]
  },
  {
   "cell_type": "code",
   "execution_count": 15,
   "metadata": {
    "deletable": false,
    "editable": false,
    "nbgrader": {
     "checksum": "f7765dde6ae11ae495096c992980b9ff",
     "grade": true,
     "grade_id": "verbatim_search_test",
     "locked": true,
     "points": 5,
     "schema_version": 1,
     "solution": false
    }
   },
   "outputs": [
    {
     "name": "stdout",
     "output_type": "stream",
     "text": [
      "It's like a bunch of people running around talking about nothing.\n",
      "===\n",
      "BRUCE: It's like a bunch of people running around talking about nothing.\n",
      "\t(Keeping Up With the Kardashians - Kourt's First Cover)\n",
      "\n",
      "\n",
      "Never say to a famous person that this possible endorsment would bring 'er to the spot light.\n",
      "===\n",
      "\n",
      "Your yapping is making my head ache!\n",
      "===\n",
      "\n",
      "I'm going to Maryland, did I tell you?\n",
      "===\n",
      "\n"
     ]
    }
   ],
   "source": [
    "# This is an autograder test. Here we can test the function you just wrote above.\n",
    "\"\"\"Check that tokenize returns the correct output\"\"\"\n",
    "msgs = verbatim_search(queries[0], flat_msgs)\n",
    "assert len(msgs) == 1\n",
    "msgs = verbatim_search(queries[1], flat_msgs)\n",
    "assert len(msgs) == 0\n",
    "\n",
    "for query in queries:\n",
    "    print(query)\n",
    "    print(\"===\")\n",
    "    for msg in verbatim_search(query, flat_msgs):\n",
    "        print(\"{}: {}\\n\\t({})\\n\".format(msg['speaker'],\n",
    "                                        msg['text'],\n",
    "                                        msg['episode_title']))\n",
    "    print()\n",
    "    "
   ]
  },
  {
   "cell_type": "markdown",
   "metadata": {
    "deletable": false,
    "editable": false,
    "nbgrader": {
     "checksum": "87d3dd845637fe5622c62434f4614e03",
     "grade": false,
     "grade_id": "cell-4c1d49d57702bd76",
     "locked": true,
     "schema_version": 1,
     "solution": false
    }
   },
   "source": [
    "## Find the most similar messages to the quotes in terms of Edit Distance\n",
    "\n",
    "\n",
    "This section is solved using the [python-Levenshtein](https://rawgit.com/ztane/python-Levenshtein/master/docs/Levenshtein.html) package.\n",
    "\n",
    "### Q2.1 Write an `edit_distance_search` function.\n",
    "\n",
    "Instead of searching for verbatim quotes, we will now try using the more flexible edit distance metric to see if this improves the quality of our search results. For each query, we will need to loop over each message, and compute the edit distance each time -- like with verbatim_search, there are no obvious shortcuts."
   ]
  },
  {
   "cell_type": "code",
   "execution_count": 19,
   "metadata": {
    "deletable": false,
    "nbgrader": {
     "checksum": "e9d0c073759589ea7a5efbd2b22dc9e2",
     "grade": false,
     "grade_id": "cell-771cc8dcdbb0c533",
     "locked": false,
     "schema_version": 1,
     "solution": true
    }
   },
   "outputs": [],
   "source": [
    "def edit_distance(query_str, msg_str):\n",
    "    \"\"\"Edit distance\n",
    "    \n",
    "    Arguments\n",
    "    =========\n",
    "    \n",
    "    query_str: string,\n",
    "        The query string\n",
    "    \n",
    "    msg_str: string,\n",
    "        The message string we want to compare to\n",
    "    \n",
    "    Returns\n",
    "    =======\n",
    "    \n",
    "    result: int,\n",
    "    The edit distance between the two strings. Every modification type\n",
    "    a cost of 1.\n",
    "    \"\"\"\n",
    "    return Levenshtein.distance(query_str.lower(), msg_str.lower())\n",
    "\n",
    "def edit_distance_search(query, msgs):\n",
    "    \"\"\" Edit distance search\n",
    "    \n",
    "    Arguments\n",
    "    =========\n",
    "    \n",
    "    query: string,\n",
    "        The query we are looking for.\n",
    "        \n",
    "    msgs: list of dicts,\n",
    "        Each message in this list already has a 'toks'\n",
    "        field that contains the tokenized message.\n",
    "    \n",
    "    Returns\n",
    "    =======\n",
    "    \n",
    "    result: list of (score, message) tuples.\n",
    "        The result list is sorted by score such that the closest match\n",
    "        is the top result in the list.\n",
    "    \n",
    "    \"\"\"\n",
    "    # YOUR CODE HERE\n",
    "    result  = []\n",
    "    for message in msgs:\n",
    "        result.append((edit_distance(query, message['text']), message, ))\n",
    "    return sorted(result, key = lambda x: x[0])\n",
    "\n",
    "    raise NotImplementedError()"
   ]
  },
  {
   "cell_type": "markdown",
   "metadata": {
    "deletable": false,
    "editable": false,
    "nbgrader": {
     "checksum": "a6568ca385768d6a0b3501dba652aa08",
     "grade": false,
     "grade_id": "cell-d29b0562666e3a08",
     "locked": true,
     "schema_version": 1,
     "solution": false
    }
   },
   "source": [
    "When the edit_distance_search function is completed you can run the lines below to print out the best matches for each query string."
   ]
  },
  {
   "cell_type": "code",
   "execution_count": 21,
   "metadata": {
    "deletable": false,
    "editable": false,
    "nbgrader": {
     "checksum": "ffe1e3f82441a5e861679a5b2054c26a",
     "grade": true,
     "grade_id": "cell-e889255335356bfe",
     "locked": true,
     "points": 10,
     "schema_version": 1,
     "solution": false
    }
   },
   "outputs": [
    {
     "name": "stdout",
     "output_type": "stream",
     "text": [
      "#################################################################\n",
      "It's like a bunch of people running around talking about nothing.\n",
      "#################################################################\n",
      "[0.00] BRUCE: It's like a bunch of people running around talking about nothing.\n",
      "\t(Keeping Up With the Kardashians - Kourt's First Cover)\n",
      "[33.00] KRIS: It's not a bunch of teenagers running around.\n",
      "\t(Keeping Up With the Kardashians - Kris ``The Cougar'' Jenner)\n",
      "[35.00] KHLOE: It's like, what are you talking about?\n",
      "\t(The Wedding: Keeping Up With the Kardashians)\n",
      "[37.00] KIM: It's like it has separation anxiety or something.\n",
      "\t(Keeping Up With the Kardashians - Shape Up or Ship Out)\n",
      "[37.00] KHLOE: It's like I want to learn how to do that.\n",
      "\t(Keeping Up With the Kardashians - Distance Makes the Heart Grow Fonder)\n",
      "[37.00] KOURTNEY: It's like an explosion in your pantyhose.\n",
      "\t(Keeping Up With the Kardashians - I'd Rather Go Naked... Or Shopping)\n",
      "[38.00] ROB: I have a bunch of connections in the industry.\n",
      "\t(Keeping Up With the Kardashians - Must Love Dogs)\n",
      "[38.00] ROB: I have a bunch of connections in the industry.\n",
      "\t(Keeping Up With the Kardashians - Must Love Dogs)\n",
      "[38.00] BRUCE: That's why you're running around wearing black.\n",
      "\t(Keeping Up With the Kardashians - I'd Rather Go Naked... Or Shopping)\n",
      "[38.00] BRUCE: That's why you're running around wearing black.\n",
      "\t(Keeping Up With the Kardashians - Kourt's First Cover)\n",
      "\n",
      "#############################################################################################\n",
      "Never say to a famous person that this possible endorsment would bring 'er to the spot light.\n",
      "#############################################################################################\n",
      "[42.00] SIMON: You don't tell an international celebrity that this possible endorsement could bring her back into the spotlight.\n",
      "\t(Keeping Up With the Kardashians - Delivering Baby Mason)\n",
      "[59.00] KRIS: You need to trust that I actually know what I'm doing at some point.\n",
      "\t(Keeping Up With the Kardashians - Blame It on the Alcohol)\n",
      "[60.00] BRUCE: You know, I've seen her do this before, and it's just not right.\n",
      "\t(Keeping Up With the Kardashians - Baby Blues)\n",
      "[60.00] ALEX: I feel like people want to see you, like, back in the spotlight.\n",
      "\t(Keeping Up With the Kardashians - Delivering Baby Mason)\n",
      "[60.00] KHLOE: Trust me, this is the most entertaining part of the entire night.\n",
      "\t(Keeping Up With the Kardashians - Birthday Suit)\n",
      "[60.00] ROB: I clean all the counters at like from the floors to the bathtub to the toilet.\n",
      "\t(Keeping Up With the Kardashians - Kim's Calendar for Reggie)\n",
      "[60.00] KIM: I didn't want to go on this trip and I'm not talking to them at all.\n",
      "\t(Keeping Up With the Kardashians - Kardashian Civil War)\n",
      "[60.00] ELIZABETH: I reminded you this morning that you needed to bring the designs.\n",
      "\t(Keeping Up With the Kardashians - Family vs. Money)\n",
      "[60.00] KRIS: Okay. If it was you against the other three, I would have felt the same way.\n",
      "\t(Keeping Up With the Kardashians - Kardashian Civil War)\n",
      "[60.00] DAVID: We're gonna take a look at these Polaroids, and then we'll be right with you.\n",
      "\t(Keeping Up With the Kardashians - Khloe's Blind Dates)\n",
      "\n",
      "####################################\n",
      "Your yapping is making my head ache!\n",
      "####################################\n",
      "[15.00] KIM: Your yappity voice is giving me a headache!\n",
      "\t(Keeping Up With the Kardashians - Shape Up or Ship Out)\n",
      "[15.00] KIM: Your yappity voice is giving me a headache!\n",
      "\t(Keeping Up With the Kardashians - Shape Up or Ship Out)\n",
      "[20.00] KIM: You want to make peace?\n",
      "\t(Keeping Up With the Kardashians - Family vs. Money)\n",
      "[21.00] BRUCE: Everything's going to be fine.\n",
      "\t(Keeping Up With the Kardashians - The Missing Ring)\n",
      "[21.00] KHLOE: You are walking me me down...\n",
      "\t(Keeping Up With the Kardashians - The Wedding)\n",
      "[21.00] KHLOE: You are walking me me down...\n",
      "\t(The Wedding: Keeping Up With the Kardashians)\n",
      "[21.00] KRIS: You're going to make a scene.\n",
      "\t(Keeping Up With the Kardashians - What's Yours Is Mine)\n",
      "[22.00] BRUCE: You're diving in for the cash?\n",
      "\t(Keeping Up With the Kardashians - Shape Up or Ship Out)\n",
      "[22.00] KHLOE: Your secret is safe with me.\n",
      "\t(Keeping Up With the Kardashians - Shape Up or Ship Out)\n",
      "[22.00] BRUCE: You're diving in for   the  cash?\n",
      "\t(Keeping Up With the Kardashians - Shape Up or Ship Out)\n",
      "\n",
      "######################################\n",
      "I'm going to Maryland, did I tell you?\n",
      "######################################\n",
      "[18.00] LAMAR: I'm going to go play with Rob.\n",
      "\t(Keeping Up With the Kardashians - Blind Date)\n",
      "[19.00] KHLOE: I'm going to move to New York.\n",
      "\t(Keeping Up With the Kardashians - Distance Makes the Heart Grow Fonder)\n",
      "[19.00] SCOTT: I'm going to have six or seven?\n",
      "\t(Keeping Up With the Kardashians - The Wedding)\n",
      "[19.00] KHLOE: I'm going to move to New York.\n",
      "\t(Keeping Up With the Kardashians - Free Khloe)\n",
      "[19.00] SCOTT: I'm going to have six or seven?\n",
      "\t(The Wedding: Keeping Up With the Kardashians)\n",
      "[19.00] KRIS: I'm going to lunch with Lisa.\n",
      "\t(The Wedding: Keeping Up With the Kardashians)\n",
      "[20.00] FRIEND: I'm going to get canned inside.\n",
      "\t(Keeping Up With the Kardashians - Shape Up or Ship Out)\n",
      "[20.00] FRIEND: I'm going to get canned inside.\n",
      "\t(Keeping Up With the Kardashians - Shape Up or Ship Out)\n",
      "[20.00] ROB: I'm going to tell her.\n",
      "\t(Keeping Up With the Kardashians - Meet the Kardashians)\n",
      "[20.00] LAMAR: I'm going to need it.\n",
      "\t(Keeping Up With the Kardashians - I Want Your Sex)\n",
      "\n"
     ]
    }
   ],
   "source": [
    "# This is an autograder test. Here we can test the function you just wrote above.\n",
    "score, _ = edit_distance_search(queries[1], flat_msgs)[0]\n",
    "assert score >=38 and score <=46\n",
    "\n",
    "\n",
    "top_10 = []\n",
    "for query in queries:\n",
    "    print(\"#\" * len(query))\n",
    "    print(query)\n",
    "    print(\"#\" * len(query))\n",
    "\n",
    "    for score, msg in edit_distance_search(query, flat_msgs)[:10]:\n",
    "        print(\"[{:.2f}] {}: {}\\n\\t({})\".format(\n",
    "            score,\n",
    "            msg['speaker'],\n",
    "            msg['text'],\n",
    "            msg['episode_title']))\n",
    "        top_10.append(msg)\n",
    "    print()\n"
   ]
  },
  {
   "cell_type": "markdown",
   "metadata": {
    "deletable": false,
    "editable": false,
    "nbgrader": {
     "checksum": "94ca697078506a1a3f3e7cf64a2a0794",
     "grade": false,
     "grade_id": "cell-35b2924e9ef15b92",
     "locked": true,
     "schema_version": 1,
     "solution": false
    }
   },
   "source": [
    "### Q2.2 Query Discussion and Analysis (Free Response)\n",
    "\n",
    "Run the search using the code provided. Discuss why it worked, or why it might not have worked, for each query. Do you notice anything different about the costs to those discussed in lecture? Please fill out the table below with the costs from running the Levenshtein algorithm discussed in lecture and the cost from using the python Levenshtein package.\n",
    "\n",
    "Copy-and-paste this markdown table into the cell below for your answers:\n",
    "```\n",
    "| Operation    | Cost (Lecture)|  Cost (python-Levenshtein)  | Example\n",
    "| :----------: |:------------- | :-------------------------- | --------\n",
    "| Addition     | YOUR ANSWER 1 | YOUR ANSWER 5               | \"aa\" -> \"aab\"\n",
    "| Deletion     | YOUR ANSWER 2 | YOUR ANSWER 6               | \"aa\" -> \"a\"\n",
    "| Substitution | YOUR ANSWER 3 | YOUR ANSWER 7               | \"aa\" -> \"aa\"\n",
    "| Substitution | YOUR ANSWER 4 | YOUR ANSWER 8               | \"aa\" -> \"ab\"\n",
    "```"
   ]
  },
  {
   "cell_type": "markdown",
   "metadata": {
    "deletable": false,
    "nbgrader": {
     "checksum": "8ccb48deecee0e5b36c40975b4a2a6b4",
     "grade": true,
     "grade_id": "cell-9f640f0b2d2bf32a",
     "locked": false,
     "points": 15,
     "schema_version": 1,
     "solution": true
    }
   },
   "source": [
    "```\n",
    "| Operation    | Cost (Lecture)|  Cost (python-Levenshtein)  | Example\n",
    "| :----------: |:------------- | :-------------------------- | --------\n",
    "| Addition     |       1       |             1               | \"aa\" -> \"aab\"\n",
    "| Deletion     |       1       |             1               | \"aa\" -> \"a\"\n",
    "| Substitution |       0       |             0               | \"aa\" -> \"aa\"\n",
    "| Substitution |       2       |             1               | \"aa\" -> \"ab\"\n",
    "```"
   ]
  },
  {
   "cell_type": "markdown",
   "metadata": {
    "deletable": false,
    "editable": false,
    "nbgrader": {
     "checksum": "3e4d0e8cd70ed44f5ce163e4c599e369",
     "grade": false,
     "grade_id": "cell-095f34e0dd5c9cc5",
     "locked": true,
     "schema_version": 1,
     "solution": false
    }
   },
   "source": [
    "### Q3 Print the changes that need to be done to each quote to make it look like the closest match.\n",
    "\n",
    "We've provided some code below that displays the edits that need to be made to a string to transform it into another string. (Yes, we've done most of the work for you!) Your job in this assignment is visualize the edits for the 4 queries at the top of this assignment to get a feel for how edit distance is working. Use the top matches you found in Q2. Include a short discussion of what seems to work well and what doesn't seem to work well."
   ]
  },
  {
   "cell_type": "code",
   "execution_count": 26,
   "metadata": {
    "deletable": false,
    "editable": false,
    "nbgrader": {
     "checksum": "ac3ba9b0e937ec4f554b532b1e563112",
     "grade": false,
     "grade_id": "cell-dc68b6ed8abd84dc",
     "locked": true,
     "schema_version": 1,
     "solution": false
    }
   },
   "outputs": [
    {
     "name": "stdout",
     "output_type": "stream",
     "text": [
      "[('replace', 0, 0), ('replace', 2, 2), ('replace', 3, 3), ('delete', 5, 5), ('replace', 6, 5)]\n"
     ]
    }
   ],
   "source": [
    "a = \"kardashians\"\n",
    "b = \"dalmatians\"\n",
    "edits = Levenshtein.editops(a, b)\n",
    "print(edits)"
   ]
  },
  {
   "cell_type": "code",
   "execution_count": 27,
   "metadata": {
    "deletable": false,
    "editable": false,
    "nbgrader": {
     "checksum": "1636dbcf7fe6727e93944da7c78f3d77",
     "grade": false,
     "grade_id": "cell-98bdbd514bece3b7",
     "locked": true,
     "schema_version": 1,
     "solution": false
    }
   },
   "outputs": [],
   "source": [
    "def print_edits(str_a, str_b, edits):\n",
    "    output = [[char] for char in str_a]\n",
    "    indices = np.arange(len(str_a) + 1)\n",
    "    for op, src, dest in edits:\n",
    "        if op == 'insert':\n",
    "            src = indices[src]\n",
    "            output.insert(src, [\"<span class='add'>{}</span>\".format(str_b[dest])])\n",
    "            indices += 1\n",
    "        elif op == 'replace':\n",
    "            src = indices[src]\n",
    "            src_char = output[src][0]\n",
    "            output[src] = output[src][1:]\n",
    "            output[src].append(\"<span class='del'>{}</span><span class='add'>{}</span>\".format(src_char, str_b[dest]))\n",
    "        elif op == 'delete':\n",
    "            src = indices[src]\n",
    "            src_char = output[src].pop()\n",
    "            output[src].append(\"<span class='del'>{}</span>\".format(src_char))\n",
    "    \n",
    "    return \"<div class='edit'>{}</div>\".format(\"\".join(\"\".join(stack) for stack in output))"
   ]
  },
  {
   "cell_type": "code",
   "execution_count": 28,
   "metadata": {
    "deletable": false,
    "editable": false,
    "nbgrader": {
     "checksum": "97e5c44b0221c9bad305003322070e93",
     "grade": false,
     "grade_id": "cell-dd1d265d153c7b31",
     "locked": true,
     "schema_version": 1,
     "solution": false
    }
   },
   "outputs": [],
   "source": [
    "from IPython.display import HTML"
   ]
  },
  {
   "cell_type": "code",
   "execution_count": 29,
   "metadata": {
    "deletable": false,
    "editable": false,
    "nbgrader": {
     "checksum": "ac87e9091ef9a37d00957b32e9775ae2",
     "grade": false,
     "grade_id": "cell-ba6a0826e0bee02f",
     "locked": true,
     "schema_version": 1,
     "solution": false
    }
   },
   "outputs": [
    {
     "data": {
      "text/html": [
       "\n",
       "<style type=\"text/css\">\n",
       "\n",
       ".edit {font-size: 20px;}\n",
       ".del {text-decoration: line-through; color: #aaa;}\n",
       ".add {color: green; font-weight: bold;}\n",
       "</style>\n"
      ],
      "text/plain": [
       "<IPython.core.display.HTML object>"
      ]
     },
     "execution_count": 29,
     "metadata": {},
     "output_type": "execute_result"
    }
   ],
   "source": [
    "HTML(\"\"\"\n",
    "<style type=\"text/css\">\n",
    "\n",
    ".edit {font-size: 20px;}\n",
    ".del {text-decoration: line-through; color: #aaa;}\n",
    ".add {color: green; font-weight: bold;}\n",
    "</style>\n",
    "\"\"\")"
   ]
  },
  {
   "cell_type": "code",
   "execution_count": 30,
   "metadata": {
    "deletable": false,
    "editable": false,
    "nbgrader": {
     "checksum": "b58c7be132a3f748842c7c539e5265dd",
     "grade": false,
     "grade_id": "cell-69e376681f7b56c7",
     "locked": true,
     "schema_version": 1,
     "solution": false
    }
   },
   "outputs": [
    {
     "data": {
      "text/html": [
       "<div class='edit'><span class='del'>k</span><span class='add'>d</span>a<span class='del'>r</span><span class='add'>l</span><span class='del'>d</span><span class='add'>m</span>a<span class='del'>s</span><span class='del'>h</span><span class='add'>t</span>ians</div>"
      ],
      "text/plain": [
       "<IPython.core.display.HTML object>"
      ]
     },
     "execution_count": 30,
     "metadata": {},
     "output_type": "execute_result"
    }
   ],
   "source": [
    "HTML(print_edits(a, b, edits))"
   ]
  },
  {
   "cell_type": "markdown",
   "metadata": {
    "deletable": false,
    "editable": false,
    "nbgrader": {
     "checksum": "5c727f47956e2b05a984dd987e1acd64",
     "grade": false,
     "grade_id": "cell-348904e56153d89c",
     "locked": true,
     "schema_version": 1,
     "solution": false
    }
   },
   "source": [
    "Visualize the edits for the 4 queries at the top of this assignment. You need to use the display() method to render the HTML for the edit visualization."
   ]
  },
  {
   "cell_type": "code",
   "execution_count": 40,
   "metadata": {
    "deletable": false,
    "nbgrader": {
     "checksum": "a20d714788924ad8e05aff97ee6ac07d",
     "grade": true,
     "grade_id": "cell-69666c4a403e09f1",
     "locked": false,
     "points": 10,
     "schema_version": 1,
     "solution": true
    }
   },
   "outputs": [
    {
     "name": "stdout",
     "output_type": "stream",
     "text": [
      "#################################################################\n",
      "It's like a bunch of people running around talking about nothing.\n",
      "#################################################################\n"
     ]
    },
    {
     "data": {
      "text/html": [
       "<div class='edit'>It's like a bunch of people running around talking about nothing.</div>"
      ],
      "text/plain": [
       "<IPython.core.display.HTML object>"
      ]
     },
     "metadata": {},
     "output_type": "display_data"
    },
    {
     "name": "stdout",
     "output_type": "stream",
     "text": [
      "#############################################################################################\n",
      "Never say to a famous person that this possible endorsment would bring 'er to the spot light.\n",
      "#############################################################################################\n"
     ]
    },
    {
     "data": {
      "text/html": [
       "<div class='edit'><span class='del'>N</span><span class='add'>Y</span><span class='del'>e</span><span class='add'>o</span><span class='del'>v</span><span class='add'>u</span><span class='del'>e</span><span class='add'> </span><span class='del'>r</span><span class='add'>d</span><span class='del'> </span><span class='add'>o</span><span class='del'>s</span><span class='add'>n</span><span class='del'>a</span><span class='add'>'</span><span class='del'>y</span><span class='add'>t</span> t<span class='add'>e</span><span class='add'>l</span><span class='del'>o</span><span class='add'>l</span> a<span class='add'>n</span> <span class='add'>i</span><span class='add'>n</span><span class='add'>t</span><span class='add'>e</span><span class='add'>r</span><span class='del'>f</span><span class='add'>n</span>a<span class='add'>t</span><span class='del'>m</span><span class='add'>i</span>o<span class='add'>n</span><span class='del'>u</span><span class='add'>a</span><span class='del'>s</span><span class='add'>l</span> <span class='del'>p</span><span class='add'>c</span>e<span class='add'>l</span><span class='add'>e</span><span class='add'>b</span>r<span class='del'>s</span><span class='add'>i</span><span class='del'>o</span><span class='add'>t</span><span class='del'>n</span><span class='add'>y</span> that this possible endors<span class='add'>e</span>ment <span class='del'>w</span><span class='add'>c</span>ould bring <span class='del'>'</span><span class='add'>h</span>er <span class='add'>b</span><span class='add'>a</span><span class='add'>c</span><span class='add'>k</span><span class='add'> </span><span class='add'>i</span><span class='add'>n</span>to the spot<span class='del'> </span>light.</div>"
      ],
      "text/plain": [
       "<IPython.core.display.HTML object>"
      ]
     },
     "metadata": {},
     "output_type": "display_data"
    },
    {
     "name": "stdout",
     "output_type": "stream",
     "text": [
      "####################################\n",
      "Your yapping is making my head ache!\n",
      "####################################\n"
     ]
    },
    {
     "data": {
      "text/html": [
       "<div class='edit'>Your yappi<span class='add'>t</span><span class='add'>y</span><span class='add'> </span><span class='add'>v</span><span class='add'>o</span><span class='add'>i</span><span class='del'>n</span><span class='add'>c</span><span class='del'>g</span><span class='add'>e</span> is <span class='del'>m</span><span class='add'>g</span><span class='del'>a</span><span class='add'>i</span><span class='del'>k</span><span class='add'>v</span>ing m<span class='add'>e</span><span class='add'> </span><span class='del'>y</span><span class='add'>a</span> head<span class='del'> </span>ache!</div>"
      ],
      "text/plain": [
       "<IPython.core.display.HTML object>"
      ]
     },
     "metadata": {},
     "output_type": "display_data"
    },
    {
     "name": "stdout",
     "output_type": "stream",
     "text": [
      "######################################\n",
      "I'm going to Maryland, did I tell you?\n",
      "######################################\n"
     ]
    },
    {
     "data": {
      "text/html": [
       "<div class='edit'>I'm going to <span class='del'>M</span><span class='add'>g</span><span class='del'>a</span><span class='add'>o</span><span class='del'>r</span><span class='add'> </span><span class='del'>y</span><span class='add'>p</span>la<span class='del'>n</span><span class='del'>d</span><span class='del'>,</span><span class='add'>y</span> <span class='del'>d</span><span class='add'>w</span>i<span class='del'>d</span><span class='del'> </span><span class='del'>I</span><span class='del'> </span>t<span class='del'>e</span><span class='del'>l</span><span class='del'>l</span><span class='add'>h</span> <span class='del'>y</span><span class='add'>R</span>o<span class='del'>u</span><span class='add'>b</span><span class='del'>?</span><span class='add'>.</span></div>"
      ],
      "text/plain": [
       "<IPython.core.display.HTML object>"
      ]
     },
     "metadata": {},
     "output_type": "display_data"
    }
   ],
   "source": [
    "i = 0\n",
    "for query in queries:\n",
    "    print(\"#\" * len(query))\n",
    "    print(query)\n",
    "    print(\"#\" * len(query))\n",
    "    \n",
    "    # YOUR CODE HERE\n",
    "    display(HTML(print_edits(query, top_10[i]['text'], Levenshtein.editops(query, top_10[i]['text']))))\n",
    "    i += 10\n",
    "    #raise NotImplementedError()"
   ]
  },
  {
   "cell_type": "markdown",
   "metadata": {
    "deletable": false,
    "editable": false,
    "nbgrader": {
     "checksum": "94487948e248664c2d2c5a6bf9694b36",
     "grade": false,
     "grade_id": "cell-81c2941ca723a8c2",
     "locked": true,
     "schema_version": 1,
     "solution": false
    }
   },
   "source": [
    "### Q4 Changing the costs (Free Response)\n",
    "\n",
    "As you may have noticed, the Levenshtein package did not provide a way to customize costs.\n",
    "Below we provide you code that calculates Levenstein distance between two different strings with customizable insertion, deletion, and substitution costs. Try a few simple manipulations of costs and observe how this affects the Levenshtein distance. Why does the below example have its Levenshtein distance go down? "
   ]
  },
  {
   "cell_type": "code",
   "execution_count": 41,
   "metadata": {
    "deletable": false,
    "editable": false,
    "nbgrader": {
     "checksum": "d7ead132e53c1fa03f605acf33129d3b",
     "grade": false,
     "grade_id": "cell-c2e94fe2c06f40f0",
     "locked": true,
     "schema_version": 1,
     "solution": false
    }
   },
   "outputs": [],
   "source": [
    "def edit_distance(query, message,insertion_cost=1,deletion_cost=1,substitution_cost=2):\n",
    "    \"\"\" Edit distance calculator\n",
    "    \n",
    "    Arguments\n",
    "    =========\n",
    "    \n",
    "    query: query string,\n",
    "        \n",
    "    message: message string,\n",
    "    \n",
    "    insertion_cost: cost of insertion,\n",
    "    \n",
    "    deletion_cost: cost of deletion,\n",
    "    \n",
    "    substitution_cost: cost of substitution\n",
    "    \n",
    "    Returns\n",
    "    \"\"\"\n",
    "    \n",
    "    m = len(query) + 1\n",
    "    n = len(message) + 1\n",
    "\n",
    "    chart = {}\n",
    "    for i in range(m): chart[i,0] = i\n",
    "    for j in range(n): chart[0,j] = j\n",
    "    for i in range(1, m):\n",
    "        for j in range(1, n):\n",
    "            chart[i, j] = min(\n",
    "                chart[i, j-1] + insertion_cost,\n",
    "                chart[i-1, j] + deletion_cost,\n",
    "                chart[i-1, j-1] + (0 if query[i-1] == message[j-1] else substitution_cost)\n",
    "            )\n",
    "    return chart[i, j]"
   ]
  },
  {
   "cell_type": "code",
   "execution_count": 42,
   "metadata": {
    "deletable": false,
    "editable": false,
    "nbgrader": {
     "checksum": "4c6d3d0bbd20bd6259a78b90632c8378",
     "grade": false,
     "grade_id": "cell-305924041b7ac97d",
     "locked": true,
     "schema_version": 1,
     "solution": false
    }
   },
   "outputs": [
    {
     "name": "stdout",
     "output_type": "stream",
     "text": [
      "8\n",
      "5\n"
     ]
    }
   ],
   "source": [
    "print(edit_distance(\"birthday\",\"sunday\"))\n",
    "print(edit_distance(\"birthday\",\"sunday\",insertion_cost=5,deletion_cost=1,substitution_cost=1))"
   ]
  },
  {
   "cell_type": "markdown",
   "metadata": {
    "deletable": false,
    "editable": false,
    "nbgrader": {
     "checksum": "06180bf8ffdf9aa7c9c98be028ca3156",
     "grade": false,
     "grade_id": "cell-4b707874f25a1fd3",
     "locked": true,
     "schema_version": 1,
     "solution": false
    }
   },
   "source": [
    "#### Why does the above example have its Levenshtein distance go down?\n",
    "\n"
   ]
  },
  {
   "cell_type": "markdown",
   "metadata": {
    "deletable": false,
    "nbgrader": {
     "checksum": "5ef8998a284c1629da5211a87fe5aca4",
     "grade": true,
     "grade_id": "cell-c97e07d7ceca23c2",
     "locked": false,
     "points": 10,
     "schema_version": 1,
     "solution": true
    }
   },
   "source": [
    "This is because insertion operation is not used in either of the two methods above. In the second method, cost of substitution reduced by 1. Since we substituted three characters, the total cost went down by 3."
   ]
  },
  {
   "cell_type": "markdown",
   "metadata": {
    "deletable": false,
    "editable": false,
    "nbgrader": {
     "checksum": "71234e84e87acacf3dfcc874dca583df",
     "grade": false,
     "grade_id": "cell-35a2c0898a683f39",
     "locked": true,
     "schema_version": 1,
     "solution": false
    }
   },
   "source": [
    "### Q5 Changing the costs depending on the characters (Free Response)\n",
    "\n",
    "Sometimes we might want to alter the penalty depending on the type of change we are making. Modify the function so that vowel-vowel and consonant-consonant substitutions now cost 1.5 instead of 2. (All other costs are unaffected.)\n",
    "\n",
    "Recalculate the top ten closest matches for each query.\n",
    "\n",
    "***Note: This (more transparent) implementation is considerably slower than the python-Levenshtein package. For this reason we will not run it on all the data, but only on the subset of quotes returned in Q2.1***"
   ]
  },
  {
   "cell_type": "code",
   "execution_count": 63,
   "metadata": {
    "deletable": false,
    "nbgrader": {
     "checksum": "01de9f56624acbb2f331e8c0733efe42",
     "grade": false,
     "grade_id": "cell-96b21688210f883a",
     "locked": false,
     "schema_version": 1,
     "solution": true
    }
   },
   "outputs": [],
   "source": [
    "###############################################################\n",
    "### Code completion: Write a function to change the penalty ###\n",
    "### for vowel-vowel and consontant-consonant edits!         ###\n",
    "###############################################################\n",
    "\n",
    "def subs_cost(query,message,i,j):\n",
    "    VOWELS = {'a','e', 'i', 'o', 'u'}\n",
    "    # YOUR CODE HERE\n",
    "    if query[i-1] == message[j-1]:\n",
    "        return 0\n",
    "    if ((query[i-1] in VOWELS) and (message[j-1] in VOWELS)) \\\n",
    "    or ((query[i-1] not in VOWELS) and (message[j-1] not in VOWELS)):\n",
    "            return 1.5\n",
    "    else:\n",
    "            return 2\n",
    "    raise NotImplementedError()"
   ]
  },
  {
   "cell_type": "code",
   "execution_count": 64,
   "metadata": {
    "deletable": false,
    "editable": false,
    "nbgrader": {
     "checksum": "50287a35527e8abfea0684e965f01a2d",
     "grade": false,
     "grade_id": "cell-427b2e535bf17811",
     "locked": true,
     "schema_version": 1,
     "solution": false
    }
   },
   "outputs": [],
   "source": [
    "def edit_distance(query, message, insertion_cost=1, deletion_cost=1, substitution_cost=subs_cost):\n",
    "    \"\"\" Edit distance calculator\n",
    "    \n",
    "    Arguments\n",
    "    =========\n",
    "    \n",
    "    query: query string,\n",
    "        \n",
    "    message: message string,\n",
    "    \n",
    "    insertion_cost: cost of insertion,\n",
    "    \n",
    "    deletion_cost: cost of deletion,\n",
    "    \n",
    "    substitution_cost: function of substitution cost\n",
    "    \n",
    "    Returns\n",
    "    \"\"\"\n",
    "    \n",
    "    query = query.lower()\n",
    "    message = message.lower()\n",
    "    m = len(query) + 1\n",
    "    n = len(message) + 1\n",
    "\n",
    "    chart = {}\n",
    "    for i in range(m): chart[i,0] = i\n",
    "    for j in range(n): chart[0,j] = j\n",
    "    for i in range(1, m):\n",
    "        for j in range(1, n):\n",
    "            chart[i, j] = min(\n",
    "                chart[i, j-1] + insertion_cost,\n",
    "                chart[i-1, j] + deletion_cost,\n",
    "                chart[i-1, j-1] + subs_cost(query,message,i,j)\n",
    "            )\n",
    "    return chart[i, j]\n",
    "    "
   ]
  },
  {
   "cell_type": "code",
   "execution_count": 65,
   "metadata": {
    "deletable": false,
    "editable": false,
    "nbgrader": {
     "checksum": "597af873726cd2996830a6f062d6deca",
     "grade": true,
     "grade_id": "cell-76737b6a95fecfd5",
     "locked": true,
     "points": 15,
     "schema_version": 1,
     "solution": false
    }
   },
   "outputs": [
    {
     "name": "stdout",
     "output_type": "stream",
     "text": [
      "#################################################################\n",
      "It's like a bunch of people running around talking about nothing.\n",
      "#################################################################\n",
      "[0.00] BRUCE: It's like a bunch of people running around talking about nothing.\n",
      "\t(Keeping Up With the Kardashians - Kourt's First Cover)\n",
      "[36.50] KRIS: It's not a bunch of teenagers running around.\n",
      "\t(Keeping Up With the Kardashians - Kris ``The Cougar'' Jenner)\n",
      "[39.00] KHLOE: It's like, what are you talking about?\n",
      "\t(The Wedding: Keeping Up With the Kardashians)\n",
      "[43.00] KHLOE: It's like I want to learn how to do that.\n",
      "\t(Keeping Up With the Kardashians - Distance Makes the Heart Grow Fonder)\n",
      "[43.00] KOURTNEY: It's like an explosion in your pantyhose.\n",
      "\t(Keeping Up With the Kardashians - I'd Rather Go Naked... Or Shopping)\n",
      "[43.50] KIM: It's like it has separation anxiety or something.\n",
      "\t(Keeping Up With the Kardashians - Shape Up or Ship Out)\n",
      "[44.00] BRUCE: That's why you're running around wearing black.\n",
      "\t(Keeping Up With the Kardashians - I'd Rather Go Naked... Or Shopping)\n",
      "[44.00] BRUCE: That's why you're running around wearing black.\n",
      "\t(Keeping Up With the Kardashians - Kourt's First Cover)\n",
      "[47.00] ROB: I have a bunch of connections in the industry.\n",
      "\t(Keeping Up With the Kardashians - Must Love Dogs)\n",
      "[47.00] ROB: I have a bunch of connections in the industry.\n",
      "\t(Keeping Up With the Kardashians - Must Love Dogs)\n",
      "\n",
      "#############################################################################################\n",
      "Never say to a famous person that this possible endorsment would bring 'er to the spot light.\n",
      "#############################################################################################\n",
      "[52.00] SIMON: You don't tell an international celebrity that this possible endorsement could bring her back into the spotlight.\n",
      "\t(Keeping Up With the Kardashians - Delivering Baby Mason)\n",
      "[71.00] KIM: I didn't want to go on this trip and I'm not talking to them at all.\n",
      "\t(Keeping Up With the Kardashians - Kardashian Civil War)\n",
      "[71.50] ALEX: I feel like people want to see you, like, back in the spotlight.\n",
      "\t(Keeping Up With the Kardashians - Delivering Baby Mason)\n",
      "[71.50] KHLOE: Trust me, this is the most entertaining part of the entire night.\n",
      "\t(Keeping Up With the Kardashians - Birthday Suit)\n",
      "[72.50] ELIZABETH: I reminded you this morning that you needed to bring the designs.\n",
      "\t(Keeping Up With the Kardashians - Family vs. Money)\n",
      "[73.00] BRUCE: You know, I've seen her do this before, and it's just not right.\n",
      "\t(Keeping Up With the Kardashians - Baby Blues)\n",
      "[74.00] BRUCE: Everything's going to be fine.\n",
      "\t(Keeping Up With the Kardashians - The Missing Ring)\n",
      "[76.00] KRIS: You need to trust that I actually know what I'm doing at some point.\n",
      "\t(Keeping Up With the Kardashians - Blame It on the Alcohol)\n",
      "[76.00] DAVID: We're gonna take a look at these Polaroids, and then we'll be right with you.\n",
      "\t(Keeping Up With the Kardashians - Khloe's Blind Dates)\n",
      "[77.50] KHLOE: It's like I want to learn how to do that.\n",
      "\t(Keeping Up With the Kardashians - Distance Makes the Heart Grow Fonder)\n",
      "\n",
      "####################################\n",
      "Your yapping is making my head ache!\n",
      "####################################\n",
      "[18.00] KIM: Your yappity voice is giving me a headache!\n",
      "\t(Keeping Up With the Kardashians - Shape Up or Ship Out)\n",
      "[18.00] KIM: Your yappity voice is giving me a headache!\n",
      "\t(Keeping Up With the Kardashians - Shape Up or Ship Out)\n",
      "[24.00] KIM: You want to make peace?\n",
      "\t(Keeping Up With the Kardashians - Family vs. Money)\n",
      "[26.00] KRIS: You're going to make a scene.\n",
      "\t(Keeping Up With the Kardashians - What's Yours Is Mine)\n",
      "[26.50] BRUCE: You're diving in for the cash?\n",
      "\t(Keeping Up With the Kardashians - Shape Up or Ship Out)\n",
      "[27.50] BRUCE: You're diving in for   the  cash?\n",
      "\t(Keeping Up With the Kardashians - Shape Up or Ship Out)\n",
      "[29.00] KHLOE: You are walking me me down...\n",
      "\t(Keeping Up With the Kardashians - The Wedding)\n",
      "[29.00] KHLOE: You are walking me me down...\n",
      "\t(The Wedding: Keeping Up With the Kardashians)\n",
      "[29.50] KHLOE: Your secret is safe with me.\n",
      "\t(Keeping Up With the Kardashians - Shape Up or Ship Out)\n",
      "[30.00] BRUCE: Everything's going to be fine.\n",
      "\t(Keeping Up With the Kardashians - The Missing Ring)\n",
      "\n",
      "######################################\n",
      "I'm going to Maryland, did I tell you?\n",
      "######################################\n",
      "[22.00] LAMAR: I'm going to need it.\n",
      "\t(Keeping Up With the Kardashians - I Want Your Sex)\n",
      "[22.50] ROB: I'm going to tell her.\n",
      "\t(Keeping Up With the Kardashians - Meet the Kardashians)\n",
      "[23.50] LAMAR: I'm going to go play with Rob.\n",
      "\t(Keeping Up With the Kardashians - Blind Date)\n",
      "[24.00] KHLOE: I'm going to move to New York.\n",
      "\t(Keeping Up With the Kardashians - Distance Makes the Heart Grow Fonder)\n",
      "[24.00] KHLOE: I'm going to move to New York.\n",
      "\t(Keeping Up With the Kardashians - Free Khloe)\n",
      "[24.50] SCOTT: I'm going to have six or seven?\n",
      "\t(Keeping Up With the Kardashians - The Wedding)\n",
      "[24.50] SCOTT: I'm going to have six or seven?\n",
      "\t(The Wedding: Keeping Up With the Kardashians)\n",
      "[24.50] KRIS: I'm going to lunch with Lisa.\n",
      "\t(The Wedding: Keeping Up With the Kardashians)\n",
      "[24.50] FRIEND: I'm going to get canned inside.\n",
      "\t(Keeping Up With the Kardashians - Shape Up or Ship Out)\n",
      "[24.50] FRIEND: I'm going to get canned inside.\n",
      "\t(Keeping Up With the Kardashians - Shape Up or Ship Out)\n",
      "\n"
     ]
    }
   ],
   "source": [
    "# This is an autograder test. Here we can test the function you just wrote above.\n",
    "score, _ = edit_distance_search(queries[1], top_10)[0]\n",
    "assert score >= 48 and score <= 56\n",
    "\n",
    "\n",
    "for query in queries:\n",
    "    print(\"#\" * len(query))\n",
    "    print(query)\n",
    "    print(\"#\" * len(query))\n",
    "\n",
    "    for score, msg in edit_distance_search(query, top_10)[:10]:\n",
    "        print(\"[{:.2f}] {}: {}\\n\\t({})\".format(\n",
    "            score,\n",
    "            msg['speaker'],\n",
    "            msg['text'],\n",
    "            msg['episode_title']))\n",
    "    print()"
   ]
  },
  {
   "cell_type": "markdown",
   "metadata": {
    "deletable": false,
    "editable": false,
    "nbgrader": {
     "checksum": "2774972ac8f7c517a0bfb2c36c284930",
     "grade": false,
     "grade_id": "cell-b745a6fca4a1e72e",
     "locked": true,
     "schema_version": 1,
     "solution": false
    }
   },
   "source": [
    "#### Why didn't we have to worry about also changing insertion and deletion costs? (Given that we know a substitution can be achieved by an insertion and a deletion.) What would be  a similar alteration where we would need to also change the insertion and deletion costs?"
   ]
  },
  {
   "cell_type": "markdown",
   "metadata": {
    "deletable": false,
    "nbgrader": {
     "checksum": "eb797f2570fd679cd95df667a79a3943",
     "grade": true,
     "grade_id": "cell-4970e93717625803",
     "locked": false,
     "points": 10,
     "schema_version": 1,
     "solution": true
    }
   },
   "source": [
    "Because for every step, the extra cost would be the minimum of three different operations. Since the new sub_cost is 1.5 or 2.0, which is always less or equal to the sum of the cost of a insertion and a deletion, we don't have to worry about changing insertion and deletion costs. If the new sub_cost is more than 2, then we need to take insertion and deletion costs into consideration."
   ]
  }
 ],
 "metadata": {
  "anaconda-cloud": {},
  "kernelspec": {
   "display_name": "venv",
   "language": "python",
   "name": "venv"
  },
  "language_info": {
   "codemirror_mode": {
    "name": "ipython",
    "version": 3
   },
   "file_extension": ".py",
   "mimetype": "text/x-python",
   "name": "python",
   "nbconvert_exporter": "python",
   "pygments_lexer": "ipython3",
   "version": "3.5.2"
  }
 },
 "nbformat": 4,
 "nbformat_minor": 1
}
